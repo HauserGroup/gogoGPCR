{
 "cells": [
  {
   "cell_type": "code",
   "execution_count": 61,
   "id": "8336b850",
   "metadata": {},
   "outputs": [],
   "source": [
    "import dxdata\n",
    "import dxpy\n",
    "import hail as hl\n",
    "\n",
    "import pyspark\n",
    "import tomli\n",
    "import subprocess\n",
    "from matrixtables import *\n",
    "from utils import get_stats\n",
    "from datetime import datetime\n",
    "from pprint import pprint\n",
    "\n",
    "Path(\"../tmp\").resolve().mkdir(parents=True, exist_ok=True)"
   ]
  },
  {
   "cell_type": "code",
   "execution_count": 7,
   "id": "bf271da9",
   "metadata": {},
   "outputs": [],
   "source": [
    "# Parameters\n",
    "with open(\"../config.toml\", \"rb\") as f:\n",
    "    conf = tomli.load(f)\n",
    "\n",
    "IMPORT = conf[\"IMPORT\"]\n",
    "NAME = conf[\"NAME\"]\n",
    "VCF_VERSION = IMPORT[\"VCF_VERSION\"]\n",
    "REFERENCE_GENOME = conf[\"REFERENCE_GENOME\"]\n",
    "DATABASE = IMPORT[\"DATABASE\"]\n",
    "\n",
    "LOG_FILE = (\n",
    "    Path(IMPORT[\"LOG_DIR\"], f\"{NAME}_{datetime.now().strftime('%H%M')}.log\")\n",
    "    .resolve()\n",
    "    .__str__()\n",
    ")\n",
    "\n",
    "GENE_FILE = Path(IMPORT[\"GENE_FILE\"]).resolve().__str__()\n",
    "\n",
    "with open(GENE_FILE, \"r\") as file:\n",
    "    genes = file.read().splitlines()\n",
    "    \n",
    "if NAME == \"NONE\":\n",
    "    NAME = genes[0]"
   ]
  },
  {
   "cell_type": "code",
   "execution_count": 6,
   "id": "3f2fa14c",
   "metadata": {},
   "outputs": [
    {
     "name": "stderr",
     "output_type": "stream",
     "text": [
      "pip-installed Hail requires additional configuration options in Spark referring\n",
      "  to the path to the Hail Python module directory HAIL_DIR,\n",
      "  e.g. /path/to/python/site-packages/hail:\n",
      "    spark.jars=HAIL_DIR/hail-all-spark.jar\n",
      "    spark.driver.extraClassPath=HAIL_DIR/hail-all-spark.jar\n",
      "    spark.executor.extraClassPath=./hail-all-spark.jarRunning on Apache Spark version 2.4.4\n",
      "SparkUI available at http://ip-10-60-116-223.eu-west-2.compute.internal:8081\n",
      "Welcome to\n",
      "     __  __     <>__\n",
      "    / /_/ /__  __/ /\n",
      "   / __  / _ `/ / /\n",
      "  /_/ /_/\\_,_/_/_/   version 0.2.61-3c86d3ba497a\n",
      "LOGGING: writing to /opt/notebooks/gogoGPCR/hail_logs/NONE_1018.log\n"
     ]
    }
   ],
   "source": [
    "# Spark and Hail\n",
    "\n",
    "sc = pyspark.SparkContext()\n",
    "spark = pyspark.sql.SparkSession(sc)\n",
    "\n",
    "mt_database = dxpy.find_one_data_object(name=DATABASE)[\"id\"]\n",
    "hl.init(sc=sc, default_reference=REFERENCE_GENOME, log=LOG_FILE)"
   ]
  },
  {
   "cell_type": "code",
   "execution_count": 13,
   "id": "bc304893",
   "metadata": {},
   "outputs": [
    {
     "name": "stdout",
     "output_type": "stream",
     "text": [
      "'297 variants and 200643 samples after reading matrixtable'\n"
     ]
    }
   ],
   "source": [
    "STAGE = \"QC1\"\n",
    "READ_PATH = \"dnax://\" + mt_database + f\"/{NAME}.{STAGE}.mt\"\n",
    "\n",
    "mt = hl.read_matrix_table(READ_PATH)\n",
    "\n",
    "v, s = mt.count()\n",
    "pprint(f\"{v} variants and {s} samples after reading matrixtable\")"
   ]
  },
  {
   "cell_type": "code",
   "execution_count": 18,
   "id": "277320dd",
   "metadata": {},
   "outputs": [
    {
     "name": "stderr",
     "output_type": "stream",
     "text": [
      "2021-11-29 10:23:20 Hail: INFO: Reading table to impute column types\n",
      "2021-11-29 10:23:23 Hail: INFO: Loading 50 fields. Counts by type:\n",
      "  str: 41\n",
      "  int32: 9\n"
     ]
    }
   ],
   "source": [
    "ht = hl.import_table(\"file:\" + \"/mnt/project/data/annotations/DRD2.tsv\", impute=True).key_by(\"AA consequence\")"
   ]
  },
  {
   "cell_type": "code",
   "execution_count": 21,
   "id": "52fb4799",
   "metadata": {},
   "outputs": [],
   "source": [
    "mt = mt.annotate_rows(annotations=ht[mt.protCons])"
   ]
  },
  {
   "cell_type": "code",
   "execution_count": 23,
   "id": "ca9887bf",
   "metadata": {},
   "outputs": [],
   "source": [
    "mt = mt.annotate_rows(\n",
    "        Gi1=mt.annotations.number_of_impairments_Gi1 > 0,\n",
    "        GoA=mt.annotations.number_of_impairments_GoA > 0,\n",
    "        Gz=mt.annotations.number_of_impairments_Gz > 0,\n",
    "    )\n",
    "\n",
    "mt = mt.annotate_rows(\n",
    "    labels=hl.case()\n",
    "    .when(~mt.Gi1 & ~mt.GoA & ~mt.Gz, \"WT\")\n",
    "    .when(mt.Gi1 & ~mt.GoA & ~mt.Gz, \"Gi1\")\n",
    "    .when(~mt.Gi1 & mt.GoA & ~mt.Gz, \"GoA\")\n",
    "    .when(~mt.Gi1 & ~mt.GoA & mt.Gz, \"Gz\")\n",
    "    .when(mt.Gi1 & mt.GoA & ~mt.Gz, \"Gi1_GoA\")\n",
    "    .when(mt.Gi1 & ~mt.GoA & mt.Gz, \"Gi1_Gz\")\n",
    "    .when(~mt.Gi1 & mt.GoA & mt.Gz, \"GoA_Gz\")\n",
    "    .when(mt.Gi1 & mt.GoA & mt.Gz, \"Gi1_GoA_Gz\")\n",
    "    .or_missing()\n",
    ")"
   ]
  },
  {
   "cell_type": "code",
   "execution_count": 56,
   "id": "c9f37407",
   "metadata": {},
   "outputs": [
    {
     "name": "stderr",
     "output_type": "stream",
     "text": [
      "2021-11-29 10:39:46 Hail: INFO: Ordering unsorted dataset with network shuffle\n",
      "2021-11-29 10:39:47 Hail: INFO: Ordering unsorted dataset with network shuffle\n",
      "2021-11-29 10:39:49 Hail: INFO: Ordering unsorted dataset with network shuffle\n",
      "2021-11-29 10:40:01 Hail: INFO: Ordering unsorted dataset with network shuffle\n"
     ]
    },
    {
     "data": {
      "text/html": [
       "<table><thead><tr><td style=\"white-space: nowrap; max-width: 500px; overflow: hidden; text-overflow: ellipsis; \" colspan=\"1\"><div style=\"text-align: left;\"></div></td><td style=\"white-space: nowrap; max-width: 500px; overflow: hidden; text-overflow: ellipsis; \" colspan=\"1\"><div style=\"text-align: left;\"></div></td><td style=\"white-space: nowrap; max-width: 500px; overflow: hidden; text-overflow: ellipsis; \" colspan=\"1\"><div style=\"text-align: left;\"></div></td></tr><tr><td style=\"white-space: nowrap; max-width: 500px; overflow: hidden; text-overflow: ellipsis; \" colspan=\"1\"><div style=\"text-align: left;border-bottom: solid 2px #000; padding-bottom: 5px\">labels</div></td><td style=\"white-space: nowrap; max-width: 500px; overflow: hidden; text-overflow: ellipsis; \" colspan=\"1\"><div style=\"text-align: left;border-bottom: solid 2px #000; padding-bottom: 5px\">n_carriers</div></td><td style=\"white-space: nowrap; max-width: 500px; overflow: hidden; text-overflow: ellipsis; \" colspan=\"1\"><div style=\"text-align: left;border-bottom: solid 2px #000; padding-bottom: 5px\">n_variants</div></td></tr><tr><td style=\"white-space: nowrap; max-width: 500px; overflow: hidden; text-overflow: ellipsis; text-align: left;\">str</td><td style=\"white-space: nowrap; max-width: 500px; overflow: hidden; text-overflow: ellipsis; text-align: left;\">int64</td><td style=\"white-space: nowrap; max-width: 500px; overflow: hidden; text-overflow: ellipsis; text-align: left;\">int64</td></tr>\n",
       "</thead><tbody><tr><td style=\"white-space: nowrap; max-width: 500px; overflow: hidden; text-overflow: ellipsis; \">&quot;Gi1&quot;</td><td style=\"white-space: nowrap; max-width: 500px; overflow: hidden; text-overflow: ellipsis; \">154</td><td style=\"white-space: nowrap; max-width: 500px; overflow: hidden; text-overflow: ellipsis; \">18</td></tr>\n",
       "<tr><td style=\"white-space: nowrap; max-width: 500px; overflow: hidden; text-overflow: ellipsis; \">&quot;Gi1_GoA_Gz&quot;</td><td style=\"white-space: nowrap; max-width: 500px; overflow: hidden; text-overflow: ellipsis; \">4</td><td style=\"white-space: nowrap; max-width: 500px; overflow: hidden; text-overflow: ellipsis; \">2</td></tr>\n",
       "<tr><td style=\"white-space: nowrap; max-width: 500px; overflow: hidden; text-overflow: ellipsis; \">&quot;Gi1_Gz&quot;</td><td style=\"white-space: nowrap; max-width: 500px; overflow: hidden; text-overflow: ellipsis; \">2</td><td style=\"white-space: nowrap; max-width: 500px; overflow: hidden; text-overflow: ellipsis; \">2</td></tr>\n",
       "<tr><td style=\"white-space: nowrap; max-width: 500px; overflow: hidden; text-overflow: ellipsis; \">&quot;Gz&quot;</td><td style=\"white-space: nowrap; max-width: 500px; overflow: hidden; text-overflow: ellipsis; \">6</td><td style=\"white-space: nowrap; max-width: 500px; overflow: hidden; text-overflow: ellipsis; \">1</td></tr>\n",
       "<tr><td style=\"white-space: nowrap; max-width: 500px; overflow: hidden; text-overflow: ellipsis; \">&quot;WT&quot;</td><td style=\"white-space: nowrap; max-width: 500px; overflow: hidden; text-overflow: ellipsis; \">10425</td><td style=\"white-space: nowrap; max-width: 500px; overflow: hidden; text-overflow: ellipsis; \">78</td></tr>\n",
       "</tbody></table>"
      ],
      "text/plain": [
       "+--------------+------------+------------+\n",
       "| labels       | n_carriers | n_variants |\n",
       "+--------------+------------+------------+\n",
       "| str          |      int64 |      int64 |\n",
       "+--------------+------------+------------+\n",
       "| \"Gi1\"        |        154 |         18 |\n",
       "| \"Gi1_GoA_Gz\" |          4 |          2 |\n",
       "| \"Gi1_Gz\"     |          2 |          2 |\n",
       "| \"Gz\"         |          6 |          1 |\n",
       "| \"WT\"         |      10425 |         78 |\n",
       "+--------------+------------+------------+"
      ]
     },
     "metadata": {},
     "output_type": "display_data"
    }
   ],
   "source": [
    "stats, intr = get_stats(mt)\n",
    "stats.show(-1)"
   ]
  },
  {
   "cell_type": "code",
   "execution_count": 63,
   "id": "15a16e42",
   "metadata": {},
   "outputs": [
    {
     "name": "stderr",
     "output_type": "stream",
     "text": [
      "2021-11-29 10:47:18 Hail: INFO: Ordering unsorted dataset with network shuffle\n",
      "2021-11-29 10:47:18 Hail: INFO: Ordering unsorted dataset with network shuffle\n",
      "2021-11-29 10:47:19 Hail: INFO: Ordering unsorted dataset with network shuffle\n",
      "2021-11-29 10:47:31 Hail: INFO: merging 2 files totalling 15.5K...\n",
      "2021-11-29 10:47:31 Hail: INFO: while writing:\n",
      "    /tmp/DRD2_QC1.tsv\n",
      "  merge time: 52.124ms\n"
     ]
    },
    {
     "data": {
      "text/plain": [
       "CompletedProcess(args=['hadoop', 'fs', '-get', '/tmp/DRD2_QC1.tsv', '../tmp/DRD2_QC1.tsv'], returncode=0)"
      ]
     },
     "execution_count": 63,
     "metadata": {},
     "output_type": "execute_result"
    }
   ],
   "source": [
    "intr.export(\"/tmp/DRD2_QC1.tsv\")\n",
    "\n",
    "subprocess.run(\n",
    "    [\"hadoop\", \"fs\", \"-get\", \"/tmp/DRD2_QC1.tsv\", \"../tmp/DRD2_QC1.tsv\"],\n",
    "    check=True,\n",
    "    shell=False,\n",
    ")"
   ]
  },
  {
   "cell_type": "code",
   "execution_count": 64,
   "id": "81d76a5f",
   "metadata": {},
   "outputs": [
    {
     "name": "stderr",
     "output_type": "stream",
     "text": [
      "2021-11-29 10:52:01 Hail: INFO: Ordering unsorted dataset with network shuffle\n",
      "2021-11-29 10:52:02 Hail: INFO: Ordering unsorted dataset with network shuffle\n",
      "2021-11-29 10:52:05 Hail: INFO: Ordering unsorted dataset with network shuffle\n",
      "2021-11-29 10:54:09 Hail: INFO: wrote matrix table with 297 rows and 200643 columns in 2 partitions to dnax://database-G6XB998J860kZy4z59fBqPBV/DRD2.LABELLED.mt\n",
      "    Total size: 174.16 MiB\n",
      "    * Rows/entries: 173.03 MiB\n",
      "    * Columns: 1.13 MiB\n",
      "    * Globals: 11.00 B\n",
      "    * Smallest partition: 0 rows (20.00 B)\n",
      "    * Largest partition:  297 rows (173.03 MiB)\n"
     ]
    }
   ],
   "source": [
    "STAGE = \"LABELLED\"\n",
    "WRITE_PATH = \"dnax://\" + mt_database + f\"/{NAME}.{STAGE}.mt\"\n",
    "\n",
    "mt.write(WRITE_PATH, overwrite = True)"
   ]
  }
 ],
 "metadata": {
  "kernelspec": {
   "display_name": "Python 3",
   "language": "python",
   "name": "python3"
  },
  "language_info": {
   "codemirror_mode": {
    "name": "ipython",
    "version": 3
   },
   "file_extension": ".py",
   "mimetype": "text/x-python",
   "name": "python",
   "nbconvert_exporter": "python",
   "pygments_lexer": "ipython3",
   "version": "3.6.5"
  }
 },
 "nbformat": 4,
 "nbformat_minor": 5
}

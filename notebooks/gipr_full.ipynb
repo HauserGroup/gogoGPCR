{
 "cells": [
  {
   "cell_type": "code",
   "execution_count": 1,
   "id": "c304f6cb",
   "metadata": {},
   "outputs": [
    {
     "data": {
      "text/html": [
       "\n",
       "    <div class=\"bk-root\">\n",
       "        <a href=\"https://bokeh.org\" target=\"_blank\" class=\"bk-logo bk-logo-small bk-logo-notebook\"></a>\n",
       "        <span id=\"1001\">Loading BokehJS ...</span>\n",
       "    </div>"
      ]
     },
     "metadata": {},
     "output_type": "display_data"
    },
    {
     "data": {
      "application/javascript": [
       "\n",
       "(function(root) {\n",
       "  function now() {\n",
       "    return new Date();\n",
       "  }\n",
       "\n",
       "  var force = true;\n",
       "\n",
       "  if (typeof root._bokeh_onload_callbacks === \"undefined\" || force === true) {\n",
       "    root._bokeh_onload_callbacks = [];\n",
       "    root._bokeh_is_loading = undefined;\n",
       "  }\n",
       "\n",
       "  var JS_MIME_TYPE = 'application/javascript';\n",
       "  var HTML_MIME_TYPE = 'text/html';\n",
       "  var EXEC_MIME_TYPE = 'application/vnd.bokehjs_exec.v0+json';\n",
       "  var CLASS_NAME = 'output_bokeh rendered_html';\n",
       "\n",
       "  /**\n",
       "   * Render data to the DOM node\n",
       "   */\n",
       "  function render(props, node) {\n",
       "    var script = document.createElement(\"script\");\n",
       "    node.appendChild(script);\n",
       "  }\n",
       "\n",
       "  /**\n",
       "   * Handle when an output is cleared or removed\n",
       "   */\n",
       "  function handleClearOutput(event, handle) {\n",
       "    var cell = handle.cell;\n",
       "\n",
       "    var id = cell.output_area._bokeh_element_id;\n",
       "    var server_id = cell.output_area._bokeh_server_id;\n",
       "    // Clean up Bokeh references\n",
       "    if (id != null && id in Bokeh.index) {\n",
       "      Bokeh.index[id].model.document.clear();\n",
       "      delete Bokeh.index[id];\n",
       "    }\n",
       "\n",
       "    if (server_id !== undefined) {\n",
       "      // Clean up Bokeh references\n",
       "      var cmd = \"from bokeh.io.state import curstate; print(curstate().uuid_to_server['\" + server_id + \"'].get_sessions()[0].document.roots[0]._id)\";\n",
       "      cell.notebook.kernel.execute(cmd, {\n",
       "        iopub: {\n",
       "          output: function(msg) {\n",
       "            var id = msg.content.text.trim();\n",
       "            if (id in Bokeh.index) {\n",
       "              Bokeh.index[id].model.document.clear();\n",
       "              delete Bokeh.index[id];\n",
       "            }\n",
       "          }\n",
       "        }\n",
       "      });\n",
       "      // Destroy server and session\n",
       "      var cmd = \"import bokeh.io.notebook as ion; ion.destroy_server('\" + server_id + \"')\";\n",
       "      cell.notebook.kernel.execute(cmd);\n",
       "    }\n",
       "  }\n",
       "\n",
       "  /**\n",
       "   * Handle when a new output is added\n",
       "   */\n",
       "  function handleAddOutput(event, handle) {\n",
       "    var output_area = handle.output_area;\n",
       "    var output = handle.output;\n",
       "\n",
       "    // limit handleAddOutput to display_data with EXEC_MIME_TYPE content only\n",
       "    if ((output.output_type != \"display_data\") || (!output.data.hasOwnProperty(EXEC_MIME_TYPE))) {\n",
       "      return\n",
       "    }\n",
       "\n",
       "    var toinsert = output_area.element.find(\".\" + CLASS_NAME.split(' ')[0]);\n",
       "\n",
       "    if (output.metadata[EXEC_MIME_TYPE][\"id\"] !== undefined) {\n",
       "      toinsert[toinsert.length - 1].firstChild.textContent = output.data[JS_MIME_TYPE];\n",
       "      // store reference to embed id on output_area\n",
       "      output_area._bokeh_element_id = output.metadata[EXEC_MIME_TYPE][\"id\"];\n",
       "    }\n",
       "    if (output.metadata[EXEC_MIME_TYPE][\"server_id\"] !== undefined) {\n",
       "      var bk_div = document.createElement(\"div\");\n",
       "      bk_div.innerHTML = output.data[HTML_MIME_TYPE];\n",
       "      var script_attrs = bk_div.children[0].attributes;\n",
       "      for (var i = 0; i < script_attrs.length; i++) {\n",
       "        toinsert[toinsert.length - 1].firstChild.setAttribute(script_attrs[i].name, script_attrs[i].value);\n",
       "      }\n",
       "      // store reference to server id on output_area\n",
       "      output_area._bokeh_server_id = output.metadata[EXEC_MIME_TYPE][\"server_id\"];\n",
       "    }\n",
       "  }\n",
       "\n",
       "  function register_renderer(events, OutputArea) {\n",
       "\n",
       "    function append_mime(data, metadata, element) {\n",
       "      // create a DOM node to render to\n",
       "      var toinsert = this.create_output_subarea(\n",
       "        metadata,\n",
       "        CLASS_NAME,\n",
       "        EXEC_MIME_TYPE\n",
       "      );\n",
       "      this.keyboard_manager.register_events(toinsert);\n",
       "      // Render to node\n",
       "      var props = {data: data, metadata: metadata[EXEC_MIME_TYPE]};\n",
       "      render(props, toinsert[toinsert.length - 1]);\n",
       "      element.append(toinsert);\n",
       "      return toinsert\n",
       "    }\n",
       "\n",
       "    /* Handle when an output is cleared or removed */\n",
       "    events.on('clear_output.CodeCell', handleClearOutput);\n",
       "    events.on('delete.Cell', handleClearOutput);\n",
       "\n",
       "    /* Handle when a new output is added */\n",
       "    events.on('output_added.OutputArea', handleAddOutput);\n",
       "\n",
       "    /**\n",
       "     * Register the mime type and append_mime function with output_area\n",
       "     */\n",
       "    OutputArea.prototype.register_mime_type(EXEC_MIME_TYPE, append_mime, {\n",
       "      /* Is output safe? */\n",
       "      safe: true,\n",
       "      /* Index of renderer in `output_area.display_order` */\n",
       "      index: 0\n",
       "    });\n",
       "  }\n",
       "\n",
       "  // register the mime type if in Jupyter Notebook environment and previously unregistered\n",
       "  if (root.Jupyter !== undefined) {\n",
       "    var events = require('base/js/events');\n",
       "    var OutputArea = require('notebook/js/outputarea').OutputArea;\n",
       "\n",
       "    if (OutputArea.prototype.mime_types().indexOf(EXEC_MIME_TYPE) == -1) {\n",
       "      register_renderer(events, OutputArea);\n",
       "    }\n",
       "  }\n",
       "\n",
       "  \n",
       "  if (typeof (root._bokeh_timeout) === \"undefined\" || force === true) {\n",
       "    root._bokeh_timeout = Date.now() + 5000;\n",
       "    root._bokeh_failed_load = false;\n",
       "  }\n",
       "\n",
       "  var NB_LOAD_WARNING = {'data': {'text/html':\n",
       "     \"<div style='background-color: #fdd'>\\n\"+\n",
       "     \"<p>\\n\"+\n",
       "     \"BokehJS does not appear to have successfully loaded. If loading BokehJS from CDN, this \\n\"+\n",
       "     \"may be due to a slow or bad network connection. Possible fixes:\\n\"+\n",
       "     \"</p>\\n\"+\n",
       "     \"<ul>\\n\"+\n",
       "     \"<li>re-rerun `output_notebook()` to attempt to load from CDN again, or</li>\\n\"+\n",
       "     \"<li>use INLINE resources instead, as so:</li>\\n\"+\n",
       "     \"</ul>\\n\"+\n",
       "     \"<code>\\n\"+\n",
       "     \"from bokeh.resources import INLINE\\n\"+\n",
       "     \"output_notebook(resources=INLINE)\\n\"+\n",
       "     \"</code>\\n\"+\n",
       "     \"</div>\"}};\n",
       "\n",
       "  function display_loaded() {\n",
       "    var el = document.getElementById(\"1001\");\n",
       "    if (el != null) {\n",
       "      el.textContent = \"BokehJS is loading...\";\n",
       "    }\n",
       "    if (root.Bokeh !== undefined) {\n",
       "      if (el != null) {\n",
       "        el.textContent = \"BokehJS \" + root.Bokeh.version + \" successfully loaded.\";\n",
       "      }\n",
       "    } else if (Date.now() < root._bokeh_timeout) {\n",
       "      setTimeout(display_loaded, 100)\n",
       "    }\n",
       "  }\n",
       "\n",
       "\n",
       "  function run_callbacks() {\n",
       "    try {\n",
       "      root._bokeh_onload_callbacks.forEach(function(callback) {\n",
       "        if (callback != null)\n",
       "          callback();\n",
       "      });\n",
       "    } finally {\n",
       "      delete root._bokeh_onload_callbacks\n",
       "    }\n",
       "    console.debug(\"Bokeh: all callbacks have finished\");\n",
       "  }\n",
       "\n",
       "  function load_libs(css_urls, js_urls, callback) {\n",
       "    if (css_urls == null) css_urls = [];\n",
       "    if (js_urls == null) js_urls = [];\n",
       "\n",
       "    root._bokeh_onload_callbacks.push(callback);\n",
       "    if (root._bokeh_is_loading > 0) {\n",
       "      console.debug(\"Bokeh: BokehJS is being loaded, scheduling callback at\", now());\n",
       "      return null;\n",
       "    }\n",
       "    if (js_urls == null || js_urls.length === 0) {\n",
       "      run_callbacks();\n",
       "      return null;\n",
       "    }\n",
       "    console.debug(\"Bokeh: BokehJS not loaded, scheduling load and callback at\", now());\n",
       "    root._bokeh_is_loading = css_urls.length + js_urls.length;\n",
       "\n",
       "    function on_load() {\n",
       "      root._bokeh_is_loading--;\n",
       "      if (root._bokeh_is_loading === 0) {\n",
       "        console.debug(\"Bokeh: all BokehJS libraries/stylesheets loaded\");\n",
       "        run_callbacks()\n",
       "      }\n",
       "    }\n",
       "\n",
       "    function on_error() {\n",
       "      console.error(\"failed to load \" + url);\n",
       "    }\n",
       "\n",
       "    for (var i = 0; i < css_urls.length; i++) {\n",
       "      var url = css_urls[i];\n",
       "      const element = document.createElement(\"link\");\n",
       "      element.onload = on_load;\n",
       "      element.onerror = on_error;\n",
       "      element.rel = \"stylesheet\";\n",
       "      element.type = \"text/css\";\n",
       "      element.href = url;\n",
       "      console.debug(\"Bokeh: injecting link tag for BokehJS stylesheet: \", url);\n",
       "      document.body.appendChild(element);\n",
       "    }\n",
       "\n",
       "    for (var i = 0; i < js_urls.length; i++) {\n",
       "      var url = js_urls[i];\n",
       "      var element = document.createElement('script');\n",
       "      element.onload = on_load;\n",
       "      element.onerror = on_error;\n",
       "      element.async = false;\n",
       "      element.src = url;\n",
       "      console.debug(\"Bokeh: injecting script tag for BokehJS library: \", url);\n",
       "      document.head.appendChild(element);\n",
       "    }\n",
       "  };var element = document.getElementById(\"1001\");\n",
       "  if (element == null) {\n",
       "    console.error(\"Bokeh: ERROR: autoload.js configured with elementid '1001' but no matching script tag was found. \")\n",
       "    return false;\n",
       "  }\n",
       "\n",
       "  function inject_raw_css(css) {\n",
       "    const element = document.createElement(\"style\");\n",
       "    element.appendChild(document.createTextNode(css));\n",
       "    document.body.appendChild(element);\n",
       "  }\n",
       "\n",
       "  \n",
       "  var js_urls = [\"https://cdn.pydata.org/bokeh/release/bokeh-1.4.0.min.js\", \"https://cdn.pydata.org/bokeh/release/bokeh-widgets-1.4.0.min.js\", \"https://cdn.pydata.org/bokeh/release/bokeh-tables-1.4.0.min.js\", \"https://cdn.pydata.org/bokeh/release/bokeh-gl-1.4.0.min.js\"];\n",
       "  var css_urls = [];\n",
       "  \n",
       "\n",
       "  var inline_js = [\n",
       "    function(Bokeh) {\n",
       "      Bokeh.set_log_level(\"info\");\n",
       "    },\n",
       "    function(Bokeh) {\n",
       "    \n",
       "    \n",
       "    }\n",
       "  ];\n",
       "\n",
       "  function run_inline_js() {\n",
       "    \n",
       "    if (root.Bokeh !== undefined || force === true) {\n",
       "      \n",
       "    for (var i = 0; i < inline_js.length; i++) {\n",
       "      inline_js[i].call(root, root.Bokeh);\n",
       "    }\n",
       "    if (force === true) {\n",
       "        display_loaded();\n",
       "      }} else if (Date.now() < root._bokeh_timeout) {\n",
       "      setTimeout(run_inline_js, 100);\n",
       "    } else if (!root._bokeh_failed_load) {\n",
       "      console.log(\"Bokeh: BokehJS failed to load within specified timeout.\");\n",
       "      root._bokeh_failed_load = true;\n",
       "    } else if (force !== true) {\n",
       "      var cell = $(document.getElementById(\"1001\")).parents('.cell').data().cell;\n",
       "      cell.output_area.append_execute_result(NB_LOAD_WARNING)\n",
       "    }\n",
       "\n",
       "  }\n",
       "\n",
       "  if (root._bokeh_is_loading === 0) {\n",
       "    console.debug(\"Bokeh: BokehJS loaded, going straight to plotting\");\n",
       "    run_inline_js();\n",
       "  } else {\n",
       "    load_libs(css_urls, js_urls, function() {\n",
       "      console.debug(\"Bokeh: BokehJS plotting callback run at\", now());\n",
       "      run_inline_js();\n",
       "    });\n",
       "  }\n",
       "}(window));"
      ],
      "application/vnd.bokehjs_load.v0+json": "\n(function(root) {\n  function now() {\n    return new Date();\n  }\n\n  var force = true;\n\n  if (typeof root._bokeh_onload_callbacks === \"undefined\" || force === true) {\n    root._bokeh_onload_callbacks = [];\n    root._bokeh_is_loading = undefined;\n  }\n\n  \n\n  \n  if (typeof (root._bokeh_timeout) === \"undefined\" || force === true) {\n    root._bokeh_timeout = Date.now() + 5000;\n    root._bokeh_failed_load = false;\n  }\n\n  var NB_LOAD_WARNING = {'data': {'text/html':\n     \"<div style='background-color: #fdd'>\\n\"+\n     \"<p>\\n\"+\n     \"BokehJS does not appear to have successfully loaded. If loading BokehJS from CDN, this \\n\"+\n     \"may be due to a slow or bad network connection. Possible fixes:\\n\"+\n     \"</p>\\n\"+\n     \"<ul>\\n\"+\n     \"<li>re-rerun `output_notebook()` to attempt to load from CDN again, or</li>\\n\"+\n     \"<li>use INLINE resources instead, as so:</li>\\n\"+\n     \"</ul>\\n\"+\n     \"<code>\\n\"+\n     \"from bokeh.resources import INLINE\\n\"+\n     \"output_notebook(resources=INLINE)\\n\"+\n     \"</code>\\n\"+\n     \"</div>\"}};\n\n  function display_loaded() {\n    var el = document.getElementById(\"1001\");\n    if (el != null) {\n      el.textContent = \"BokehJS is loading...\";\n    }\n    if (root.Bokeh !== undefined) {\n      if (el != null) {\n        el.textContent = \"BokehJS \" + root.Bokeh.version + \" successfully loaded.\";\n      }\n    } else if (Date.now() < root._bokeh_timeout) {\n      setTimeout(display_loaded, 100)\n    }\n  }\n\n\n  function run_callbacks() {\n    try {\n      root._bokeh_onload_callbacks.forEach(function(callback) {\n        if (callback != null)\n          callback();\n      });\n    } finally {\n      delete root._bokeh_onload_callbacks\n    }\n    console.debug(\"Bokeh: all callbacks have finished\");\n  }\n\n  function load_libs(css_urls, js_urls, callback) {\n    if (css_urls == null) css_urls = [];\n    if (js_urls == null) js_urls = [];\n\n    root._bokeh_onload_callbacks.push(callback);\n    if (root._bokeh_is_loading > 0) {\n      console.debug(\"Bokeh: BokehJS is being loaded, scheduling callback at\", now());\n      return null;\n    }\n    if (js_urls == null || js_urls.length === 0) {\n      run_callbacks();\n      return null;\n    }\n    console.debug(\"Bokeh: BokehJS not loaded, scheduling load and callback at\", now());\n    root._bokeh_is_loading = css_urls.length + js_urls.length;\n\n    function on_load() {\n      root._bokeh_is_loading--;\n      if (root._bokeh_is_loading === 0) {\n        console.debug(\"Bokeh: all BokehJS libraries/stylesheets loaded\");\n        run_callbacks()\n      }\n    }\n\n    function on_error() {\n      console.error(\"failed to load \" + url);\n    }\n\n    for (var i = 0; i < css_urls.length; i++) {\n      var url = css_urls[i];\n      const element = document.createElement(\"link\");\n      element.onload = on_load;\n      element.onerror = on_error;\n      element.rel = \"stylesheet\";\n      element.type = \"text/css\";\n      element.href = url;\n      console.debug(\"Bokeh: injecting link tag for BokehJS stylesheet: \", url);\n      document.body.appendChild(element);\n    }\n\n    for (var i = 0; i < js_urls.length; i++) {\n      var url = js_urls[i];\n      var element = document.createElement('script');\n      element.onload = on_load;\n      element.onerror = on_error;\n      element.async = false;\n      element.src = url;\n      console.debug(\"Bokeh: injecting script tag for BokehJS library: \", url);\n      document.head.appendChild(element);\n    }\n  };var element = document.getElementById(\"1001\");\n  if (element == null) {\n    console.error(\"Bokeh: ERROR: autoload.js configured with elementid '1001' but no matching script tag was found. \")\n    return false;\n  }\n\n  function inject_raw_css(css) {\n    const element = document.createElement(\"style\");\n    element.appendChild(document.createTextNode(css));\n    document.body.appendChild(element);\n  }\n\n  \n  var js_urls = [\"https://cdn.pydata.org/bokeh/release/bokeh-1.4.0.min.js\", \"https://cdn.pydata.org/bokeh/release/bokeh-widgets-1.4.0.min.js\", \"https://cdn.pydata.org/bokeh/release/bokeh-tables-1.4.0.min.js\", \"https://cdn.pydata.org/bokeh/release/bokeh-gl-1.4.0.min.js\"];\n  var css_urls = [];\n  \n\n  var inline_js = [\n    function(Bokeh) {\n      Bokeh.set_log_level(\"info\");\n    },\n    function(Bokeh) {\n    \n    \n    }\n  ];\n\n  function run_inline_js() {\n    \n    if (root.Bokeh !== undefined || force === true) {\n      \n    for (var i = 0; i < inline_js.length; i++) {\n      inline_js[i].call(root, root.Bokeh);\n    }\n    if (force === true) {\n        display_loaded();\n      }} else if (Date.now() < root._bokeh_timeout) {\n      setTimeout(run_inline_js, 100);\n    } else if (!root._bokeh_failed_load) {\n      console.log(\"Bokeh: BokehJS failed to load within specified timeout.\");\n      root._bokeh_failed_load = true;\n    } else if (force !== true) {\n      var cell = $(document.getElementById(\"1001\")).parents('.cell').data().cell;\n      cell.output_area.append_execute_result(NB_LOAD_WARNING)\n    }\n\n  }\n\n  if (root._bokeh_is_loading === 0) {\n    console.debug(\"Bokeh: BokehJS loaded, going straight to plotting\");\n    run_inline_js();\n  } else {\n    load_libs(css_urls, js_urls, function() {\n      console.debug(\"Bokeh: BokehJS plotting callback run at\", now());\n      run_inline_js();\n    });\n  }\n}(window));"
     },
     "metadata": {},
     "output_type": "display_data"
    }
   ],
   "source": [
    "from pathlib import Path\n",
    "import pandas as pd\n",
    "import pyspark\n",
    "import dxpy\n",
    "import hail as hl\n",
    "from datetime import datetime\n",
    "from matrixtables import import_mt, interval_qc_mt, smart_split_multi_mt\n",
    "from subprocess import run\n",
    "\n",
    "from bokeh.io import show, output_notebook\n",
    "from bokeh.layouts import gridplot\n",
    "output_notebook()\n",
    "\n",
    "Path(\"../tmp\").resolve().mkdir(parents=True, exist_ok=True)\n"
   ]
  },
  {
   "cell_type": "code",
   "execution_count": 2,
   "id": "9b377044",
   "metadata": {},
   "outputs": [
    {
     "name": "stderr",
     "output_type": "stream",
     "text": [
      "pip-installed Hail requires additional configuration options in Spark referring\n",
      "  to the path to the Hail Python module directory HAIL_DIR,\n",
      "  e.g. /path/to/python/site-packages/hail:\n",
      "    spark.jars=HAIL_DIR/hail-all-spark.jar\n",
      "    spark.driver.extraClassPath=HAIL_DIR/hail-all-spark.jar\n",
      "    spark.executor.extraClassPath=./hail-all-spark.jarRunning on Apache Spark version 2.4.4\n",
      "SparkUI available at http://ip-10-60-72-227.eu-west-2.compute.internal:8081\n",
      "Welcome to\n",
      "     __  __     <>__\n",
      "    / /_/ /__  __/ /\n",
      "   / __  / _ `/ / /\n",
      "  /_/ /_/\\_,_/_/_/   version 0.2.78-b17627756568\n",
      "LOGGING: writing to /opt/notebooks/gogoGPCR/hail_logs/MC4R_1902.log\n"
     ]
    }
   ],
   "source": [
    "# Spark and Hail\n",
    "VCF_DIR = Path(\"/mnt/project/Bulk/Exome sequences/Population level exome OQFE variants, pVCF format - interim 450k release/\")\n",
    "DATABASE = \"matrix_tables\"\n",
    "REFERENCE_GENOME = 'GRCh38'\n",
    "\n",
    "LOG_FILE = (\n",
    "    Path(\"../hail_logs\", f\"MC4R_{datetime.now().strftime('%H%M')}.log\")\n",
    "    .resolve()\n",
    "    .__str__()\n",
    ")\n",
    "\n",
    "sc = pyspark.SparkContext()\n",
    "spark = pyspark.sql.SparkSession(sc)\n",
    "\n",
    "try:\n",
    "    mt_database = dxpy.find_one_data_object(name=DATABASE)[\"id\"]\n",
    "except Exception as e:\n",
    "    spark.sql(f\"CREATE DATABASE {DATABASE} LOCATION  'dnax://'\")\n",
    "    mt_database = dxpy.find_one_data_object(name=DATABASE)[\"id\"]\n",
    "\n",
    "hl.init(sc=sc, default_reference=REFERENCE_GENOME, log=LOG_FILE)"
   ]
  },
  {
   "cell_type": "code",
   "execution_count": 3,
   "id": "31733046",
   "metadata": {},
   "outputs": [
    {
     "data": {
      "text/plain": [
       "HGNC                                                                     GIPR\n",
       "entry_name                                                         gipr_human\n",
       "name                                                             GIP receptor\n",
       "accession                                                              P48546\n",
       "family                                                        002_001_003_002\n",
       "species                                                          Homo sapiens\n",
       "residue_numbering_scheme                                            GPCRdb(B)\n",
       "sequence                    MTTSPILQLLLRLSLCGLLLQRAETGSKGQTAGELYQRWERYRREC...\n",
       "genes                                                                ['GIPR']\n",
       "ENSG                                                          ENSG00000010310\n",
       "ENST                                                          ENST00000590918\n",
       "type                                                                     GPCR\n",
       "GRCh37_start                                                      4.61715e+07\n",
       "GRCh37_end                                                         4.6187e+07\n",
       "GRCh37_strand                                                               1\n",
       "GRCh38_start                                                         45668221\n",
       "GRCh38_end                                                           45683722\n",
       "GRCh38_strand                                                               1\n",
       "GRCh38_region                                                              19\n",
       "Notes                                                                     NaN\n",
       "VCF_block                                                                  46\n",
       "Name: GIPR, dtype: object"
      ]
     },
     "execution_count": 3,
     "metadata": {},
     "output_type": "execute_result"
    }
   ],
   "source": [
    "MAPPING_FILE = Path(\"../data/misc/mappings_with_blocks.tsv\").resolve()\n",
    "mapping = pd.read_csv(MAPPING_FILE, sep=\"\\t\").set_index(\"HGNC\", drop=False)\n",
    "mapping.loc[\"GIPR\",:]"
   ]
  },
  {
   "cell_type": "code",
   "execution_count": 4,
   "id": "58c975b5",
   "metadata": {},
   "outputs": [
    {
     "name": "stdout",
     "output_type": "stream",
     "text": [
      "1200 variants and 454756 samples after import\n"
     ]
    }
   ],
   "source": [
    "mt = import_mt([\"GIPR\"], mapping, vcf_dir=VCF_DIR, vcf_version=\"v1\").key_rows_by(\n",
    "    \"locus\", \"alleles\"\n",
    ")\n",
    "\n",
    "v, s = mt.count()\n",
    "print(f\"{v} variants and {s} samples after import\")"
   ]
  },
  {
   "cell_type": "code",
   "execution_count": 5,
   "id": "f345b6c6",
   "metadata": {},
   "outputs": [
    {
     "name": "stderr",
     "output_type": "stream",
     "text": [
      "2022-07-23 19:23:47 Hail: INFO: Coerced sorted dataset\n",
      "2022-07-23 19:31:45 Hail: INFO: wrote matrix table with 1200 rows and 454756 columns in 1 partition to /tmp/GIPR.RAW.cp.mt\n"
     ]
    }
   ],
   "source": [
    "stage = \"RAW\"\n",
    "checkpoint_file = f\"/tmp/GIPR.{stage}.cp.mt\"\n",
    "\n",
    "mt = mt.checkpoint(checkpoint_file, overwrite=True)\n",
    "\n",
    "# mt = hl.read_matrix_table(f\"/tmp/MC4R.{stage}.cp.mt\")"
   ]
  },
  {
   "cell_type": "code",
   "execution_count": 6,
   "id": "e0420322",
   "metadata": {},
   "outputs": [
    {
     "name": "stderr",
     "output_type": "stream",
     "text": [
      "2022-07-23 19:31:48 Hail: INFO: Reading table without type imputation\n",
      "  Loading field 'f0' as type str (user-supplied)\n",
      "  Loading field 'f1' as type int32 (user-supplied)\n",
      "  Loading field 'f2' as type int32 (user-supplied)\n",
      "2022-07-23 19:31:50 Hail: INFO: Coerced sorted dataset\n"
     ]
    },
    {
     "name": "stdout",
     "output_type": "stream",
     "text": [
      "487 variants after interval filtering\n"
     ]
    }
   ],
   "source": [
    "INTERVAL_FILE=Path(\"../data/misc/xgen_plus_spikein.b38.bed\").resolve()\n",
    "run([\"hadoop\", \"fs\", \"-put\", str(INTERVAL_FILE), \"/tmp\"])\n",
    "\n",
    "interval_table = hl.import_bed(\n",
    "        f\"/tmp/{INTERVAL_FILE.name}\",\n",
    "        reference_genome=\"GRCh38\",\n",
    "    )\n",
    "\n",
    "mt = mt.filter_rows(hl.is_defined(interval_table[mt.locus]))\n",
    "print(f\"{mt.count_rows()} variants after interval filtering\")"
   ]
  },
  {
   "cell_type": "code",
   "execution_count": 7,
   "id": "752223b3",
   "metadata": {},
   "outputs": [
    {
     "name": "stderr",
     "output_type": "stream",
     "text": [
      "2022-07-23 19:31:54 Hail: INFO: Coerced sorted dataset\n",
      "2022-07-23 19:31:56 Hail: INFO: Coerced sorted dataset\n",
      "2022-07-23 19:31:58 Hail: INFO: Coerced sorted dataset\n"
     ]
    },
    {
     "name": "stdout",
     "output_type": "stream",
     "text": [
      "552 variants with not more than 6 alleles after splitting\n"
     ]
    }
   ],
   "source": [
    "mt = mt.filter_rows(mt.alleles.length() <= 6)\n",
    "mt = smart_split_multi_mt(mt)\n",
    "\n",
    "print(f\"{mt.count_rows()} variants with not more than 6 alleles after splitting\")"
   ]
  },
  {
   "cell_type": "code",
   "execution_count": 8,
   "id": "d1372649",
   "metadata": {},
   "outputs": [
    {
     "name": "stderr",
     "output_type": "stream",
     "text": [
      "2022-07-23 19:32:00 Hail: INFO: Coerced sorted dataset\n",
      "2022-07-23 19:32:02 Hail: INFO: Coerced sorted dataset\n",
      "2022-07-23 19:32:03 Hail: INFO: Ordering unsorted dataset with network shuffle\n",
      "2022-07-23 19:32:04 Hail: INFO: Coerced sorted dataset\n",
      "2022-07-23 19:32:05 Hail: INFO: Coerced sorted dataset\n",
      "2022-07-23 19:32:06 Hail: INFO: Coerced sorted dataset\n",
      "2022-07-23 19:32:07 Hail: INFO: Ordering unsorted dataset with network shuffle\n",
      "2022-07-23 19:32:08 Hail: INFO: Coerced sorted dataset\n"
     ]
    }
   ],
   "source": [
    "VEP_JSON = Path(\"../data/misc/GRCh38_VEP.json\").resolve()\n",
    "\n",
    "mt = hl.vep(mt, f\"file:{VEP_JSON}\")\n",
    "\n",
    "is_MANE = mt.aggregate_rows(\n",
    "    hl.agg.all(hl.is_defined(mt.vep.transcript_consequences.mane_select))\n",
    ")\n",
    "assert is_MANE, \"Selected transcript may not be MANE Select. Check manually.\"\n",
    "\n",
    "mt = mt.annotate_rows(\n",
    "    protCons=mt.vep.transcript_consequences.amino_acids[0].split(\"/\")[0]\n",
    "    + hl.str(mt.vep.transcript_consequences.protein_end[0])\n",
    "    + mt.vep.transcript_consequences.amino_acids[0].split(\"/\")[-1]\n",
    ")"
   ]
  },
  {
   "cell_type": "code",
   "execution_count": 9,
   "id": "9e69b24b",
   "metadata": {},
   "outputs": [
    {
     "name": "stderr",
     "output_type": "stream",
     "text": [
      "2022-07-23 19:32:27 Hail: INFO: Coerced sorted dataset\n",
      "2022-07-23 19:32:28 Hail: INFO: Coerced sorted dataset\n",
      "2022-07-23 19:33:43 Hail: INFO: Ordering unsorted dataset with network shuffle\n",
      "2022-07-23 19:33:44 Hail: INFO: Coerced sorted dataset\n",
      "2022-07-23 19:41:10 Hail: INFO: wrote matrix table with 552 rows and 454756 columns in 3 partitions to /tmp/GIPR.QC1.mt\n",
      "    Total size: 699.32 MiB\n",
      "    * Rows/entries: 696.75 MiB\n",
      "    * Columns: 2.56 MiB\n",
      "    * Globals: 11.00 B\n",
      "    * Smallest partition: 0 rows (20.00 B)\n",
      "    * Largest partition:  480 rows (606.49 MiB)\n"
     ]
    }
   ],
   "source": [
    "STAGE = \"QC1\"\n",
    "WRITE_PATH = f\"/tmp/GIPR.{STAGE}.mt\"\n",
    "\n",
    "mt.write(WRITE_PATH, overwrite=True)"
   ]
  },
  {
   "cell_type": "code",
   "execution_count": 16,
   "id": "08776d46",
   "metadata": {},
   "outputs": [
    {
     "name": "stderr",
     "output_type": "stream",
     "text": [
      "2022-06-25 20:15:11 Hail: INFO: Coerced sorted dataset\n",
      "2022-06-25 20:15:13 Hail: INFO: Coerced sorted dataset\n",
      "2022-06-25 20:15:14 Hail: INFO: Ordering unsorted dataset with network shuffle\n",
      "2022-06-25 20:15:15 Hail: INFO: Coerced sorted dataset\n"
     ]
    },
    {
     "data": {
      "text/html": [
       "<table><thead><tr><td style=\"white-space: nowrap; max-width: 500px; overflow: hidden; text-overflow: ellipsis; \" colspan=\"1\"><div style=\"text-align: left;\"></div></td><td style=\"white-space: nowrap; max-width: 500px; overflow: hidden; text-overflow: ellipsis; \" colspan=\"1\"><div style=\"text-align: left;\"></div></td><td style=\"white-space: nowrap; max-width: 500px; overflow: hidden; text-overflow: ellipsis; \" colspan=\"1\"><div style=\"text-align: left;\"></div></td></tr><tr><td style=\"white-space: nowrap; max-width: 500px; overflow: hidden; text-overflow: ellipsis; \" colspan=\"1\"><div style=\"text-align: left;border-bottom: solid 2px #000; padding-bottom: 5px\">locus</div></td><td style=\"white-space: nowrap; max-width: 500px; overflow: hidden; text-overflow: ellipsis; \" colspan=\"1\"><div style=\"text-align: left;border-bottom: solid 2px #000; padding-bottom: 5px\">alleles</div></td><td style=\"white-space: nowrap; max-width: 500px; overflow: hidden; text-overflow: ellipsis; \" colspan=\"1\"><div style=\"text-align: left;border-bottom: solid 2px #000; padding-bottom: 5px\">is_interesting_var</div></td></tr><tr><td style=\"white-space: nowrap; max-width: 500px; overflow: hidden; text-overflow: ellipsis; text-align: left;\">locus&lt;GRCh38&gt;</td><td style=\"white-space: nowrap; max-width: 500px; overflow: hidden; text-overflow: ellipsis; text-align: left;\">array&lt;str&gt;</td><td style=\"white-space: nowrap; max-width: 500px; overflow: hidden; text-overflow: ellipsis; text-align: left;\">bool</td></tr>\n",
       "</thead><tbody><tr><td style=\"white-space: nowrap; max-width: 500px; overflow: hidden; text-overflow: ellipsis; \">chr18:60371355</td><td style=\"white-space: nowrap; max-width: 500px; overflow: hidden; text-overflow: ellipsis; \">[&quot;T&quot;,&quot;C&quot;]</td><td style=\"white-space: nowrap; max-width: 500px; overflow: hidden; text-overflow: ellipsis; \">True</td></tr>\n",
       "<tr><td style=\"white-space: nowrap; max-width: 500px; overflow: hidden; text-overflow: ellipsis; \">chr18:60371356</td><td style=\"white-space: nowrap; max-width: 500px; overflow: hidden; text-overflow: ellipsis; \">[&quot;A&quot;,&quot;G&quot;]</td><td style=\"white-space: nowrap; max-width: 500px; overflow: hidden; text-overflow: ellipsis; \">True</td></tr>\n",
       "<tr><td style=\"white-space: nowrap; max-width: 500px; overflow: hidden; text-overflow: ellipsis; \">chr18:60371358</td><td style=\"white-space: nowrap; max-width: 500px; overflow: hidden; text-overflow: ellipsis; \">[&quot;C&quot;,&quot;T&quot;]</td><td style=\"white-space: nowrap; max-width: 500px; overflow: hidden; text-overflow: ellipsis; \">True</td></tr>\n",
       "<tr><td style=\"white-space: nowrap; max-width: 500px; overflow: hidden; text-overflow: ellipsis; \">chr18:60371359</td><td style=\"white-space: nowrap; max-width: 500px; overflow: hidden; text-overflow: ellipsis; \">[&quot;T&quot;,&quot;G&quot;]</td><td style=\"white-space: nowrap; max-width: 500px; overflow: hidden; text-overflow: ellipsis; \">False</td></tr>\n",
       "<tr><td style=\"white-space: nowrap; max-width: 500px; overflow: hidden; text-overflow: ellipsis; \">chr18:60371365</td><td style=\"white-space: nowrap; max-width: 500px; overflow: hidden; text-overflow: ellipsis; \">[&quot;A&quot;,&quot;C&quot;]</td><td style=\"white-space: nowrap; max-width: 500px; overflow: hidden; text-overflow: ellipsis; \">True</td></tr>\n",
       "<tr><td style=\"white-space: nowrap; max-width: 500px; overflow: hidden; text-overflow: ellipsis; \">chr18:60371366</td><td style=\"white-space: nowrap; max-width: 500px; overflow: hidden; text-overflow: ellipsis; \">[&quot;C&quot;,&quot;T&quot;]</td><td style=\"white-space: nowrap; max-width: 500px; overflow: hidden; text-overflow: ellipsis; \">False</td></tr>\n",
       "<tr><td style=\"white-space: nowrap; max-width: 500px; overflow: hidden; text-overflow: ellipsis; \">chr18:60371367</td><td style=\"white-space: nowrap; max-width: 500px; overflow: hidden; text-overflow: ellipsis; \">[&quot;A&quot;,&quot;T&quot;]</td><td style=\"white-space: nowrap; max-width: 500px; overflow: hidden; text-overflow: ellipsis; \">True</td></tr>\n",
       "<tr><td style=\"white-space: nowrap; max-width: 500px; overflow: hidden; text-overflow: ellipsis; \">chr18:60371367</td><td style=\"white-space: nowrap; max-width: 500px; overflow: hidden; text-overflow: ellipsis; \">[&quot;AAGTC&quot;,&quot;A&quot;]</td><td style=\"white-space: nowrap; max-width: 500px; overflow: hidden; text-overflow: ellipsis; \">True</td></tr>\n",
       "<tr><td style=\"white-space: nowrap; max-width: 500px; overflow: hidden; text-overflow: ellipsis; \">chr18:60371369</td><td style=\"white-space: nowrap; max-width: 500px; overflow: hidden; text-overflow: ellipsis; \">[&quot;G&quot;,&quot;C&quot;]</td><td style=\"white-space: nowrap; max-width: 500px; overflow: hidden; text-overflow: ellipsis; \">True</td></tr>\n",
       "<tr><td style=\"white-space: nowrap; max-width: 500px; overflow: hidden; text-overflow: ellipsis; \">chr18:60371374</td><td style=\"white-space: nowrap; max-width: 500px; overflow: hidden; text-overflow: ellipsis; \">[&quot;A&quot;,&quot;G&quot;]</td><td style=\"white-space: nowrap; max-width: 500px; overflow: hidden; text-overflow: ellipsis; \">True</td></tr>\n",
       "</tbody></table><p style=\"background: #fdd; padding: 0.4em;\">showing top 10 rows</p>\n"
      ],
      "text/plain": [
       "+----------------+---------------+--------------------+\n",
       "| locus          | alleles       | is_interesting_var |\n",
       "+----------------+---------------+--------------------+\n",
       "| locus<GRCh38>  | array<str>    |               bool |\n",
       "+----------------+---------------+--------------------+\n",
       "| chr18:60371355 | [\"T\",\"C\"]     |               True |\n",
       "| chr18:60371356 | [\"A\",\"G\"]     |               True |\n",
       "| chr18:60371358 | [\"C\",\"T\"]     |               True |\n",
       "| chr18:60371359 | [\"T\",\"G\"]     |              False |\n",
       "| chr18:60371365 | [\"A\",\"C\"]     |               True |\n",
       "| chr18:60371366 | [\"C\",\"T\"]     |              False |\n",
       "| chr18:60371367 | [\"A\",\"T\"]     |               True |\n",
       "| chr18:60371367 | [\"AAGTC\",\"A\"] |               True |\n",
       "| chr18:60371369 | [\"G\",\"C\"]     |               True |\n",
       "| chr18:60371374 | [\"A\",\"G\"]     |               True |\n",
       "+----------------+---------------+--------------------+\n",
       "showing top 10 rows"
      ]
     },
     "metadata": {},
     "output_type": "display_data"
    }
   ],
   "source": [
    "interesting_variants = hl.literal([\"missense_variant\", \"stop_gained\", \"frameshift_variant\", \"inframe_deletion\", \"start_lost\"])\n",
    "\n",
    "mt = mt.annotate_rows(is_interesting_var = interesting_variants.contains(mt.vep.most_severe_consequence))\n",
    "mt.is_interesting_var.show(10)"
   ]
  },
  {
   "cell_type": "code",
   "execution_count": 17,
   "id": "2ccf9fa6",
   "metadata": {},
   "outputs": [
    {
     "name": "stderr",
     "output_type": "stream",
     "text": [
      "2022-06-25 20:15:17 Hail: INFO: Coerced sorted dataset\n",
      "2022-06-25 20:15:18 Hail: INFO: Coerced sorted dataset\n",
      "2022-06-25 20:15:36 Hail: INFO: Ordering unsorted dataset with network shuffle\n",
      "2022-06-25 20:15:37 Hail: INFO: Coerced sorted dataset\n"
     ]
    },
    {
     "data": {
      "text/plain": [
       "32611"
      ]
     },
     "execution_count": 17,
     "metadata": {},
     "output_type": "execute_result"
    }
   ],
   "source": [
    "mt = mt.annotate_cols(is_interesting_sample = hl.agg.any(mt.is_interesting_var & mt.GT.is_non_ref()))\n",
    "mt.aggregate_cols(hl.agg.sum(mt.is_interesting_sample))"
   ]
  },
  {
   "cell_type": "code",
   "execution_count": 135,
   "id": "80e23d30",
   "metadata": {},
   "outputs": [
    {
     "name": "stderr",
     "output_type": "stream",
     "text": [
      "2022-06-20 23:44:15 Hail: INFO: Coerced sorted dataset\n",
      "2022-06-20 23:44:16 Hail: INFO: Coerced sorted dataset\n",
      "2022-06-20 23:44:17 Hail: INFO: Coerced sorted dataset\n",
      "2022-06-20 23:44:18 Hail: INFO: Coerced sorted dataset\n",
      "2022-06-20 23:44:34 Hail: INFO: Ordering unsorted dataset with network shuffle\n",
      "2022-06-20 23:44:35 Hail: INFO: Coerced sorted dataset\n",
      "2022-06-20 23:44:36 Hail: INFO: Coerced sorted dataset\n",
      "2022-06-20 23:45:26 Hail: INFO: merging 16 files totalling 6.0M...\n",
      "2022-06-20 23:45:26 Hail: INFO: while writing:\n",
      "    /opt/notebooks/gogoGPCR/data/misc/interesting_samples.tsv\n",
      "  merge time: 192.768ms\n"
     ]
    }
   ],
   "source": [
    "mt.is_interesting_sample.export(str(Path(\"../data/misc/interesting_samples.tsv\").resolve()))\n"
   ]
  },
  {
   "cell_type": "code",
   "execution_count": 19,
   "id": "05a6f80a",
   "metadata": {},
   "outputs": [
    {
     "name": "stderr",
     "output_type": "stream",
     "text": [
      "2022-06-25 20:16:54 Hail: INFO: Coerced sorted dataset\n",
      "2022-06-25 20:16:55 Hail: INFO: Coerced sorted dataset\n",
      "2022-06-25 20:17:19 Hail: INFO: Ordering unsorted dataset with network shuffle\n",
      "2022-06-25 20:17:20 Hail: INFO: Coerced sorted dataset\n",
      "2022-06-25 20:21:22 Hail: INFO: Coerced sorted dataset\n",
      "2022-06-25 20:21:23 Hail: INFO: Coerced sorted dataset\n",
      "2022-06-25 20:21:46 Hail: INFO: Ordering unsorted dataset with network shuffle\n",
      "2022-06-25 20:21:47 Hail: INFO: Coerced sorted dataset\n",
      "2022-06-25 20:21:49 Hail: INFO: Coerced sorted dataset\n",
      "2022-06-25 20:21:50 Hail: INFO: Coerced sorted dataset\n",
      "2022-06-25 20:21:50 Hail: INFO: Ordering unsorted dataset with network shuffle\n",
      "2022-06-25 20:21:51 Hail: INFO: Coerced sorted dataset\n",
      "2022-06-25 20:21:53 Hail: INFO: Ordering unsorted dataset with network shuffle\n",
      "2022-06-25 20:21:53 Hail: INFO: Ordering unsorted dataset with network shuffle\n",
      "2022-06-25 20:21:53 Hail: INFO: Ordering unsorted dataset with network shuffle\n",
      "2022-06-25 20:25:09 Hail: INFO: wrote matrix table with 329 rows and 454756 columns in 3 partitions to /tmp/MC4R.MISC1.mt\n",
      "    Total size: 381.62 MiB\n",
      "    * Rows/entries: 378.99 MiB\n",
      "    * Columns: 2.63 MiB\n",
      "    * Globals: 11.00 B\n",
      "    * Smallest partition: 0 rows (20.00 B)\n",
      "    * Largest partition:  301 rows (329.52 MiB)\n"
     ]
    }
   ],
   "source": [
    "STAGE = \"MISC1\"\n",
    "WRITE_PATH = f\"/tmp/MC4R.{STAGE}.mt\"\n",
    "\n",
    "mt.write(WRITE_PATH, overwrite=True)\n",
    "# mt = hl.read_matrix_table(WRITE_PATH)"
   ]
  },
  {
   "cell_type": "code",
   "execution_count": 21,
   "id": "f46383a9",
   "metadata": {},
   "outputs": [
    {
     "name": "stderr",
     "output_type": "stream",
     "text": [
      "2022-06-25 20:26:00 Hail: INFO: Reading table without type imputation\n",
      "  Loading field 'eid' as type str (not specified)\n"
     ]
    },
    {
     "name": "stdout",
     "output_type": "stream",
     "text": [
      "Samples remaining after hard filtering samples: 427247 \n"
     ]
    }
   ],
   "source": [
    "SAMPREMOVE_FILE=Path('../data/misc/samples_to_remove.tsv').resolve()\n",
    "run([\"hadoop\", \"fs\", \"-put\", str(SAMPREMOVE_FILE), \"/tmp\"])\n",
    "samples_to_remove = hl.import_table(f\"/tmp/{SAMPREMOVE_FILE.name}\", key=\"eid\")\n",
    "mt = mt.anti_join_cols(samples_to_remove)\n",
    "\n",
    "print(f\"Samples remaining after hard filtering samples: {mt.count_cols()} \")"
   ]
  },
  {
   "cell_type": "code",
   "execution_count": 22,
   "id": "e8b444cc",
   "metadata": {},
   "outputs": [
    {
     "name": "stdout",
     "output_type": "stream",
     "text": [
      "Samples remaining after removing withdrawn participants: 427199 \n"
     ]
    }
   ],
   "source": [
    "mt = mt.filter_cols(~mt.s.startswith(\"W\"))\n",
    "\n",
    "print(f\"Samples remaining after removing withdrawn participants: {mt.count_cols()} \")"
   ]
  },
  {
   "cell_type": "code",
   "execution_count": 23,
   "id": "a54c55fd",
   "metadata": {},
   "outputs": [
    {
     "name": "stderr",
     "output_type": "stream",
     "text": [
      "2022-06-25 20:27:13 Hail: INFO: Coerced sorted dataset\n",
      "2022-06-25 20:27:14 Hail: INFO: Coerced sorted dataset\n",
      "2022-06-25 20:27:15 Hail: INFO: Coerced sorted dataset\n"
     ]
    },
    {
     "data": {
      "text/plain": [
       "324"
      ]
     },
     "execution_count": 23,
     "metadata": {},
     "output_type": "execute_result"
    }
   ],
   "source": [
    "mt = hl.variant_qc(mt)\n",
    "mt = mt.filter_rows(mt.variant_qc.p_value_hwe <= 10e-6, keep = False)\n",
    "mt = mt.filter_rows((mt.variant_qc.AF[0] > 0.0) & (mt.variant_qc.AF[0] < 1.0))\n",
    "mt.count_rows()"
   ]
  },
  {
   "cell_type": "code",
   "execution_count": 26,
   "id": "89b8574e",
   "metadata": {},
   "outputs": [
    {
     "name": "stderr",
     "output_type": "stream",
     "text": [
      "2022-06-25 20:32:30 Hail: INFO: Ordering unsorted dataset with network shuffle\n"
     ]
    }
   ],
   "source": [
    "mt = mt.annotate_rows(label = hl.if_else(mt.vep.most_severe_consequence != \"missense_variant\",\n",
    "                                         mt.vep.most_severe_consequence,\n",
    "                                         mt.EVE_class))"
   ]
  },
  {
   "cell_type": "code",
   "execution_count": 27,
   "id": "3bddcece",
   "metadata": {},
   "outputs": [
    {
     "name": "stderr",
     "output_type": "stream",
     "text": [
      "2022-06-25 20:32:31 Hail: INFO: Coerced sorted dataset\n",
      "2022-06-25 20:32:32 Hail: INFO: Coerced sorted dataset\n",
      "2022-06-25 20:32:32 Hail: INFO: Coerced sorted dataset\n",
      "2022-06-25 20:32:33 Hail: INFO: Coerced sorted dataset\n",
      "2022-06-25 20:32:33 Hail: INFO: Coerced sorted dataset\n",
      "2022-06-25 20:32:34 Hail: INFO: Ordering unsorted dataset with network shuffle\n",
      "2022-06-25 20:32:35 Hail: INFO: Coerced sorted dataset\n",
      "2022-06-25 20:32:36 Hail: INFO: Ordering unsorted dataset with network shuffle\n",
      "2022-06-25 20:32:36 Hail: INFO: Ordering unsorted dataset with network shuffle\n",
      "2022-06-25 20:32:36 Hail: INFO: Ordering unsorted dataset with network shuffle\n",
      "2022-06-25 20:32:57 Hail: INFO: Ordering unsorted dataset with network shuffle\n",
      "2022-06-25 20:32:58 Hail: INFO: Coerced sorted dataset\n",
      "2022-06-25 20:35:55 Hail: INFO: wrote matrix table with 324 rows and 427199 columns in 3 partitions to /tmp/MC4R.FINAL.mt\n",
      "    Total size: 354.84 MiB\n",
      "    * Rows/entries: 352.37 MiB\n",
      "    * Columns: 2.47 MiB\n",
      "    * Globals: 11.00 B\n",
      "    * Smallest partition: 0 rows (20.00 B)\n",
      "    * Largest partition:  296 rows (305.89 MiB)\n",
      "2022-06-25 20:37:02 Hail: INFO: Coerced sorted dataset\n",
      "2022-06-25 20:37:03 Hail: INFO: Coerced sorted dataset\n",
      "2022-06-25 20:37:25 Hail: INFO: Ordering unsorted dataset with network shuffle\n",
      "2022-06-25 20:37:26 Hail: INFO: Coerced sorted dataset\n",
      "2022-06-25 20:37:27 Hail: INFO: Coerced sorted dataset\n",
      "2022-06-25 20:37:28 Hail: INFO: Coerced sorted dataset\n",
      "2022-06-25 20:37:29 Hail: INFO: Ordering unsorted dataset with network shuffle\n",
      "2022-06-25 20:37:30 Hail: INFO: Coerced sorted dataset\n",
      "2022-06-25 20:37:31 Hail: INFO: Ordering unsorted dataset with network shuffle\n",
      "2022-06-25 20:37:31 Hail: INFO: Ordering unsorted dataset with network shuffle\n",
      "2022-06-25 20:37:32 Hail: INFO: Ordering unsorted dataset with network shuffle\n",
      "2022-06-25 20:40:43 Hail: INFO: wrote matrix table with 324 rows and 427199 columns in 3 partitions to /tmp/MC4R.FINAL.mt\n",
      "    Total size: 354.84 MiB\n",
      "    * Rows/entries: 352.37 MiB\n",
      "    * Columns: 2.47 MiB\n",
      "    * Globals: 11.00 B\n",
      "    * Smallest partition: 0 rows (20.00 B)\n",
      "    * Largest partition:  296 rows (305.89 MiB)\n"
     ]
    }
   ],
   "source": [
    "STAGE = \"FINAL\"\n",
    "WRITE_PATH = f\"/tmp/MC4R.{STAGE}.mt\"\n",
    "\n",
    "mt.write(WRITE_PATH, overwrite=True)"
   ]
  },
  {
   "cell_type": "code",
   "execution_count": 28,
   "id": "1d690d2b",
   "metadata": {},
   "outputs": [],
   "source": [
    "intr = mt.rows()\n",
    "intr = intr.select(intr.variant_qc, intr.protCons, intr.label)\n",
    "intr = intr.annotate(**intr.variant_qc)\n",
    "intr = intr.drop(\n",
    "    \"variant_qc\",\n",
    "    \"gq_stats\",\n",
    "    \"dp_stats\",\n",
    ")"
   ]
  },
  {
   "cell_type": "code",
   "execution_count": 45,
   "id": "ecb5edf5",
   "metadata": {},
   "outputs": [
    {
     "name": "stderr",
     "output_type": "stream",
     "text": [
      "2022-06-21 02:15:45 Hail: INFO: merging 2 files totalling 51.7K...\n",
      "2022-06-21 02:15:45 Hail: INFO: while writing:\n",
      "    /tmp/MC4R_variants_full.tsv\n",
      "  merge time: 48.332ms\n"
     ]
    }
   ],
   "source": [
    "intr.export(\"/tmp/MC4R_variants_full.tsv\")"
   ]
  },
  {
   "cell_type": "code",
   "execution_count": 34,
   "id": "bfd37425",
   "metadata": {},
   "outputs": [],
   "source": [
    "from matrixtables import write_bgen, add_varid"
   ]
  },
  {
   "cell_type": "code",
   "execution_count": 40,
   "id": "cefd34e7",
   "metadata": {},
   "outputs": [],
   "source": [
    "BGEN_FILE = Path(\"/opt/notebooks/gogoGPCR/tmp/MC4R\").resolve().__str__()\n",
    "ANNOTATIONS_FILE = Path(\"/opt/notebooks/gogoGPCR/tmp/MC4R.annotations\").resolve().__str__()\n",
    "SETLIST_FILE = Path(\"/opt/notebooks/gogoGPCR/tmp/MC4R.setlist\").resolve().__str__()"
   ]
  },
  {
   "cell_type": "code",
   "execution_count": 32,
   "id": "51740f5b",
   "metadata": {},
   "outputs": [
    {
     "name": "stderr",
     "output_type": "stream",
     "text": [
      "2022-06-25 20:42:24 Hail: INFO: Coerced sorted dataset\n",
      "2022-06-25 20:42:26 Hail: INFO: Coerced sorted dataset\n",
      "2022-06-25 20:42:42 Hail: INFO: Ordering unsorted dataset with network shuffle\n",
      "2022-06-25 20:42:43 Hail: INFO: Coerced sorted dataset\n",
      "2022-06-25 20:44:23 Hail: INFO: while writing:\n",
      "    file:/opt/notebooks/gogoGPCR/tmp/MC4R.bgen\n",
      "  merge time: 204.840ms\n"
     ]
    }
   ],
   "source": [
    "write_bgen(mt, \"file:\" + BGEN_FILE)"
   ]
  },
  {
   "cell_type": "code",
   "execution_count": 36,
   "id": "5a2fa4b1",
   "metadata": {},
   "outputs": [],
   "source": [
    "# %%\n",
    "# ANNOTATIONS\n",
    "\n",
    "mt = add_varid(mt)\n",
    "\n",
    "annotations = (\n",
    "    mt.select_rows(\n",
    "        varid=mt.varid,\n",
    "        gene=mt.vep.transcript_consequences.gene_symbol[0],\n",
    "        annotation=mt.label,\n",
    "    )\n",
    "    .rows()\n",
    "    .key_by(\"varid\")\n",
    "    .drop(\"locus\")\n",
    "    .drop(\"alleles\")\n",
    ")"
   ]
  },
  {
   "cell_type": "code",
   "execution_count": 39,
   "id": "582b6b1b",
   "metadata": {},
   "outputs": [
    {
     "name": "stderr",
     "output_type": "stream",
     "text": [
      "2022-06-25 20:46:15 Hail: INFO: Coerced sorted dataset\n",
      "2022-06-25 20:46:16 Hail: INFO: Coerced sorted dataset\n",
      "2022-06-25 20:46:34 Hail: INFO: Ordering unsorted dataset with network shuffle\n",
      "2022-06-25 20:46:35 Hail: INFO: Coerced sorted dataset\n",
      "2022-06-25 20:46:36 Hail: INFO: Coerced sorted dataset\n",
      "2022-06-25 20:46:37 Hail: INFO: Coerced sorted dataset\n",
      "2022-06-25 20:46:38 Hail: INFO: Ordering unsorted dataset with network shuffle\n",
      "2022-06-25 20:46:38 Hail: INFO: Coerced sorted dataset\n",
      "2022-06-25 20:46:40 Hail: INFO: Ordering unsorted dataset with network shuffle\n",
      "2022-06-25 20:46:40 Hail: INFO: Ordering unsorted dataset with network shuffle\n",
      "2022-06-25 20:46:40 Hail: INFO: Ordering unsorted dataset with network shuffle\n",
      "2022-06-25 20:47:30 Hail: INFO: Coerced sorted dataset\n",
      "2022-06-25 20:48:03 Hail: INFO: merging 2 files totalling 11.5K...\n",
      "2022-06-25 20:48:03 Hail: INFO: while writing:\n",
      "    file:/opt/notebooks/gogoGPCR/tmp/MC4R.annotations\n",
      "  merge time: 55.485ms\n"
     ]
    }
   ],
   "source": [
    "annotations.export(\"file:\" + ANNOTATIONS_FILE, header=False)"
   ]
  },
  {
   "cell_type": "code",
   "execution_count": 41,
   "id": "460356eb",
   "metadata": {},
   "outputs": [
    {
     "name": "stderr",
     "output_type": "stream",
     "text": [
      "2022-06-25 20:48:04 Hail: INFO: Coerced sorted dataset\n",
      "2022-06-25 20:48:05 Hail: INFO: Coerced sorted dataset\n",
      "2022-06-25 20:48:06 Hail: INFO: Coerced sorted dataset\n",
      "2022-06-25 20:48:28 Hail: INFO: Coerced sorted dataset\n",
      "2022-06-25 20:48:29 Hail: INFO: Coerced sorted dataset\n",
      "2022-06-25 20:48:46 Hail: INFO: Ordering unsorted dataset with network shuffle\n",
      "2022-06-25 20:48:47 Hail: INFO: Coerced sorted dataset\n",
      "2022-06-25 20:49:37 Hail: INFO: Coerced sorted dataset\n",
      "2022-06-25 20:49:39 Hail: INFO: Coerced sorted dataset\n",
      "2022-06-25 20:49:55 Hail: INFO: Ordering unsorted dataset with network shuffle\n",
      "2022-06-25 20:49:56 Hail: INFO: Coerced sorted dataset\n",
      "2022-06-25 20:50:47 Hail: INFO: Coerced sorted dataset\n",
      "2022-06-25 20:50:48 Hail: INFO: Coerced sorted dataset\n",
      "2022-06-25 20:51:04 Hail: INFO: Ordering unsorted dataset with network shuffle\n",
      "2022-06-25 20:51:05 Hail: INFO: Coerced sorted dataset\n"
     ]
    }
   ],
   "source": [
    "position = mt.aggregate_rows(hl.agg.min(mt.locus.position))\n",
    "names = mt.varid.collect()\n",
    "names_str = \",\".join(names)\n",
    "\n",
    "line = f\"{mt.vep.transcript_consequences.gene_symbol[0].collect()[0]}\\t{mt.locus.contig.collect()[0]}\\t{position}\\t{names_str}\"\n",
    "\n",
    "with open(SETLIST_FILE, \"w\") as f:\n",
    "    f.write(line)\n"
   ]
  },
  {
   "cell_type": "code",
   "execution_count": 43,
   "id": "cc9cbc88",
   "metadata": {},
   "outputs": [
    {
     "data": {
      "text/plain": [
       "CompletedProcess(args=['dx', 'upload', '/opt/notebooks/gogoGPCR/tmp/MC4R.bgen', '/opt/notebooks/gogoGPCR/tmp/MC4R.sample', '/opt/notebooks/gogoGPCR/tmp/MC4R.annotations', '/opt/notebooks/gogoGPCR/tmp/MC4R.setlist', '--path', '/Data/burden/'], returncode=0)"
      ]
     },
     "execution_count": 43,
     "metadata": {},
     "output_type": "execute_result"
    }
   ],
   "source": [
    "bgen_file = BGEN_FILE + \".bgen\"\n",
    "sample_file = BGEN_FILE + \".sample\"\n",
    "\n",
    "run(\n",
    "    [\n",
    "        \"dx\",\n",
    "        \"upload\",\n",
    "        bgen_file,\n",
    "        sample_file,\n",
    "        ANNOTATIONS_FILE,\n",
    "        SETLIST_FILE,\n",
    "        \"--path\",\n",
    "        \"/Data/burden/\",\n",
    "    ],\n",
    "    check=True,\n",
    "    shell=False,\n",
    ")"
   ]
  },
  {
   "cell_type": "code",
   "execution_count": 44,
   "id": "c371f64c",
   "metadata": {},
   "outputs": [
    {
     "name": "stderr",
     "output_type": "stream",
     "text": [
      "2022-06-25 22:09:31 Hail: INFO: Coerced sorted dataset\n",
      "2022-06-25 22:09:32 Hail: INFO: Coerced sorted dataset\n",
      "2022-06-25 22:09:48 Hail: INFO: Ordering unsorted dataset with network shuffle\n",
      "2022-06-25 22:09:49 Hail: INFO: Coerced sorted dataset\n"
     ]
    },
    {
     "data": {
      "text/html": [
       "<table><thead><tr><td style=\"white-space: nowrap; max-width: 500px; overflow: hidden; text-overflow: ellipsis; \" colspan=\"1\"><div style=\"text-align: left;\"></div></td><td style=\"white-space: nowrap; max-width: 500px; overflow: hidden; text-overflow: ellipsis; \" colspan=\"1\"><div style=\"text-align: left;\"></div></td></tr><tr><td style=\"white-space: nowrap; max-width: 500px; overflow: hidden; text-overflow: ellipsis; \" colspan=\"1\"><div style=\"text-align: left;border-bottom: solid 2px #000; padding-bottom: 5px\">locus</div></td><td style=\"white-space: nowrap; max-width: 500px; overflow: hidden; text-overflow: ellipsis; \" colspan=\"1\"><div style=\"text-align: left;border-bottom: solid 2px #000; padding-bottom: 5px\">alleles</div></td></tr><tr><td style=\"white-space: nowrap; max-width: 500px; overflow: hidden; text-overflow: ellipsis; text-align: left;\">locus&lt;GRCh38&gt;</td><td style=\"white-space: nowrap; max-width: 500px; overflow: hidden; text-overflow: ellipsis; text-align: left;\">array&lt;str&gt;</td></tr>\n",
       "</thead><tbody><tr><td style=\"white-space: nowrap; max-width: 500px; overflow: hidden; text-overflow: ellipsis; \">chr18:60371355</td><td style=\"white-space: nowrap; max-width: 500px; overflow: hidden; text-overflow: ellipsis; \">[&quot;T&quot;,&quot;C&quot;]</td></tr>\n",
       "<tr><td style=\"white-space: nowrap; max-width: 500px; overflow: hidden; text-overflow: ellipsis; \">chr18:60371356</td><td style=\"white-space: nowrap; max-width: 500px; overflow: hidden; text-overflow: ellipsis; \">[&quot;A&quot;,&quot;G&quot;]</td></tr>\n",
       "<tr><td style=\"white-space: nowrap; max-width: 500px; overflow: hidden; text-overflow: ellipsis; \">chr18:60371358</td><td style=\"white-space: nowrap; max-width: 500px; overflow: hidden; text-overflow: ellipsis; \">[&quot;C&quot;,&quot;T&quot;]</td></tr>\n",
       "<tr><td style=\"white-space: nowrap; max-width: 500px; overflow: hidden; text-overflow: ellipsis; \">chr18:60371359</td><td style=\"white-space: nowrap; max-width: 500px; overflow: hidden; text-overflow: ellipsis; \">[&quot;T&quot;,&quot;G&quot;]</td></tr>\n",
       "<tr><td style=\"white-space: nowrap; max-width: 500px; overflow: hidden; text-overflow: ellipsis; \">chr18:60371365</td><td style=\"white-space: nowrap; max-width: 500px; overflow: hidden; text-overflow: ellipsis; \">[&quot;A&quot;,&quot;C&quot;]</td></tr>\n",
       "<tr><td style=\"white-space: nowrap; max-width: 500px; overflow: hidden; text-overflow: ellipsis; \">chr18:60371366</td><td style=\"white-space: nowrap; max-width: 500px; overflow: hidden; text-overflow: ellipsis; \">[&quot;C&quot;,&quot;T&quot;]</td></tr>\n",
       "<tr><td style=\"white-space: nowrap; max-width: 500px; overflow: hidden; text-overflow: ellipsis; \">chr18:60371367</td><td style=\"white-space: nowrap; max-width: 500px; overflow: hidden; text-overflow: ellipsis; \">[&quot;A&quot;,&quot;T&quot;]</td></tr>\n",
       "<tr><td style=\"white-space: nowrap; max-width: 500px; overflow: hidden; text-overflow: ellipsis; \">chr18:60371367</td><td style=\"white-space: nowrap; max-width: 500px; overflow: hidden; text-overflow: ellipsis; \">[&quot;AAGTC&quot;,&quot;A&quot;]</td></tr>\n",
       "<tr><td style=\"white-space: nowrap; max-width: 500px; overflow: hidden; text-overflow: ellipsis; \">chr18:60371369</td><td style=\"white-space: nowrap; max-width: 500px; overflow: hidden; text-overflow: ellipsis; \">[&quot;G&quot;,&quot;C&quot;]</td></tr>\n",
       "<tr><td style=\"white-space: nowrap; max-width: 500px; overflow: hidden; text-overflow: ellipsis; \">chr18:60371374</td><td style=\"white-space: nowrap; max-width: 500px; overflow: hidden; text-overflow: ellipsis; \">[&quot;A&quot;,&quot;G&quot;]</td></tr>\n",
       "</tbody></table><p style=\"background: #fdd; padding: 0.4em;\">showing top 10 rows</p>\n",
       "<p style=\"background: #fdd; padding: 0.4em;\">showing the first 0 of 427199 columns</p>\n"
      ],
      "text/plain": [
       "+----------------+---------------+\n",
       "| locus          | alleles       |\n",
       "+----------------+---------------+\n",
       "| locus<GRCh38>  | array<str>    |\n",
       "+----------------+---------------+\n",
       "| chr18:60371355 | [\"T\",\"C\"]     |\n",
       "| chr18:60371356 | [\"A\",\"G\"]     |\n",
       "| chr18:60371358 | [\"C\",\"T\"]     |\n",
       "| chr18:60371359 | [\"T\",\"G\"]     |\n",
       "| chr18:60371365 | [\"A\",\"C\"]     |\n",
       "| chr18:60371366 | [\"C\",\"T\"]     |\n",
       "| chr18:60371367 | [\"A\",\"T\"]     |\n",
       "| chr18:60371367 | [\"AAGTC\",\"A\"] |\n",
       "| chr18:60371369 | [\"G\",\"C\"]     |\n",
       "| chr18:60371374 | [\"A\",\"G\"]     |\n",
       "+----------------+---------------+\n",
       "showing top 10 rows\n",
       "showing the first 0 of 427199 columns"
      ]
     },
     "metadata": {},
     "output_type": "display_data"
    }
   ],
   "source": [
    "mt.show()"
   ]
  },
  {
   "cell_type": "code",
   "execution_count": 47,
   "id": "3da53831",
   "metadata": {},
   "outputs": [
    {
     "name": "stderr",
     "output_type": "stream",
     "text": [
      "2022-06-25 22:11:31 Hail: INFO: Coerced sorted dataset\n",
      "2022-06-25 22:11:32 Hail: INFO: Coerced sorted dataset\n",
      "2022-06-25 22:11:49 Hail: INFO: Ordering unsorted dataset with network shuffle\n",
      "2022-06-25 22:11:50 Hail: INFO: Coerced sorted dataset\n"
     ]
    },
    {
     "data": {
      "text/html": [
       "<table><thead><tr><td style=\"white-space: nowrap; max-width: 500px; overflow: hidden; text-overflow: ellipsis; \" colspan=\"1\"><div style=\"text-align: left;\"></div></td><td style=\"white-space: nowrap; max-width: 500px; overflow: hidden; text-overflow: ellipsis; \" colspan=\"1\"><div style=\"text-align: left;\"></div></td><td style=\"white-space: nowrap; max-width: 500px; overflow: hidden; text-overflow: ellipsis; \" colspan=\"1\"><div style=\"text-align: left;\"></div></td></tr><tr><td style=\"white-space: nowrap; max-width: 500px; overflow: hidden; text-overflow: ellipsis; \" colspan=\"1\"><div style=\"text-align: left;border-bottom: solid 2px #000; padding-bottom: 5px\">locus</div></td><td style=\"white-space: nowrap; max-width: 500px; overflow: hidden; text-overflow: ellipsis; \" colspan=\"1\"><div style=\"text-align: left;border-bottom: solid 2px #000; padding-bottom: 5px\">alleles</div></td><td style=\"white-space: nowrap; max-width: 500px; overflow: hidden; text-overflow: ellipsis; \" colspan=\"1\"><div style=\"text-align: left;border-bottom: solid 2px #000; padding-bottom: 5px\"><expr></div></td></tr><tr><td style=\"white-space: nowrap; max-width: 500px; overflow: hidden; text-overflow: ellipsis; text-align: left;\">locus&lt;GRCh38&gt;</td><td style=\"white-space: nowrap; max-width: 500px; overflow: hidden; text-overflow: ellipsis; text-align: left;\">array&lt;str&gt;</td><td style=\"white-space: nowrap; max-width: 500px; overflow: hidden; text-overflow: ellipsis; text-align: left;\">array&lt;float64&gt;</td></tr>\n",
       "</thead><tbody><tr><td style=\"white-space: nowrap; max-width: 500px; overflow: hidden; text-overflow: ellipsis; \">chr18:60372043</td><td style=\"white-space: nowrap; max-width: 500px; overflow: hidden; text-overflow: ellipsis; \">[&quot;C&quot;,&quot;T&quot;]</td><td style=\"white-space: nowrap; max-width: 500px; overflow: hidden; text-overflow: ellipsis; \">[1.98e-02]</td></tr>\n",
       "</tbody></table>"
      ],
      "text/plain": [
       "+----------------+------------+----------------+\n",
       "| locus          | alleles    | <expr>         |\n",
       "+----------------+------------+----------------+\n",
       "| locus<GRCh38>  | array<str> | array<float64> |\n",
       "+----------------+------------+----------------+\n",
       "| chr18:60372043 | [\"C\",\"T\"]  | [1.98e-02]     |\n",
       "+----------------+------------+----------------+"
      ]
     },
     "metadata": {},
     "output_type": "display_data"
    }
   ],
   "source": [
    "mt.filter_rows(mt.protCons == \"V103I\").info.AF.show()"
   ]
  },
  {
   "cell_type": "code",
   "execution_count": 46,
   "id": "2b4f292d",
   "metadata": {},
   "outputs": [
    {
     "name": "stdout",
     "output_type": "stream",
     "text": [
      "----------------------------------------\n",
      "Global fields:\n",
      "    None\n",
      "----------------------------------------\n",
      "Column fields:\n",
      "    's': str\n",
      "    'is_interesting_sample': bool\n",
      "----------------------------------------\n",
      "Row fields:\n",
      "    'locus': locus<GRCh38>\n",
      "    'alleles': array<str>\n",
      "    'rsid': str\n",
      "    'qual': float64\n",
      "    'filters': set<str>\n",
      "    'info': struct {\n",
      "        AF: array<float64>, \n",
      "        AQ: array<int32>, \n",
      "        AC: array<int32>, \n",
      "        AN: int32\n",
      "    }\n",
      "    'a_index': int32\n",
      "    'was_split': bool\n",
      "    'vep': struct {\n",
      "        assembly_name: str, \n",
      "        allele_string: str, \n",
      "        ancestral: str, \n",
      "        colocated_variants: array<struct {\n",
      "            aa_allele: str, \n",
      "            aa_maf: float64, \n",
      "            afr_allele: str, \n",
      "            afr_maf: float64, \n",
      "            allele_string: str, \n",
      "            amr_allele: str, \n",
      "            amr_maf: float64, \n",
      "            clin_sig: array<str>, \n",
      "            end: int32, \n",
      "            eas_allele: str, \n",
      "            eas_maf: float64, \n",
      "            ea_allele: str, \n",
      "            ea_maf: float64, \n",
      "            eur_allele: str, \n",
      "            eur_maf: float64, \n",
      "            exac_adj_allele: str, \n",
      "            exac_adj_maf: float64, \n",
      "            exac_allele: str, \n",
      "            exac_afr_allele: str, \n",
      "            exac_afr_maf: float64, \n",
      "            exac_amr_allele: str, \n",
      "            exac_amr_maf: float64, \n",
      "            exac_eas_allele: str, \n",
      "            exac_eas_maf: float64, \n",
      "            exac_fin_allele: str, \n",
      "            exac_fin_maf: float64, \n",
      "            exac_maf: float64, \n",
      "            exac_nfe_allele: str, \n",
      "            exac_nfe_maf: float64, \n",
      "            exac_oth_allele: str, \n",
      "            exac_oth_maf: float64, \n",
      "            exac_sas_allele: str, \n",
      "            exac_sas_maf: float64, \n",
      "            id: str, \n",
      "            minor_allele: str, \n",
      "            minor_allele_freq: float64, \n",
      "            phenotype_or_disease: int32, \n",
      "            pubmed: array<int32>, \n",
      "            sas_allele: str, \n",
      "            sas_maf: float64, \n",
      "            somatic: int32, \n",
      "            start: int32, \n",
      "            strand: int32\n",
      "        }>, \n",
      "        context: str, \n",
      "        end: int32, \n",
      "        id: str, \n",
      "        input: str, \n",
      "        intergenic_consequences: array<struct {\n",
      "            allele_num: int32, \n",
      "            consequence_terms: array<str>, \n",
      "            impact: str, \n",
      "            minimised: int32, \n",
      "            variant_allele: str\n",
      "        }>, \n",
      "        most_severe_consequence: str, \n",
      "        motif_feature_consequences: array<struct {\n",
      "            allele_num: int32, \n",
      "            consequence_terms: array<str>, \n",
      "            high_inf_pos: str, \n",
      "            impact: str, \n",
      "            minimised: int32, \n",
      "            motif_feature_id: str, \n",
      "            motif_name: str, \n",
      "            motif_pos: int32, \n",
      "            motif_score_change: float64, \n",
      "            strand: int32, \n",
      "            variant_allele: str\n",
      "        }>, \n",
      "        regulatory_feature_consequences: array<struct {\n",
      "            allele_num: int32, \n",
      "            biotype: str, \n",
      "            consequence_terms: array<str>, \n",
      "            impact: str, \n",
      "            minimised: int32, \n",
      "            regulatory_feature_id: str, \n",
      "            variant_allele: str\n",
      "        }>, \n",
      "        seq_region_name: str, \n",
      "        start: int32, \n",
      "        strand: int32, \n",
      "        transcript_consequences: array<struct {\n",
      "            allele_num: int32, \n",
      "            amino_acids: str, \n",
      "            appris: str, \n",
      "            biotype: str, \n",
      "            canonical: int32, \n",
      "            ccds: str, \n",
      "            cdna_start: int32, \n",
      "            cdna_end: int32, \n",
      "            cds_end: int32, \n",
      "            cds_start: int32, \n",
      "            codons: str, \n",
      "            consequence_terms: array<str>, \n",
      "            distance: int32, \n",
      "            domains: array<struct {\n",
      "                db: str, \n",
      "                name: str\n",
      "            }>, \n",
      "            exon: str, \n",
      "            gene_id: str, \n",
      "            gene_pheno: int32, \n",
      "            gene_symbol: str, \n",
      "            gene_symbol_source: str, \n",
      "            hgnc_id: str, \n",
      "            hgvsc: str, \n",
      "            hgvsp: str, \n",
      "            hgvs_offset: int32, \n",
      "            impact: str, \n",
      "            intron: str, \n",
      "            lof: str, \n",
      "            lof_flags: str, \n",
      "            lof_filter: str, \n",
      "            lof_info: str, \n",
      "            minimised: int32, \n",
      "            polyphen_prediction: str, \n",
      "            polyphen_score: float64, \n",
      "            protein_end: int32, \n",
      "            protein_start: int32, \n",
      "            protein_id: str, \n",
      "            sift_prediction: str, \n",
      "            sift_score: float64, \n",
      "            strand: int32, \n",
      "            swissprot: str, \n",
      "            transcript_id: str, \n",
      "            trembl: str, \n",
      "            tsl: int32, \n",
      "            uniparc: str, \n",
      "            mane_select: str, \n",
      "            variant_allele: str\n",
      "        }>, \n",
      "        variant_class: str\n",
      "    }\n",
      "    'vep_proc_id': struct {\n",
      "        part_idx: int32, \n",
      "        block_idx: int32\n",
      "    }\n",
      "    'protCons': str\n",
      "    'EVE': struct {\n",
      "        EVE_scores_ASM: float64, \n",
      "        EVE_group: int32\n",
      "    }\n",
      "    'EVE_class': str\n",
      "    'is_interesting_var': bool\n",
      "    'variant_qc': struct {\n",
      "        dp_stats: struct {\n",
      "            mean: float64, \n",
      "            stdev: float64, \n",
      "            min: float64, \n",
      "            max: float64\n",
      "        }, \n",
      "        gq_stats: struct {\n",
      "            mean: float64, \n",
      "            stdev: float64, \n",
      "            min: float64, \n",
      "            max: float64\n",
      "        }, \n",
      "        AC: array<int32>, \n",
      "        AF: array<float64>, \n",
      "        AN: int32, \n",
      "        homozygote_count: array<int32>, \n",
      "        call_rate: float64, \n",
      "        n_called: int64, \n",
      "        n_not_called: int64, \n",
      "        n_filtered: int64, \n",
      "        n_het: int64, \n",
      "        n_non_ref: int64, \n",
      "        het_freq_hwe: float64, \n",
      "        p_value_hwe: float64\n",
      "    }\n",
      "    'label': str\n",
      "    'varid': str\n",
      "----------------------------------------\n",
      "Entry fields:\n",
      "    'GT': call\n",
      "    'RNC': array<str>\n",
      "    'DP': int32\n",
      "    'AD': array<int32>\n",
      "    'GQ': int32\n",
      "    'PL': array<int32>\n",
      "----------------------------------------\n",
      "Column key: ['s']\n",
      "Row key: ['locus', 'alleles']\n",
      "----------------------------------------\n"
     ]
    }
   ],
   "source": [
    "mt.describe()"
   ]
  },
  {
   "cell_type": "code",
   "execution_count": null,
   "id": "8988dfc7",
   "metadata": {},
   "outputs": [],
   "source": []
  }
 ],
 "metadata": {
  "kernelspec": {
   "display_name": "Python 3",
   "language": "python",
   "name": "python3"
  },
  "language_info": {
   "codemirror_mode": {
    "name": "ipython",
    "version": 3
   },
   "file_extension": ".py",
   "mimetype": "text/x-python",
   "name": "python",
   "nbconvert_exporter": "python",
   "pygments_lexer": "ipython3",
   "version": "3.6.5"
  }
 },
 "nbformat": 4,
 "nbformat_minor": 5
}

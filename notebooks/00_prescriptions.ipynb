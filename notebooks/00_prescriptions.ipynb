{
 "cells": [
  {
   "cell_type": "code",
   "execution_count": 1,
   "id": "b8b13935",
   "metadata": {},
   "outputs": [
    {
     "name": "stderr",
     "output_type": "stream",
     "text": [
      "pip-installed Hail requires additional configuration options in Spark referring\n",
      "  to the path to the Hail Python module directory HAIL_DIR,\n",
      "  e.g. /path/to/python/site-packages/hail:\n",
      "    spark.jars=HAIL_DIR/hail-all-spark.jar\n",
      "    spark.driver.extraClassPath=HAIL_DIR/hail-all-spark.jar\n",
      "    spark.executor.extraClassPath=./hail-all-spark.jarRunning on Apache Spark version 2.4.4\n",
      "SparkUI available at http://ip-10-60-31-131.eu-west-2.compute.internal:8081\n",
      "Welcome to\n",
      "     __  __     <>__\n",
      "    / /_/ /__  __/ /\n",
      "   / __  / _ `/ / /\n",
      "  /_/ /_/\\_,_/_/_/   version 0.2.61-3c86d3ba497a\n",
      "LOGGING: writing to /opt/notebooks/gogoGPCR/hail_logs/prescriptions.log\n"
     ]
    }
   ],
   "source": [
    "# IMPORTS\n",
    "import re\n",
    "\n",
    "import dxdata\n",
    "import dxpy\n",
    "import pyspark\n",
    "from pprint import pprint\n",
    "\n",
    "import tomli\n",
    "import hail as hl\n",
    "from pathlib import Path\n",
    "from pyspark.sql.types import StringType\n",
    "import subprocess\n",
    "\n",
    "# SET LOGFILE\n",
    "\n",
    "with open(\"../config.toml\", \"rb\") as f:\n",
    "    conf = tomli.load(f)\n",
    "\n",
    "    LOG_FILE = Path(conf[\"IMPORT\"][\"LOG_DIR\"], f\"prescriptions.log\").resolve().__str__()\n",
    "\n",
    "\n",
    "# INIT SPARK\n",
    "sc = pyspark.SparkContext()\n",
    "spark = pyspark.sql.SparkSession(sc)\n",
    "\n",
    "# INIT HAIL\n",
    "hl.init(sc=sc, default_reference=\"GRCh38\", log=LOG_FILE)\n",
    "\n",
    "# DISPENSE DATASET\n",
    "dispensed_database_name = dxpy.find_one_data_object(\n",
    "    classname=\"database\", name=\"app*\", folder=\"/\", name_mode=\"glob\", describe=True\n",
    ")[\"describe\"][\"name\"]\n",
    "dispensed_dataset_id = dxpy.find_one_data_object(\n",
    "    typename=\"Dataset\", name=\"app*.dataset\", folder=\"/\", name_mode=\"glob\"\n",
    ")[\"id\"]\n",
    "\n",
    "spark.sql(\"USE \" + dispensed_database_name)\n",
    "\n",
    "dataset = dxdata.load_dataset(id=dispensed_dataset_id)\n",
    "scripts = dataset[\"gp_scripts\"]\n",
    "\n",
    "field_names = [field.name for field in scripts.fields]\n",
    "df = scripts.retrieve_fields(names=field_names, engine=dxdata.connect())\n",
    "\n",
    "# MAKE TMPDIR\n",
    "\n",
    "Path(\"../tmp\").resolve().mkdir(parents=True, exist_ok=True)"
   ]
  },
  {
   "cell_type": "code",
   "execution_count": 2,
   "id": "3ea23e8a",
   "metadata": {},
   "outputs": [],
   "source": [
    "df = df.withColumn(\"issue_date\", df.issue_date.cast(StringType()))"
   ]
  },
  {
   "cell_type": "code",
   "execution_count": 3,
   "id": "5fd9e140",
   "metadata": {},
   "outputs": [
    {
     "name": "stderr",
     "output_type": "stream",
     "text": [
      "2021-12-03 10:20:05 Hail: INFO: Ordering unsorted dataset with network shuffle\n"
     ]
    }
   ],
   "source": [
    "ht = hl.Table.from_spark(df, key=[\"eid\"])"
   ]
  },
  {
   "cell_type": "code",
   "execution_count": 4,
   "id": "aeee9956",
   "metadata": {},
   "outputs": [
    {
     "name": "stderr",
     "output_type": "stream",
     "text": [
      "2021-12-03 10:20:06 Hail: INFO: Reading table to impute column types\n",
      "2021-12-03 10:20:08 Hail: INFO: Finished type imputation\n",
      "  Loading field 'Participant ID' as type str (user-supplied type)\n",
      "  Loading field 'F20' as type str (imputed)\n",
      "  Loading field 'F21' as type str (imputed)\n",
      "  Loading field 'F25' as type str (imputed)\n",
      "  Loading field 'Age' as type int32 (imputed)\n",
      "  Loading field 'Sex' as type str (imputed)\n"
     ]
    }
   ],
   "source": [
    "ids = hl.import_table(\n",
    "    \"file://\" + \"/mnt/project/Data/schizophrenia/Participant_table.csv\",\n",
    "    delimiter=\",\",\n",
    "    impute=True,\n",
    "    key=\"Participant ID\",\n",
    "    types={\"Participant ID\": \"str\"},\n",
    ")"
   ]
  },
  {
   "cell_type": "code",
   "execution_count": null,
   "id": "1d1f993d",
   "metadata": {},
   "outputs": [],
   "source": [
    "ht = ht.semi_join(ids)\n",
    "ht = ht.annotate(**ids[ht.eid])\n",
    "ht.show()"
   ]
  },
  {
   "cell_type": "code",
   "execution_count": 6,
   "id": "9802ceaa",
   "metadata": {},
   "outputs": [
    {
     "name": "stderr",
     "output_type": "stream",
     "text": [
      "2021-12-03 10:21:02 Hail: INFO: Coerced sorted dataset\n",
      "2021-12-03 10:22:01 Hail: INFO: Coerced sorted dataset\n"
     ]
    },
    {
     "name": "stdout",
     "output_type": "stream",
     "text": [
      "'Total number of prescriptions: 475215 from 641 unique patients'\n"
     ]
    }
   ],
   "source": [
    "total = ht.count()\n",
    "patients = ht.group_by(\"eid\").aggregate(eids=hl.agg.count()).count()\n",
    "pprint(f\"Total number of prescriptions: {total} from {patients} unique patients\")"
   ]
  },
  {
   "cell_type": "code",
   "execution_count": 10,
   "id": "b6cbeb05",
   "metadata": {},
   "outputs": [],
   "source": [
    "write_path = \"/tmp/schizophrenia_prescriptions.tsv.bgz\"\n",
    "ht.export(write_path)"
   ]
  },
  {
   "cell_type": "code",
   "execution_count": 11,
   "id": "856cedee",
   "metadata": {},
   "outputs": [
    {
     "data": {
      "text/plain": [
       "CompletedProcess(args=['hadoop', 'fs', '-get', '/tmp/schizophrenia_prescriptions.tsv.bgz', '../tmp/schizophrenia_prescriptions.tsv.bgz'], returncode=0)"
      ]
     },
     "execution_count": 11,
     "metadata": {},
     "output_type": "execute_result"
    }
   ],
   "source": [
    "subprocess.run(\n",
    "    [\"hadoop\", \"fs\", \"-get\", write_path, f\"..{write_path}\"], check=True, shell=False\n",
    ")"
   ]
  },
  {
   "cell_type": "code",
   "execution_count": 14,
   "id": "fb720567",
   "metadata": {},
   "outputs": [
    {
     "data": {
      "text/plain": [
       "CompletedProcess(args=['dx', 'upload', '../tmp/schizophrenia_prescriptions.tsv.bgz', '--path', 'Data/schizophrenia/schizophrenia_prescriptions.tsv.bgz'], returncode=0)"
      ]
     },
     "execution_count": 14,
     "metadata": {},
     "output_type": "execute_result"
    }
   ],
   "source": [
    "subprocess.run(\n",
    "    [\n",
    "        \"dx\",\n",
    "        \"upload\",\n",
    "        f\"..{write_path}\",\n",
    "        \"--path\",\n",
    "        \"Data/schizophrenia/schizophrenia_prescriptions.tsv.bgz\",\n",
    "    ],\n",
    "    check=True,\n",
    "    shell=False,\n",
    ")"
   ]
  }
 ],
 "metadata": {
  "jupytext": {
   "formats": "ipynb,py:percent"
  },
  "kernelspec": {
   "display_name": "Python 3",
   "language": "python",
   "name": "python3"
  },
  "language_info": {
   "codemirror_mode": {
    "name": "ipython",
    "version": 3
   },
   "file_extension": ".py",
   "mimetype": "text/x-python",
   "name": "python",
   "nbconvert_exporter": "python",
   "pygments_lexer": "ipython3",
   "version": "3.6.5"
  }
 },
 "nbformat": 4,
 "nbformat_minor": 5
}

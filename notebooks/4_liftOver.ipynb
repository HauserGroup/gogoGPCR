{
 "cells": [
  {
   "cell_type": "code",
   "execution_count": 1,
   "id": "e53983a1",
   "metadata": {},
   "outputs": [],
   "source": [
    "import pyspark\n",
    "import dxpy\n",
    "import hail as hl\n",
    "import gzip"
   ]
  },
  {
   "cell_type": "code",
   "execution_count": 2,
   "id": "cc74bcda",
   "metadata": {},
   "outputs": [
    {
     "name": "stderr",
     "output_type": "stream",
     "text": [
      "pip-installed Hail requires additional configuration options in Spark referring\n",
      "  to the path to the Hail Python module directory HAIL_DIR,\n",
      "  e.g. /path/to/python/site-packages/hail:\n",
      "    spark.jars=HAIL_DIR/hail-all-spark.jar\n",
      "    spark.driver.extraClassPath=HAIL_DIR/hail-all-spark.jar\n",
      "    spark.executor.extraClassPath=./hail-all-spark.jarRunning on Apache Spark version 2.4.4\n",
      "SparkUI available at http://ip-10-60-63-196.eu-west-2.compute.internal:8081\n",
      "Welcome to\n",
      "     __  __     <>__\n",
      "    / /_/ /__  __/ /\n",
      "   / __  / _ `/ / /\n",
      "  /_/ /_/\\_,_/_/_/   version 0.2.61-3c86d3ba497a\n",
      "LOGGING: writing to /opt/notebooks/gogoGPCR/notebooks/hail-20211110-1439-0.2.61-3c86d3ba497a.log\n"
     ]
    }
   ],
   "source": [
    "sc = pyspark.SparkContext()\n",
    "spark = pyspark.sql.SparkSession(sc)\n",
    "hl.init(sc=sc, default_reference='GRCh38')"
   ]
  },
  {
   "cell_type": "code",
   "execution_count": 3,
   "id": "d4f8cdc0",
   "metadata": {},
   "outputs": [],
   "source": [
    "rg37 = hl.get_reference('GRCh37')  \n",
    "rg38 = hl.get_reference('GRCh38')  \n",
    "rg37.add_liftover(\"file:\" + \"/opt/notebooks/gogoGPCR/tmp/hg19ToHg38.over.filtered.chain.gz\", rg38)"
   ]
  },
  {
   "cell_type": "code",
   "execution_count": 4,
   "id": "4cc82bbc",
   "metadata": {},
   "outputs": [],
   "source": [
    "mt = hl.import_vcf(\"file:\" + \"/mnt/project/Bulk/Exome\\ sequences/Population\\ level\\ exome\\ OQFE\\ variants\\,\\ pVCF\\ format/ukb23156_c13_b7_v1.vcf.gz\",\n",
    "                   force_bgz = True,\n",
    "                   array_elements_required = False,\n",
    "                   drop_samples = True)"
   ]
  },
  {
   "cell_type": "code",
   "execution_count": 6,
   "id": "34261479",
   "metadata": {},
   "outputs": [
    {
     "name": "stderr",
     "output_type": "stream",
     "text": [
      "2021-11-10 14:44:32 Hail: INFO: Coerced sorted dataset\n",
      "2021-11-10 14:46:00 Hail: INFO: wrote matrix table with 13687 rows and 0 columns in 46 partitions to /tmp\n",
      "    Total size: 327.41 KiB\n",
      "    * Rows/entries: 327.39 KiB\n",
      "    * Columns: 10.00 B\n",
      "    * Globals: 11.00 B\n",
      "    * Smallest partition: 177 rows (4.05 KiB)\n",
      "    * Largest partition:  428 rows (10.05 KiB)\n"
     ]
    },
    {
     "data": {
      "text/plain": [
       "<hail.matrixtable.MatrixTable at 0x7fdb09596748>"
      ]
     },
     "execution_count": 6,
     "metadata": {},
     "output_type": "execute_result"
    }
   ],
   "source": [
    "mt.checkpoint(\"/tmp\", overwrite = True)"
   ]
  },
  {
   "cell_type": "code",
   "execution_count": 7,
   "id": "ccc081db",
   "metadata": {},
   "outputs": [
    {
     "name": "stderr",
     "output_type": "stream",
     "text": [
      "2021-11-10 14:49:10 Hail: INFO: Coerced sorted dataset\n"
     ]
    },
    {
     "data": {
      "text/html": [
       "<table><thead><tr><td style=\"white-space: nowrap; max-width: 500px; overflow: hidden; text-overflow: ellipsis; \" colspan=\"1\"><div style=\"text-align: left;\"></div></td><td style=\"white-space: nowrap; max-width: 500px; overflow: hidden; text-overflow: ellipsis; \" colspan=\"1\"><div style=\"text-align: left;\"></div></td></tr><tr><td style=\"white-space: nowrap; max-width: 500px; overflow: hidden; text-overflow: ellipsis; \" colspan=\"1\"><div style=\"text-align: left;border-bottom: solid 2px #000; padding-bottom: 5px\">locus</div></td><td style=\"white-space: nowrap; max-width: 500px; overflow: hidden; text-overflow: ellipsis; \" colspan=\"1\"><div style=\"text-align: left;border-bottom: solid 2px #000; padding-bottom: 5px\">alleles</div></td></tr><tr><td style=\"white-space: nowrap; max-width: 500px; overflow: hidden; text-overflow: ellipsis; text-align: left;\">locus&lt;GRCh38&gt;</td><td style=\"white-space: nowrap; max-width: 500px; overflow: hidden; text-overflow: ellipsis; text-align: left;\">array&lt;str&gt;</td></tr>\n",
       "</thead><tbody><tr><td style=\"white-space: nowrap; max-width: 500px; overflow: hidden; text-overflow: ellipsis; \">chr10:46385740</td><td style=\"white-space: nowrap; max-width: 500px; overflow: hidden; text-overflow: ellipsis; \">[&quot;C&quot;,&quot;G&quot;]</td></tr>\n",
       "<tr><td style=\"white-space: nowrap; max-width: 500px; overflow: hidden; text-overflow: ellipsis; \">chr10:46385767</td><td style=\"white-space: nowrap; max-width: 500px; overflow: hidden; text-overflow: ellipsis; \">[&quot;T&quot;,&quot;C&quot;]</td></tr>\n",
       "<tr><td style=\"white-space: nowrap; max-width: 500px; overflow: hidden; text-overflow: ellipsis; \">chr10:46385824</td><td style=\"white-space: nowrap; max-width: 500px; overflow: hidden; text-overflow: ellipsis; \">[&quot;G&quot;,&quot;A&quot;]</td></tr>\n",
       "<tr><td style=\"white-space: nowrap; max-width: 500px; overflow: hidden; text-overflow: ellipsis; \">chr10:46385827</td><td style=\"white-space: nowrap; max-width: 500px; overflow: hidden; text-overflow: ellipsis; \">[&quot;C&quot;,&quot;T&quot;]</td></tr>\n",
       "<tr><td style=\"white-space: nowrap; max-width: 500px; overflow: hidden; text-overflow: ellipsis; \">chr10:46385828</td><td style=\"white-space: nowrap; max-width: 500px; overflow: hidden; text-overflow: ellipsis; \">[&quot;G&quot;,&quot;A&quot;]</td></tr>\n",
       "<tr><td style=\"white-space: nowrap; max-width: 500px; overflow: hidden; text-overflow: ellipsis; \">chr10:46385852</td><td style=\"white-space: nowrap; max-width: 500px; overflow: hidden; text-overflow: ellipsis; \">[&quot;G&quot;,&quot;A&quot;]</td></tr>\n",
       "<tr><td style=\"white-space: nowrap; max-width: 500px; overflow: hidden; text-overflow: ellipsis; \">chr10:46385855</td><td style=\"white-space: nowrap; max-width: 500px; overflow: hidden; text-overflow: ellipsis; \">[&quot;G&quot;,&quot;A&quot;]</td></tr>\n",
       "<tr><td style=\"white-space: nowrap; max-width: 500px; overflow: hidden; text-overflow: ellipsis; \">chr10:46385857</td><td style=\"white-space: nowrap; max-width: 500px; overflow: hidden; text-overflow: ellipsis; \">[&quot;G&quot;,&quot;A&quot;]</td></tr>\n",
       "<tr><td style=\"white-space: nowrap; max-width: 500px; overflow: hidden; text-overflow: ellipsis; \">chr10:46385888</td><td style=\"white-space: nowrap; max-width: 500px; overflow: hidden; text-overflow: ellipsis; \">[&quot;C&quot;,&quot;T&quot;]</td></tr>\n",
       "<tr><td style=\"white-space: nowrap; max-width: 500px; overflow: hidden; text-overflow: ellipsis; \">chr10:46385889</td><td style=\"white-space: nowrap; max-width: 500px; overflow: hidden; text-overflow: ellipsis; \">[&quot;G&quot;,&quot;A&quot;]</td></tr>\n",
       "</tbody></table><p style=\"background: #fdd; padding: 0.4em;\">showing top 10 rows</p>\n"
      ],
      "text/plain": [
       "+----------------+------------+\n",
       "| locus          | alleles    |\n",
       "+----------------+------------+\n",
       "| locus<GRCh38>  | array<str> |\n",
       "+----------------+------------+\n",
       "| chr10:46385740 | [\"C\",\"G\"]  |\n",
       "| chr10:46385767 | [\"T\",\"C\"]  |\n",
       "| chr10:46385824 | [\"G\",\"A\"]  |\n",
       "| chr10:46385827 | [\"C\",\"T\"]  |\n",
       "| chr10:46385828 | [\"G\",\"A\"]  |\n",
       "| chr10:46385852 | [\"G\",\"A\"]  |\n",
       "| chr10:46385855 | [\"G\",\"A\"]  |\n",
       "| chr10:46385857 | [\"G\",\"A\"]  |\n",
       "| chr10:46385888 | [\"C\",\"T\"]  |\n",
       "| chr10:46385889 | [\"G\",\"A\"]  |\n",
       "+----------------+------------+\n",
       "showing top 10 rows"
      ]
     },
     "metadata": {},
     "output_type": "display_data"
    }
   ],
   "source": [
    "mt.show()"
   ]
  },
  {
   "cell_type": "code",
   "execution_count": 11,
   "id": "33a7553a",
   "metadata": {},
   "outputs": [],
   "source": [
    "def rreplace(s, old, new, occurrence):\n",
    "    li = s.rsplit(old, occurrence)\n",
    "    return new.join(li)\n",
    "        \n",
    "\n",
    "writing = True\n",
    "\n",
    "with gzip.open(\"/opt/notebooks/gogoGPCR/tmp/hg19ToHg38.over.filtered.chain.gz\", \"wt\") as new:\n",
    "    for f in gzip.open(\"/opt/notebooks/gogoGPCR/tmp/hg19ToHg38.over.chain.gz\", \"rt\"):\n",
    "        if f.startswith(\"chain\") and ((\"_\" in f) or (\"M\" in f)):\n",
    "            writing = False\n",
    "        if f.startswith(\"chain\") and ((\"_\" not in f) and (\"M\" not in f)):\n",
    "            writing = True\n",
    "            f = f.replace(\"chr\", \"\", 1)\n",
    "            \n",
    "        if writing:\n",
    "            new.write(f)\n",
    "        \n",
    "    \n",
    "    "
   ]
  },
  {
   "cell_type": "code",
   "execution_count": 6,
   "id": "9efd480c",
   "metadata": {},
   "outputs": [
    {
     "data": {
      "text/plain": [
       "\u001b[0;31mDocstring:\u001b[0m\n",
       "S.replace(old, new[, count]) -> str\n",
       "\n",
       "Return a copy of S with all occurrences of substring\n",
       "old replaced by new.  If the optional argument count is\n",
       "given, only the first count occurrences are replaced.\n",
       "\u001b[0;31mType:\u001b[0m      method_descriptor\n"
      ]
     },
     "metadata": {},
     "output_type": "display_data"
    }
   ],
   "source": [
    "str.replace?"
   ]
  },
  {
   "cell_type": "code",
   "execution_count": null,
   "id": "26b74314",
   "metadata": {},
   "outputs": [
    {
     "name": "stderr",
     "output_type": "stream",
     "text": [
      "2021-11-10 14:53:39 Hail: INFO: Coerced sorted dataset\n"
     ]
    }
   ],
   "source": [
    "mt.count()"
   ]
  },
  {
   "cell_type": "code",
   "execution_count": null,
   "id": "91cbfc14",
   "metadata": {},
   "outputs": [],
   "source": []
  }
 ],
 "metadata": {
  "kernelspec": {
   "display_name": "Python 3",
   "language": "python",
   "name": "python3"
  },
  "language_info": {
   "codemirror_mode": {
    "name": "ipython",
    "version": 3
   },
   "file_extension": ".py",
   "mimetype": "text/x-python",
   "name": "python",
   "nbconvert_exporter": "python",
   "pygments_lexer": "ipython3",
   "version": "3.6.5"
  }
 },
 "nbformat": 4,
 "nbformat_minor": 5
}

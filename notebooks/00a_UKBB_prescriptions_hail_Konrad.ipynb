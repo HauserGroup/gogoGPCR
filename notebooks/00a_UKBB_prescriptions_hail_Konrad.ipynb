{
 "cells": [
  {
   "cell_type": "markdown",
   "id": "d8faac9e",
   "metadata": {},
   "source": [
    "# UKBB Prescription Data"
   ]
  },
  {
   "cell_type": "markdown",
   "id": "cc919d02",
   "metadata": {},
   "source": [
    "## Load Packages"
   ]
  },
  {
   "cell_type": "code",
   "execution_count": null,
   "id": "1088b0fb",
   "metadata": {},
   "outputs": [],
   "source": [
    "# Import packages\n",
    "import os\n",
    "import pandas as pd\n",
    "import numpy as np\n",
    "import hail as hl\n",
    "import re\n",
    "\n",
    "import datetime\n",
    "from hail.plot import show\n",
    "from pprint import pprint\n",
    "import scipy\n",
    "import statistics as st\n",
    "\n",
    "hl.init()\n",
    "hl.plot.output_notebook()\n",
    "\n",
    "from fuzzywuzzy import fuzz\n",
    "from fuzzywuzzy import process\n",
    "import pandas as pd\n",
    "import re\n",
    "import pickle\n",
    "\n",
    "import matplotlib.pyplot as plt\n",
    "import numpy as np\n",
    "from matplotlib import colors\n",
    "from matplotlib.ticker import PercentFormatter"
   ]
  },
  {
   "cell_type": "markdown",
   "id": "d2ae1a4f",
   "metadata": {},
   "source": [
    "## Import Data into Hail"
   ]
  },
  {
   "cell_type": "code",
   "execution_count": null,
   "id": "48accb77",
   "metadata": {},
   "outputs": [],
   "source": [
    "\"\"\"\n",
    "Field names are originally from Courtney's pandas code\n",
    "\"\"\"\n",
    "\n",
    "raw_data_loc = \"gs://ukb31063/ukb31063.gp_scripts.20191008.txt\"\n",
    "# fs = [f\"f{i}\" for i in range(0, 8)]\n",
    "# fields = ['eid','data_provider','issue_date','read_v2','bnf','dmd','drug_name','drug_quantity']\n",
    "hl_presc = hl.import_table(raw_data_loc, no_header=False, delimiter=\"\\t\", impute=True)\n",
    "\n",
    "drug_counts = hl_presc.group_by(hl_presc.drug_name).aggregate(counts=hl.agg.count())\n",
    "drug_counts.show()"
   ]
  },
  {
   "cell_type": "markdown",
   "id": "97358669",
   "metadata": {},
   "source": [
    "## Export Drugs with >10k, >1k, and 100 Counts"
   ]
  },
  {
   "cell_type": "code",
   "execution_count": null,
   "id": "8ffa288c",
   "metadata": {},
   "outputs": [],
   "source": [
    "# For the initial curation task, I restricted to the ~700 scripts\n",
    "# that had >10,000 instances\n",
    "top_drugs_10k = drug_counts.filter(drug_counts.counts > 10000)\n",
    "top_drugs_10k.export(\"gs://gsarma/top_drugs_10k.tsv\")\n",
    "\n",
    "# Drugs that have >1000 scripts likely cover what we\n",
    "# might want for future studies. An efficient way to bootstrap\n",
    "# from the manually curated list of ~700 to the ~3500 in this\n",
    "# larger list is a significant step.\n",
    "top_drugs_1k = drug_counts.filter(drug_counts.counts > 1000)\n",
    "top_drugs_1k.export(\"gs://gsarma/top_drugs_1k.tsv\")"
   ]
  },
  {
   "cell_type": "markdown",
   "id": "662043ba",
   "metadata": {},
   "source": [
    "# Pre-curation Steps"
   ]
  },
  {
   "cell_type": "code",
   "execution_count": null,
   "id": "b550866c",
   "metadata": {},
   "outputs": [],
   "source": [
    "\"\"\"\n",
    "This is the first step of the curation process, simply split on the first non-word character\n",
    "(most often a whitespace), and extract the first token. This is typically the generic name, \n",
    "but each drug needs to be looked at and potentially corrected.  \n",
    "\n",
    "I found that this part was faster to do in pandas than with Hail, largely because of the\n",
    "availability of questions on StackExchange. \n",
    "\"\"\"\n",
    "\n",
    "\n",
    "def fill_possible_generic(dfname):\n",
    "    \"\"\"\n",
    "    Use first token in raw prescription string as candidate generic name\n",
    "    \"\"\"\n",
    "    dfname = dfname.drop(\n",
    "        0\n",
    "    )  # The first row is the empty string, i.e. there are a large number of empty prescriptions\n",
    "    expr = \"(^[\\w]+)\"\n",
    "    newdf = pd.DataFrame()\n",
    "    newdf[\"original_prescription\"] = dfname[\"drug_name\"]\n",
    "    newdf[\"possible_generic\"] = newdf[\"original_prescription\"].str.extract(\n",
    "        expr, expand=True\n",
    "    )\n",
    "    newdf[\"possible_generic\"] = newdf[\"possible_generic\"].str.lower()\n",
    "\n",
    "    return newdf\n",
    "\n",
    "\n",
    "def fill_delivery_system(dfname):\n",
    "    \"\"\"\n",
    "    Extract delivery system for drug such as tablet, capsule, inhaler, etc.\n",
    "    \"\"\"\n",
    "    med_type = []\n",
    "    for values in dfname[\"original_prescription\"]:\n",
    "        # PO\n",
    "        if re.search(\"tab|tabs|tablet\", values, re.IGNORECASE):\n",
    "            med_type.append(\"Tablet\")\n",
    "        elif re.search(\"cap|caps|capsule\", values, re.IGNORECASE):\n",
    "            med_type.append(\"Capsule\")\n",
    "        elif re.search(\"oral liquid\", values, re.IGNORECASE):\n",
    "            med_type.append(\"Oral Liquid\")\n",
    "        elif re.search(\"oral suspension\", values, re.IGNORECASE):\n",
    "            med_type.append(\"Oral Suspension\")\n",
    "        elif re.search(\"oral powder\", values, re.IGNORECASE):\n",
    "            med_type.append(\"Oral Powder\")\n",
    "        elif re.search(\"solution\", values, re.IGNORECASE):\n",
    "            med_type.append(\"Solution\")\n",
    "        elif re.search(\"sublingual spray\", values, re.IGNORECASE):\n",
    "            med_type.append(\"Sublingual Spray\")\n",
    "        elif re.search(\n",
    "            \"oral liquid|liquid peppermint|oral lyophilisates\", values, re.IGNORECASE\n",
    "        ):\n",
    "            med_type.append(\"Oral Liquid\")\n",
    "        elif re.search(\"ispaghula husk\", values, re.IGNORECASE):\n",
    "            med_type.append(\"Food Supplement\")\n",
    "\n",
    "        # Nasal\n",
    "        elif re.search(\"nasal cream\", values, re.IGNORECASE):\n",
    "            med_type.append(\"Nasal Cream\")\n",
    "        elif re.search(\"nasal spray\", values, re.IGNORECASE):\n",
    "            med_type.append(\"Nasal Spray\")\n",
    "\n",
    "        # Ear\n",
    "        elif re.search(\"ear spray\", values, re.IGNORECASE):\n",
    "            med_type.append(\"Ear Spray\")\n",
    "        elif re.search(\"ear drops\", values, re.IGNORECASE):\n",
    "            med_type.append(\"Ear Drops\")\n",
    "\n",
    "        # Eye\n",
    "        elif re.search(\"eye ointment\", values, re.IGNORECASE):\n",
    "            med_type.append(\"Eye Ointment\")\n",
    "        elif re.search(\"eye drops\", values, re.IGNORECASE):\n",
    "            med_type.append(\"Eye Drops\")\n",
    "\n",
    "        # Topical\n",
    "        elif re.search(\"gel\", values, re.IGNORECASE):\n",
    "            med_type.append(\"Gel\")\n",
    "        elif re.search(\"ointment\", values, re.IGNORECASE):\n",
    "            med_type.append(\"Ointment\")\n",
    "        elif re.search(\"cream|emollient\", values, re.IGNORECASE):\n",
    "            med_type.append(\"Cream\")\n",
    "        elif re.search(\"shampoo\", values, re.IGNORECASE):\n",
    "            med_type.append(\"Shampoo\")\n",
    "        elif re.search(\"lotion|shower emollient\", values, re.IGNORECASE):\n",
    "            med_type.append(\"Lotion\")\n",
    "        elif re.search(\"scalp application\", values, re.IGNORECASE):\n",
    "            med_type.append(\"Cream\")\n",
    "        elif re.search(\"medicated nail lacquer\", values, re.IGNORECASE):\n",
    "            med_type.append(\"Medicated Nail Lacquer\")\n",
    "        elif re.search(\"patch\", values, re.IGNORECASE):\n",
    "            med_type.append(\"Patch\")\n",
    "        elif re.search(\"vaginal moisturiser\", values, re.IGNORECASE):\n",
    "            med_type.append(\"Vaginal Moisturizer\")\n",
    "\n",
    "        # Diagnostic\n",
    "        elif re.search(\"testing strip\", values, re.IGNORECASE):\n",
    "            med_type.append(\"Testing Strip\")\n",
    "\n",
    "        # Other\n",
    "        elif re.search(\n",
    "            \"inhaler|Evohaler|Accuhaler|Turbohaler|inhalation\", values, re.IGNORECASE\n",
    "        ):\n",
    "            med_type.append(\"Inhaler\")\n",
    "        elif re.search(\"disc\", values, re.IGNORECASE):\n",
    "            med_type.append(\"Disc Inhaler\")\n",
    "        elif re.search(\"volumatic|AeroChamber\", values, re.IGNORECASE):\n",
    "            med_type.append(\"Inhaler Assist Device\")\n",
    "        elif re.search(\"pessary|pessaries\", values, re.IGNORECASE):\n",
    "            med_type.append(\"Pessary\")\n",
    "        elif re.search(\"needle|injection\", values, re.IGNORECASE):\n",
    "            med_type.append(\"Injection\")\n",
    "        elif re.search(\"vaccine\", values, re.IGNORECASE):\n",
    "            med_type.append(\"Vaccine\")\n",
    "        elif re.search(\"lancet\", values, re.IGNORECASE):\n",
    "            med_type.append(\"Lancet\")\n",
    "\n",
    "        else:\n",
    "            med_type.append(\"NA\")\n",
    "\n",
    "    dfname[\"Delivery_System\"] = med_type\n",
    "\n",
    "    return dfname\n",
    "\n",
    "\n",
    "def fill_dosages(dfname):\n",
    "    \"\"\"\n",
    "    Extract dosages. Note that fill_delivery_system must be run BEFORE\n",
    "    fill_dosages can be run, as the dosage patterns are\n",
    "    dependent on the type of delivery system.\n",
    "    \"\"\"\n",
    "    dosages = []\n",
    "    single_dose_pat = \"[0-9]+(\\.)*[0-9]*(([a-zA-z]*)|(\\%)*)\"\n",
    "    cream_pat = \"[0-9]+(\\.)*[0-9]*%\"\n",
    "\n",
    "    for values in dfname.iterrows():\n",
    "        dtype = values[1][\"Delivery_System\"]\n",
    "        presc = values[1][\"original_prescription\"]\n",
    "        if (dtype == \"Tablet\") | (dtype == \"Capsule\") | (dtype == \"Eye Drops\"):\n",
    "            if re.search(single_dose_pat, presc):\n",
    "                dosages.append(re.search(single_dose_pat, presc).group(0))\n",
    "            else:\n",
    "                dosages.append(\"NA\")\n",
    "        elif dtype == \"Cream\":\n",
    "            if re.search(cream_pat, presc):\n",
    "                dosages.append(re.search(cream_pat, presc).group(0))\n",
    "            else:\n",
    "                dosages.append(\"NA\")\n",
    "        else:\n",
    "            dosages.append(\"NA\")\n",
    "\n",
    "    dfname[\"Dosage\"] = dosages\n",
    "\n",
    "    return dfname\n",
    "\n",
    "\n",
    "def pre_curation(dfname):\n",
    "    \"\"\"\n",
    "    Prepare the UKBB GP data for curation by filling in possible\n",
    "    generic names, delivery systems, and dosages.\n",
    "    \"\"\"\n",
    "    return fill_dosages(fill_delivery_system(fill_possible_generic(dfname)))"
   ]
  },
  {
   "cell_type": "code",
   "execution_count": null,
   "id": "b09d3734",
   "metadata": {},
   "outputs": [],
   "source": [
    "td10k = pd.read_csv(\"/Users/gsarma/Dropbox/Broad/UKBB/top_drugs_10k.tsv\", sep=\"\\t\")\n",
    "td1k = pd.read_csv(\"/Users/gsarma/Dropbox/Broad/UKBB/top_drugs_1k.tsv\", sep=\"\\t\")\n",
    "curated = pd.read_csv(\n",
    "    \"/Users/gsarma/git/UKBB_prescriptions/UKBB_prescriptions_v2.csv\", sep=\",\"\n",
    ")\n",
    "\n",
    "td1ka = pre_curation(td1k)"
   ]
  },
  {
   "cell_type": "code",
   "execution_count": null,
   "id": "e6b8cc6f",
   "metadata": {},
   "outputs": [],
   "source": [
    "pre_curation(td10k)"
   ]
  },
  {
   "cell_type": "markdown",
   "id": "abd6debd",
   "metadata": {},
   "source": [
    "# Bootstrapping From Curated Entries"
   ]
  },
  {
   "cell_type": "code",
   "execution_count": null,
   "id": "27c3aea4",
   "metadata": {},
   "outputs": [],
   "source": [
    "top_drugs = pd.read_csv(\"/Users/gsarma/Dropbox/Broad/UKBB/top_drugs_1k.tsv\", sep=\"\\t\")\n",
    "top_drugs = top_drugs.drop(0)\n",
    "top_drugs = top_drugs.sort_values(by=\"counts\", ascending=False)\n",
    "last = len(top_drugs.index) - 1"
   ]
  },
  {
   "cell_type": "code",
   "execution_count": null,
   "id": "4d531198",
   "metadata": {},
   "outputs": [],
   "source": [
    "all_dist = []\n",
    "for n in range(round(last / 2)):\n",
    "    base = top_drugs.iloc[\n",
    "        last - n\n",
    "    ].drug_name  # Start at the end and work to the half-way point\n",
    "    temp_dist = []\n",
    "    for k in range(round(last / 2)):\n",
    "        l_dist = fuzz.token_sort_ratio(base, top_drugs.iloc[k].drug_name)\n",
    "        # Start at the *beginning* and work to the half-way point\n",
    "        temp_dist.append(l_dist)\n",
    "    m = max(temp_dist)\n",
    "    # First find all the indices where a maximum happens and take the minimum\n",
    "    all_dist.append(min([i for i, j in enumerate(temp_dist) if j == m]))"
   ]
  },
  {
   "cell_type": "code",
   "execution_count": null,
   "id": "733128f9",
   "metadata": {},
   "outputs": [],
   "source": [
    "plt.hist(all_dist, bins=100)"
   ]
  },
  {
   "cell_type": "code",
   "execution_count": null,
   "id": "6dbe91aa",
   "metadata": {},
   "outputs": [],
   "source": [
    "check_quality = []\n",
    "for n in range(0, 1700, 100):\n",
    "    check_quality.append(\n",
    "        [top_drugs.iloc[last - n].drug_name, top_drugs.iloc[all_dist[n]].drug_name]\n",
    "    )"
   ]
  },
  {
   "cell_type": "code",
   "execution_count": null,
   "id": "56af9665",
   "metadata": {},
   "outputs": [],
   "source": [
    "qc_df = pd.DataFrame(check_quality)\n",
    "qc_df"
   ]
  },
  {
   "cell_type": "code",
   "execution_count": null,
   "id": "c66a8727",
   "metadata": {},
   "outputs": [],
   "source": [
    "def find_best_match(raw_script, reference):\n",
    "    \"\"\"\n",
    "    Find the best match for a prescription string starting\n",
    "    from a curated reference list.\n",
    "    TODO: option to use either generic name or full prescription string\n",
    "    \"\"\"\n",
    "    all_dist = []\n",
    "    num_ref = len(reference) - 1\n",
    "    token = raw_script.split(\" \", 1)\n",
    "    for k in range(num_ref):\n",
    "        l_dist = fuzz.token_sort_ratio(raw_script, reference.iloc[k][\"Generic_Name\"])\n",
    "        all_dist.append(l_dist)\n",
    "    m = max(all_dist)\n",
    "    # First find all the indices where a maximum happens and take the minimum\n",
    "    index = min([i for i, j in enumerate(all_dist) if j == m])\n",
    "    return [\n",
    "        reference.iloc[index][\"Generic_Name\"],\n",
    "        reference.iloc[index][\"Drug_Category_and_Indication\"],\n",
    "    ]\n",
    "\n",
    "\n",
    "def bootstrap_curation(new_df, reference):\n",
    "    \"\"\"\n",
    "    Take in an uncurated list of prescriptions and bootstrap\n",
    "    \"\"\"\n",
    "    candidate_generic = []\n",
    "    candidate_category = []\n",
    "    for values in new_df[\"possible_generic\"]:\n",
    "        best_match = find_best_match(values, curated)\n",
    "        candidate_generic.append(best_match[0])\n",
    "        candidate_category.append(best_match[1])\n",
    "\n",
    "    return [candidate_generic, candidate_category]"
   ]
  },
  {
   "cell_type": "code",
   "execution_count": null,
   "id": "5a369358",
   "metadata": {},
   "outputs": [],
   "source": [
    "print(bootstrap_curation.__doc__)"
   ]
  },
  {
   "cell_type": "code",
   "execution_count": null,
   "id": "8a07442e",
   "metadata": {},
   "outputs": [],
   "source": [
    "short_df = td1ka.sample(n=20)\n",
    "new_columns = bootstrap_curation(short_df, curated)\n",
    "short_df[\"possible_generic\"] = new_columns[0]\n",
    "short_df[\"Drug_Category_and_Indication\"] = new_columns[1]"
   ]
  },
  {
   "cell_type": "code",
   "execution_count": null,
   "id": "72917438",
   "metadata": {},
   "outputs": [],
   "source": [
    "short_df"
   ]
  },
  {
   "cell_type": "markdown",
   "id": "2c5b11b5",
   "metadata": {},
   "source": [
    "# Some Basic Data Exploration"
   ]
  },
  {
   "cell_type": "code",
   "execution_count": null,
   "id": "3c08bb8d",
   "metadata": {},
   "outputs": [],
   "source": [
    "plt.hist(top_drugs.drug_name.str.len())\n",
    "plt.xlabel(\"Prescription String Legnth\")\n",
    "plt.ylabel(\"Frequency\")\n",
    "plt.legend()\n",
    "plt.show()"
   ]
  },
  {
   "cell_type": "code",
   "execution_count": null,
   "id": "4b235079",
   "metadata": {},
   "outputs": [],
   "source": [
    "td1ka"
   ]
  },
  {
   "cell_type": "code",
   "execution_count": null,
   "id": "88366a6e",
   "metadata": {},
   "outputs": [],
   "source": []
  }
 ],
 "metadata": {
  "jupytext": {
   "formats": "ipynb,py:percent"
  },
  "kernelspec": {
   "display_name": "Python [default]",
   "language": "python",
   "name": "python3"
  }
 },
 "nbformat": 4,
 "nbformat_minor": 5
}

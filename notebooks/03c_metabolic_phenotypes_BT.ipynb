{
 "cells": [
  {
   "cell_type": "code",
   "execution_count": 1,
   "id": "a9f257cd",
   "metadata": {},
   "outputs": [],
   "source": [
    "import re\n",
    "import subprocess\n",
    "\n",
    "import dxdata\n",
    "import dxpy\n",
    "import pandas as pd\n",
    "import pyspark\n",
    "\n",
    "from pyspark.sql import functions as F\n",
    "from pyspark.conf import SparkConf\n",
    "from pyspark.sql.types import StringType\n",
    "\n",
    "from pathlib import Path\n",
    "\n",
    "Path(\"../tmp\").resolve().mkdir(parents=True, exist_ok=True)\n",
    "\n",
    "trait = \"metabolic\""
   ]
  },
  {
   "cell_type": "code",
   "execution_count": 2,
   "id": "98800bdc",
   "metadata": {},
   "outputs": [],
   "source": [
    "conf = SparkConf()\n",
    "conf.set(\"autoBroadcastJoinThreshold\", -1)\n",
    "\n",
    "sc = pyspark.SparkContext()\n",
    "spark = pyspark.sql.SparkSession(sc)\n",
    "\n",
    "dispensed_database_name = dxpy.find_one_data_object(\n",
    "    classname=\"database\", name=\"app*\", folder=\"/\", name_mode=\"glob\", describe=True\n",
    ")[\"describe\"][\"name\"]\n",
    "dispensed_dataset_id = dxpy.find_one_data_object(\n",
    "    typename=\"Dataset\", name=\"app*.dataset\", folder=\"/\", name_mode=\"glob\"\n",
    ")[\"id\"]\n",
    "\n",
    "spark.sql(\"USE \" + dispensed_database_name)\n",
    "\n",
    "dataset = dxdata.load_dataset(id=dispensed_dataset_id)\n",
    "participant = dataset[\"participant\"]\n",
    "\n",
    "\n",
    "def get_columns_to_keep(df, threshold=200) -> list:\n",
    "    \"\"\"\n",
    "    This function drops all columns which contain more null values than threshold\n",
    "    :param df: A PySpark DataFrame\n",
    "    \"\"\"\n",
    "    null_counts = (\n",
    "        df.select([F.count(F.when(~F.col(c).isNull(), c)).alias(c) for c in df.columns])\n",
    "        .collect()[0]\n",
    "        .asDict()\n",
    "    )\n",
    "    to_keep = [k for k, v in null_counts.items() if v > threshold]\n",
    "    # df = df.select(*to_keep)\n",
    "\n",
    "    return to_keep\n",
    "\n",
    "def new_names(s: str) -> str:\n",
    "    \"\"\"\n",
    "    Fixes a column header for PHESANT use\n",
    "    \"\"\"\n",
    "    s = s.replace(\"p\", \"x\").replace(\"i\", \"\")\n",
    "\n",
    "    if bool(re.search(\"_\\d$\", s)):\n",
    "        s += \"_0\"\n",
    "    else:\n",
    "        s += \"_0_0\"\n",
    "    return s"
   ]
  },
  {
   "cell_type": "code",
   "execution_count": 13,
   "id": "63d77428",
   "metadata": {},
   "outputs": [
    {
     "name": "stderr",
     "output_type": "stream",
     "text": [
      "[dxdata.dataset.dataset] WARNING: Dataframe schema name(s): ['participant_0001$eid', 'participant_0001$p31', 'participant_0042$p21022', 'participant_0085$p130706', 'participant_0085$p130708', 'participant_0085$p130792', 'participant_0006$p2443_i0', 'participant_0006$p2443_i1', 'participant_0006$p2443_i2', 'participant_0006$p2443_i3'] not found in ordered columns: ['participant$eid', 'participant$p31', 'participant$p21022', 'participant$p130706', 'participant$p130708', 'participant$p130792', 'participant$p2443_i0', 'participant$p2443_i1', 'participant$p2443_i2', 'participant$p2443_i3']\n"
     ]
    }
   ],
   "source": [
    "age_sex = \"|\".join([\"31\", \"21022\"])\n",
    "age_sex_fields = list(\n",
    "    participant.find_fields(lambda f: bool(re.match(f\"^p({age_sex})$\", f.name)))\n",
    ")\n",
    "\n",
    "first_occurences = list(\n",
    "    participant.find_fields(\n",
    "        lambda f: bool(re.match(\"^Date (E10|E11|E66) first reported\", f.title))\n",
    "    )\n",
    ")\n",
    "\n",
    "metabolic = \"|\".join(\n",
    "    [\n",
    "        \"130792\",\n",
    "        \"2443\",\n",
    "        \"130708\",\n",
    "        \"130706\"\n",
    "    ]\n",
    ")\n",
    "\n",
    "metabolic_fields = list(\n",
    "    participant.find_fields(lambda f: bool(re.match(f\"^p({metabolic})\\D\", f.name)))\n",
    ")\n",
    "\n",
    "field_names = (\n",
    "    [\"eid\"]\n",
    "    + [f.name for f in age_sex_fields]\n",
    "    + [f.name for f in first_occurences]\n",
    "    + [f.name for f in metabolic_fields]\n",
    ")\n",
    "df = participant.retrieve_fields(names=field_names, engine=dxdata.connect())"
   ]
  },
  {
   "cell_type": "code",
   "execution_count": 14,
   "id": "d9838f56",
   "metadata": {},
   "outputs": [
    {
     "name": "stdout",
     "output_type": "stream",
     "text": [
      "['xeid', 'x31_0_0', 'x21022_0_0', 'x130706_0_0', 'x130708_0_0', 'x130792_0_0', 'x2443_0_0', 'x2443_1_0', 'x2443_2_0', 'x2443_3_0']\n"
     ]
    }
   ],
   "source": [
    "colnames = ['xeid'] + [new_names(s) for s in df.columns[1:]]\n",
    "\n",
    "print(colnames[:10])"
   ]
  },
  {
   "cell_type": "code",
   "execution_count": 16,
   "id": "b6d5ea23",
   "metadata": {},
   "outputs": [],
   "source": [
    "df = df.toDF(*colnames)"
   ]
  },
  {
   "cell_type": "code",
   "execution_count": 23,
   "id": "7f9d41d7",
   "metadata": {},
   "outputs": [],
   "source": [
    "df.write.csv(\"/tmp/phenos.tsv\", sep=\"\\t\", header=True, emptyValue='NA')"
   ]
  },
  {
   "cell_type": "code",
   "execution_count": 24,
   "id": "a72ed084",
   "metadata": {},
   "outputs": [
    {
     "data": {
      "text/plain": [
       "CompletedProcess(args=['hadoop', 'fs', '-get', '/tmp/phenos.tsv', '../tmp/phenos.tsv'], returncode=0)"
      ]
     },
     "execution_count": 24,
     "metadata": {},
     "output_type": "execute_result"
    }
   ],
   "source": [
    "subprocess.run(\n",
    "    [\"hadoop\", \"fs\", \"-rm\", \"/tmp/phenos.tsv/_SUCCESS\"], check=True, shell=False\n",
    ")\n",
    "subprocess.run(\n",
    "    [\"hadoop\", \"fs\", \"-get\", \"/tmp/phenos.tsv\", \"../tmp/phenos.tsv\"],\n",
    "    check=True,\n",
    "    shell=False,\n",
    ")"
   ]
  },
  {
   "cell_type": "code",
   "execution_count": 25,
   "id": "9caf1bfc",
   "metadata": {},
   "outputs": [],
   "source": [
    "!sed -e '3,${/^xeid/d' -e '}' ../tmp/phenos.tsv/part* > ../tmp/metabolic.BT.raw.tsv"
   ]
  },
  {
   "cell_type": "code",
   "execution_count": 26,
   "id": "999847ac",
   "metadata": {},
   "outputs": [
    {
     "data": {
      "text/plain": [
       "CompletedProcess(args=['dx', 'upload', '../tmp/metabolic.BT.raw.tsv', '--path', 'Data/phenotypes/'], returncode=0)"
      ]
     },
     "execution_count": 26,
     "metadata": {},
     "output_type": "execute_result"
    }
   ],
   "source": [
    "# Upload to project\n",
    "\n",
    "subprocess.run(\n",
    "    [\"dx\", \"upload\", \"../tmp/metabolic.BT.raw.tsv\", \"--path\", \"Data/phenotypes/\"],\n",
    "    check=True,\n",
    "    shell=False,\n",
    ")"
   ]
  },
  {
   "cell_type": "code",
   "execution_count": null,
   "id": "78e1c8b8",
   "metadata": {},
   "outputs": [],
   "source": []
  }
 ],
 "metadata": {
  "kernelspec": {
   "display_name": "Python 3",
   "language": "python",
   "name": "python3"
  },
  "language_info": {
   "codemirror_mode": {
    "name": "ipython",
    "version": 3
   },
   "file_extension": ".py",
   "mimetype": "text/x-python",
   "name": "python",
   "nbconvert_exporter": "python",
   "pygments_lexer": "ipython3",
   "version": "3.6.5"
  }
 },
 "nbformat": 4,
 "nbformat_minor": 5
}

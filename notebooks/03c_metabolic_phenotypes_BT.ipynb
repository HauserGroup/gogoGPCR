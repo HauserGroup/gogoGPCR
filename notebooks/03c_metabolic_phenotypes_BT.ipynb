{
 "cells": [
  {
   "cell_type": "code",
   "execution_count": 1,
   "id": "33f13eb5",
   "metadata": {},
   "outputs": [],
   "source": [
    "import re\n",
    "import subprocess\n",
    "\n",
    "import dxdata\n",
    "import dxpy\n",
    "import pandas as pd\n",
    "import pyspark\n",
    "\n",
    "from pyspark.sql import functions as F\n",
    "from pyspark.conf import SparkConf\n",
    "from pyspark.sql.types import StringType\n",
    "\n",
    "from pathlib import Path\n",
    "from phenotypes import *\n",
    "\n",
    "Path(\"../tmp\").resolve().mkdir(parents=True, exist_ok=True)\n",
    "\n",
    "trait = \"metabolic\""
   ]
  },
  {
   "cell_type": "code",
   "execution_count": 2,
   "id": "8fb9284e",
   "metadata": {},
   "outputs": [],
   "source": [
    "conf = SparkConf()\n",
    "conf.set(\"autoBroadcastJoinThreshold\", -1)\n",
    "\n",
    "sc = pyspark.SparkContext()\n",
    "spark = pyspark.sql.SparkSession(sc)\n",
    "\n",
    "dispensed_database_name = dxpy.find_one_data_object(\n",
    "    classname=\"database\", name=\"app*\", folder=\"/\", name_mode=\"glob\", describe=True\n",
    ")[\"describe\"][\"name\"]\n",
    "dispensed_dataset_id = dxpy.find_one_data_object(\n",
    "    typename=\"Dataset\", name=\"app*.dataset\", folder=\"/\", name_mode=\"glob\"\n",
    ")[\"id\"]\n",
    "\n",
    "spark.sql(\"USE \" + dispensed_database_name)\n",
    "\n",
    "dataset = dxdata.load_dataset(id=dispensed_dataset_id)\n",
    "participant = dataset[\"participant\"]"
   ]
  },
  {
   "cell_type": "code",
   "execution_count": 3,
   "id": "35cc39f8",
   "metadata": {},
   "outputs": [
    {
     "name": "stderr",
     "output_type": "stream",
     "text": [
      "[dxdata.dataset.dataset] WARNING: Dataframe schema name(s): ['participant_0001$eid', 'participant_0001$p31', 'participant_0042$p21022', 'participant_0085$p130706', 'participant_0085$p130708', 'participant_0085$p130792', 'participant_0006$p2443_i0', 'participant_0006$p2443_i1', 'participant_0006$p2443_i2', 'participant_0006$p2443_i3'] not found in ordered columns: ['participant$eid', 'participant$p31', 'participant$p21022', 'participant$p130706', 'participant$p130708', 'participant$p130792', 'participant$p2443_i0', 'participant$p2443_i1', 'participant$p2443_i2', 'participant$p2443_i3']\n"
     ]
    }
   ],
   "source": [
    "first_occurence_fields = list(\n",
    "    participant.find_fields(\n",
    "        lambda f: bool(re.match(\"^Date (E10|E11|E66) first reported\", f.title))\n",
    "    )\n",
    ")\n",
    "\n",
    "age_sex_fields = get_age_sex(participant, fields = [\"31\", \"21022\"])\n",
    "\n",
    "metabolic_fields = get_pheno_fields(participant, fields = [\n",
    "        \"130792\",\n",
    "        \"2443\",\n",
    "        \"130708\",\n",
    "        \"130706\",\n",
    "    ]\n",
    ")\n",
    "\n",
    "field_names = concatenate([\"eid\"], age_sex_fields, first_occurence_fields, metabolic_fields)\n",
    "\n",
    "df = participant.retrieve_fields(names=field_names, engine=dxdata.connect())"
   ]
  },
  {
   "cell_type": "code",
   "execution_count": 5,
   "id": "c8b7e2cc",
   "metadata": {},
   "outputs": [],
   "source": [
    "df = fix_colnames(df)\n",
    "df = filter_to_200k(df)"
   ]
  },
  {
   "cell_type": "code",
   "execution_count": 23,
   "id": "c43f6d28",
   "metadata": {},
   "outputs": [],
   "source": [
    "df.write.csv(\"/tmp/phenos.tsv\", sep=\"\\t\", header=True, emptyValue='NA')"
   ]
  },
  {
   "cell_type": "code",
   "execution_count": 24,
   "id": "048e9f3b",
   "metadata": {},
   "outputs": [
    {
     "data": {
      "text/plain": [
       "CompletedProcess(args=['hadoop', 'fs', '-get', '/tmp/phenos.tsv', '../tmp/phenos.tsv'], returncode=0)"
      ]
     },
     "execution_count": 24,
     "metadata": {},
     "output_type": "execute_result"
    }
   ],
   "source": [
    "subprocess.run(\n",
    "    [\"hadoop\", \"fs\", \"-rm\", \"/tmp/phenos.tsv/_SUCCESS\"], check=True, shell=False\n",
    ")\n",
    "subprocess.run(\n",
    "    [\"hadoop\", \"fs\", \"-get\", \"/tmp/phenos.tsv\", \"../tmp/phenos.tsv\"],\n",
    "    check=True,\n",
    "    shell=False,\n",
    ")"
   ]
  },
  {
   "cell_type": "code",
   "execution_count": 25,
   "id": "b7cf629e",
   "metadata": {},
   "outputs": [],
   "source": [
    "!sed -e '3,${/^xeid/d' -e '}' ../tmp/phenos.tsv/part* > ../tmp/metabolic.BT.raw.tsv"
   ]
  },
  {
   "cell_type": "code",
   "execution_count": 26,
   "id": "3e8f03c5",
   "metadata": {},
   "outputs": [
    {
     "data": {
      "text/plain": [
       "CompletedProcess(args=['dx', 'upload', '../tmp/metabolic.BT.raw.tsv', '--path', 'Data/phenotypes/'], returncode=0)"
      ]
     },
     "execution_count": 26,
     "metadata": {},
     "output_type": "execute_result"
    }
   ],
   "source": [
    "# Upload to project\n",
    "\n",
    "subprocess.run(\n",
    "    [\"dx\", \"upload\", \"../tmp/metabolic.BT.raw.tsv\", \"--path\", \"Data/phenotypes/\"],\n",
    "    check=True,\n",
    "    shell=False,\n",
    ")"
   ]
  }
 ],
 "metadata": {
  "kernelspec": {
   "display_name": "Python 3",
   "language": "python",
   "name": "python3"
  },
  "language_info": {
   "codemirror_mode": {
    "name": "ipython",
    "version": 3
   },
   "file_extension": ".py",
   "mimetype": "text/x-python",
   "name": "python",
   "nbconvert_exporter": "python",
   "pygments_lexer": "ipython3",
   "version": "3.6.5"
  }
 },
 "nbformat": 4,
 "nbformat_minor": 5
}

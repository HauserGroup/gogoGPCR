{
 "cells": [
  {
   "cell_type": "markdown",
   "id": "d22ae524",
   "metadata": {},
   "source": [
    "# Create a MatrixTable and QC the hell out of it\n",
    "## Import stuff and set your parameters\n",
    "First, we import necessary libraries and configurations from config.toml. Then we initialise Spark and Hail. "
   ]
  },
  {
   "cell_type": "code",
   "execution_count": 45,
   "id": "6ed9584a",
   "metadata": {},
   "outputs": [
    {
     "data": {
      "text/html": [
       "\n",
       "    <div class=\"bk-root\">\n",
       "        <a href=\"https://bokeh.pydata.org\" target=\"_blank\" class=\"bk-logo bk-logo-small bk-logo-notebook\"></a>\n",
       "        <span id=\"1003\">Loading BokehJS ...</span>\n",
       "    </div>"
      ]
     },
     "metadata": {},
     "output_type": "display_data"
    },
    {
     "data": {
      "application/javascript": [
       "\n",
       "(function(root) {\n",
       "  function now() {\n",
       "    return new Date();\n",
       "  }\n",
       "\n",
       "  var force = true;\n",
       "\n",
       "  if (typeof root._bokeh_onload_callbacks === \"undefined\" || force === true) {\n",
       "    root._bokeh_onload_callbacks = [];\n",
       "    root._bokeh_is_loading = undefined;\n",
       "  }\n",
       "\n",
       "  var JS_MIME_TYPE = 'application/javascript';\n",
       "  var HTML_MIME_TYPE = 'text/html';\n",
       "  var EXEC_MIME_TYPE = 'application/vnd.bokehjs_exec.v0+json';\n",
       "  var CLASS_NAME = 'output_bokeh rendered_html';\n",
       "\n",
       "  /**\n",
       "   * Render data to the DOM node\n",
       "   */\n",
       "  function render(props, node) {\n",
       "    var script = document.createElement(\"script\");\n",
       "    node.appendChild(script);\n",
       "  }\n",
       "\n",
       "  /**\n",
       "   * Handle when an output is cleared or removed\n",
       "   */\n",
       "  function handleClearOutput(event, handle) {\n",
       "    var cell = handle.cell;\n",
       "\n",
       "    var id = cell.output_area._bokeh_element_id;\n",
       "    var server_id = cell.output_area._bokeh_server_id;\n",
       "    // Clean up Bokeh references\n",
       "    if (id != null && id in Bokeh.index) {\n",
       "      Bokeh.index[id].model.document.clear();\n",
       "      delete Bokeh.index[id];\n",
       "    }\n",
       "\n",
       "    if (server_id !== undefined) {\n",
       "      // Clean up Bokeh references\n",
       "      var cmd = \"from bokeh.io.state import curstate; print(curstate().uuid_to_server['\" + server_id + \"'].get_sessions()[0].document.roots[0]._id)\";\n",
       "      cell.notebook.kernel.execute(cmd, {\n",
       "        iopub: {\n",
       "          output: function(msg) {\n",
       "            var id = msg.content.text.trim();\n",
       "            if (id in Bokeh.index) {\n",
       "              Bokeh.index[id].model.document.clear();\n",
       "              delete Bokeh.index[id];\n",
       "            }\n",
       "          }\n",
       "        }\n",
       "      });\n",
       "      // Destroy server and session\n",
       "      var cmd = \"import bokeh.io.notebook as ion; ion.destroy_server('\" + server_id + \"')\";\n",
       "      cell.notebook.kernel.execute(cmd);\n",
       "    }\n",
       "  }\n",
       "\n",
       "  /**\n",
       "   * Handle when a new output is added\n",
       "   */\n",
       "  function handleAddOutput(event, handle) {\n",
       "    var output_area = handle.output_area;\n",
       "    var output = handle.output;\n",
       "\n",
       "    // limit handleAddOutput to display_data with EXEC_MIME_TYPE content only\n",
       "    if ((output.output_type != \"display_data\") || (!output.data.hasOwnProperty(EXEC_MIME_TYPE))) {\n",
       "      return\n",
       "    }\n",
       "\n",
       "    var toinsert = output_area.element.find(\".\" + CLASS_NAME.split(' ')[0]);\n",
       "\n",
       "    if (output.metadata[EXEC_MIME_TYPE][\"id\"] !== undefined) {\n",
       "      toinsert[toinsert.length - 1].firstChild.textContent = output.data[JS_MIME_TYPE];\n",
       "      // store reference to embed id on output_area\n",
       "      output_area._bokeh_element_id = output.metadata[EXEC_MIME_TYPE][\"id\"];\n",
       "    }\n",
       "    if (output.metadata[EXEC_MIME_TYPE][\"server_id\"] !== undefined) {\n",
       "      var bk_div = document.createElement(\"div\");\n",
       "      bk_div.innerHTML = output.data[HTML_MIME_TYPE];\n",
       "      var script_attrs = bk_div.children[0].attributes;\n",
       "      for (var i = 0; i < script_attrs.length; i++) {\n",
       "        toinsert[toinsert.length - 1].firstChild.setAttribute(script_attrs[i].name, script_attrs[i].value);\n",
       "      }\n",
       "      // store reference to server id on output_area\n",
       "      output_area._bokeh_server_id = output.metadata[EXEC_MIME_TYPE][\"server_id\"];\n",
       "    }\n",
       "  }\n",
       "\n",
       "  function register_renderer(events, OutputArea) {\n",
       "\n",
       "    function append_mime(data, metadata, element) {\n",
       "      // create a DOM node to render to\n",
       "      var toinsert = this.create_output_subarea(\n",
       "        metadata,\n",
       "        CLASS_NAME,\n",
       "        EXEC_MIME_TYPE\n",
       "      );\n",
       "      this.keyboard_manager.register_events(toinsert);\n",
       "      // Render to node\n",
       "      var props = {data: data, metadata: metadata[EXEC_MIME_TYPE]};\n",
       "      render(props, toinsert[toinsert.length - 1]);\n",
       "      element.append(toinsert);\n",
       "      return toinsert\n",
       "    }\n",
       "\n",
       "    /* Handle when an output is cleared or removed */\n",
       "    events.on('clear_output.CodeCell', handleClearOutput);\n",
       "    events.on('delete.Cell', handleClearOutput);\n",
       "\n",
       "    /* Handle when a new output is added */\n",
       "    events.on('output_added.OutputArea', handleAddOutput);\n",
       "\n",
       "    /**\n",
       "     * Register the mime type and append_mime function with output_area\n",
       "     */\n",
       "    OutputArea.prototype.register_mime_type(EXEC_MIME_TYPE, append_mime, {\n",
       "      /* Is output safe? */\n",
       "      safe: true,\n",
       "      /* Index of renderer in `output_area.display_order` */\n",
       "      index: 0\n",
       "    });\n",
       "  }\n",
       "\n",
       "  // register the mime type if in Jupyter Notebook environment and previously unregistered\n",
       "  if (root.Jupyter !== undefined) {\n",
       "    var events = require('base/js/events');\n",
       "    var OutputArea = require('notebook/js/outputarea').OutputArea;\n",
       "\n",
       "    if (OutputArea.prototype.mime_types().indexOf(EXEC_MIME_TYPE) == -1) {\n",
       "      register_renderer(events, OutputArea);\n",
       "    }\n",
       "  }\n",
       "\n",
       "  \n",
       "  if (typeof (root._bokeh_timeout) === \"undefined\" || force === true) {\n",
       "    root._bokeh_timeout = Date.now() + 5000;\n",
       "    root._bokeh_failed_load = false;\n",
       "  }\n",
       "\n",
       "  var NB_LOAD_WARNING = {'data': {'text/html':\n",
       "     \"<div style='background-color: #fdd'>\\n\"+\n",
       "     \"<p>\\n\"+\n",
       "     \"BokehJS does not appear to have successfully loaded. If loading BokehJS from CDN, this \\n\"+\n",
       "     \"may be due to a slow or bad network connection. Possible fixes:\\n\"+\n",
       "     \"</p>\\n\"+\n",
       "     \"<ul>\\n\"+\n",
       "     \"<li>re-rerun `output_notebook()` to attempt to load from CDN again, or</li>\\n\"+\n",
       "     \"<li>use INLINE resources instead, as so:</li>\\n\"+\n",
       "     \"</ul>\\n\"+\n",
       "     \"<code>\\n\"+\n",
       "     \"from bokeh.resources import INLINE\\n\"+\n",
       "     \"output_notebook(resources=INLINE)\\n\"+\n",
       "     \"</code>\\n\"+\n",
       "     \"</div>\"}};\n",
       "\n",
       "  function display_loaded() {\n",
       "    var el = document.getElementById(\"1003\");\n",
       "    if (el != null) {\n",
       "      el.textContent = \"BokehJS is loading...\";\n",
       "    }\n",
       "    if (root.Bokeh !== undefined) {\n",
       "      if (el != null) {\n",
       "        el.textContent = \"BokehJS \" + root.Bokeh.version + \" successfully loaded.\";\n",
       "      }\n",
       "    } else if (Date.now() < root._bokeh_timeout) {\n",
       "      setTimeout(display_loaded, 100)\n",
       "    }\n",
       "  }\n",
       "\n",
       "\n",
       "  function run_callbacks() {\n",
       "    try {\n",
       "      root._bokeh_onload_callbacks.forEach(function(callback) {\n",
       "        if (callback != null)\n",
       "          callback();\n",
       "      });\n",
       "    } finally {\n",
       "      delete root._bokeh_onload_callbacks\n",
       "    }\n",
       "    console.debug(\"Bokeh: all callbacks have finished\");\n",
       "  }\n",
       "\n",
       "  function load_libs(css_urls, js_urls, callback) {\n",
       "    if (css_urls == null) css_urls = [];\n",
       "    if (js_urls == null) js_urls = [];\n",
       "\n",
       "    root._bokeh_onload_callbacks.push(callback);\n",
       "    if (root._bokeh_is_loading > 0) {\n",
       "      console.debug(\"Bokeh: BokehJS is being loaded, scheduling callback at\", now());\n",
       "      return null;\n",
       "    }\n",
       "    if (js_urls == null || js_urls.length === 0) {\n",
       "      run_callbacks();\n",
       "      return null;\n",
       "    }\n",
       "    console.debug(\"Bokeh: BokehJS not loaded, scheduling load and callback at\", now());\n",
       "    root._bokeh_is_loading = css_urls.length + js_urls.length;\n",
       "\n",
       "    function on_load() {\n",
       "      root._bokeh_is_loading--;\n",
       "      if (root._bokeh_is_loading === 0) {\n",
       "        console.debug(\"Bokeh: all BokehJS libraries/stylesheets loaded\");\n",
       "        run_callbacks()\n",
       "      }\n",
       "    }\n",
       "\n",
       "    function on_error() {\n",
       "      console.error(\"failed to load \" + url);\n",
       "    }\n",
       "\n",
       "    for (var i = 0; i < css_urls.length; i++) {\n",
       "      var url = css_urls[i];\n",
       "      const element = document.createElement(\"link\");\n",
       "      element.onload = on_load;\n",
       "      element.onerror = on_error;\n",
       "      element.rel = \"stylesheet\";\n",
       "      element.type = \"text/css\";\n",
       "      element.href = url;\n",
       "      console.debug(\"Bokeh: injecting link tag for BokehJS stylesheet: \", url);\n",
       "      document.body.appendChild(element);\n",
       "    }\n",
       "\n",
       "    for (var i = 0; i < js_urls.length; i++) {\n",
       "      var url = js_urls[i];\n",
       "      var element = document.createElement('script');\n",
       "      element.onload = on_load;\n",
       "      element.onerror = on_error;\n",
       "      element.async = false;\n",
       "      element.src = url;\n",
       "      console.debug(\"Bokeh: injecting script tag for BokehJS library: \", url);\n",
       "      document.head.appendChild(element);\n",
       "    }\n",
       "  };var element = document.getElementById(\"1003\");\n",
       "  if (element == null) {\n",
       "    console.error(\"Bokeh: ERROR: autoload.js configured with elementid '1003' but no matching script tag was found. \")\n",
       "    return false;\n",
       "  }\n",
       "\n",
       "  function inject_raw_css(css) {\n",
       "    const element = document.createElement(\"style\");\n",
       "    element.appendChild(document.createTextNode(css));\n",
       "    document.body.appendChild(element);\n",
       "  }\n",
       "\n",
       "  var js_urls = [\"https://cdn.pydata.org/bokeh/release/bokeh-1.2.0.min.js\", \"https://cdn.pydata.org/bokeh/release/bokeh-widgets-1.2.0.min.js\", \"https://cdn.pydata.org/bokeh/release/bokeh-tables-1.2.0.min.js\", \"https://cdn.pydata.org/bokeh/release/bokeh-gl-1.2.0.min.js\"];\n",
       "  var css_urls = [\"https://cdn.pydata.org/bokeh/release/bokeh-1.2.0.min.css\", \"https://cdn.pydata.org/bokeh/release/bokeh-widgets-1.2.0.min.css\", \"https://cdn.pydata.org/bokeh/release/bokeh-tables-1.2.0.min.css\"];\n",
       "\n",
       "  var inline_js = [\n",
       "    function(Bokeh) {\n",
       "      Bokeh.set_log_level(\"info\");\n",
       "    },\n",
       "    \n",
       "    function(Bokeh) {\n",
       "      \n",
       "    },\n",
       "    function(Bokeh) {} // ensure no trailing comma for IE\n",
       "  ];\n",
       "\n",
       "  function run_inline_js() {\n",
       "    \n",
       "    if ((root.Bokeh !== undefined) || (force === true)) {\n",
       "      for (var i = 0; i < inline_js.length; i++) {\n",
       "        inline_js[i].call(root, root.Bokeh);\n",
       "      }if (force === true) {\n",
       "        display_loaded();\n",
       "      }} else if (Date.now() < root._bokeh_timeout) {\n",
       "      setTimeout(run_inline_js, 100);\n",
       "    } else if (!root._bokeh_failed_load) {\n",
       "      console.log(\"Bokeh: BokehJS failed to load within specified timeout.\");\n",
       "      root._bokeh_failed_load = true;\n",
       "    } else if (force !== true) {\n",
       "      var cell = $(document.getElementById(\"1003\")).parents('.cell').data().cell;\n",
       "      cell.output_area.append_execute_result(NB_LOAD_WARNING)\n",
       "    }\n",
       "\n",
       "  }\n",
       "\n",
       "  if (root._bokeh_is_loading === 0) {\n",
       "    console.debug(\"Bokeh: BokehJS loaded, going straight to plotting\");\n",
       "    run_inline_js();\n",
       "  } else {\n",
       "    load_libs(css_urls, js_urls, function() {\n",
       "      console.debug(\"Bokeh: BokehJS plotting callback run at\", now());\n",
       "      run_inline_js();\n",
       "    });\n",
       "  }\n",
       "}(window));"
      ],
      "application/vnd.bokehjs_load.v0+json": "\n(function(root) {\n  function now() {\n    return new Date();\n  }\n\n  var force = true;\n\n  if (typeof root._bokeh_onload_callbacks === \"undefined\" || force === true) {\n    root._bokeh_onload_callbacks = [];\n    root._bokeh_is_loading = undefined;\n  }\n\n  \n\n  \n  if (typeof (root._bokeh_timeout) === \"undefined\" || force === true) {\n    root._bokeh_timeout = Date.now() + 5000;\n    root._bokeh_failed_load = false;\n  }\n\n  var NB_LOAD_WARNING = {'data': {'text/html':\n     \"<div style='background-color: #fdd'>\\n\"+\n     \"<p>\\n\"+\n     \"BokehJS does not appear to have successfully loaded. If loading BokehJS from CDN, this \\n\"+\n     \"may be due to a slow or bad network connection. Possible fixes:\\n\"+\n     \"</p>\\n\"+\n     \"<ul>\\n\"+\n     \"<li>re-rerun `output_notebook()` to attempt to load from CDN again, or</li>\\n\"+\n     \"<li>use INLINE resources instead, as so:</li>\\n\"+\n     \"</ul>\\n\"+\n     \"<code>\\n\"+\n     \"from bokeh.resources import INLINE\\n\"+\n     \"output_notebook(resources=INLINE)\\n\"+\n     \"</code>\\n\"+\n     \"</div>\"}};\n\n  function display_loaded() {\n    var el = document.getElementById(\"1003\");\n    if (el != null) {\n      el.textContent = \"BokehJS is loading...\";\n    }\n    if (root.Bokeh !== undefined) {\n      if (el != null) {\n        el.textContent = \"BokehJS \" + root.Bokeh.version + \" successfully loaded.\";\n      }\n    } else if (Date.now() < root._bokeh_timeout) {\n      setTimeout(display_loaded, 100)\n    }\n  }\n\n\n  function run_callbacks() {\n    try {\n      root._bokeh_onload_callbacks.forEach(function(callback) {\n        if (callback != null)\n          callback();\n      });\n    } finally {\n      delete root._bokeh_onload_callbacks\n    }\n    console.debug(\"Bokeh: all callbacks have finished\");\n  }\n\n  function load_libs(css_urls, js_urls, callback) {\n    if (css_urls == null) css_urls = [];\n    if (js_urls == null) js_urls = [];\n\n    root._bokeh_onload_callbacks.push(callback);\n    if (root._bokeh_is_loading > 0) {\n      console.debug(\"Bokeh: BokehJS is being loaded, scheduling callback at\", now());\n      return null;\n    }\n    if (js_urls == null || js_urls.length === 0) {\n      run_callbacks();\n      return null;\n    }\n    console.debug(\"Bokeh: BokehJS not loaded, scheduling load and callback at\", now());\n    root._bokeh_is_loading = css_urls.length + js_urls.length;\n\n    function on_load() {\n      root._bokeh_is_loading--;\n      if (root._bokeh_is_loading === 0) {\n        console.debug(\"Bokeh: all BokehJS libraries/stylesheets loaded\");\n        run_callbacks()\n      }\n    }\n\n    function on_error() {\n      console.error(\"failed to load \" + url);\n    }\n\n    for (var i = 0; i < css_urls.length; i++) {\n      var url = css_urls[i];\n      const element = document.createElement(\"link\");\n      element.onload = on_load;\n      element.onerror = on_error;\n      element.rel = \"stylesheet\";\n      element.type = \"text/css\";\n      element.href = url;\n      console.debug(\"Bokeh: injecting link tag for BokehJS stylesheet: \", url);\n      document.body.appendChild(element);\n    }\n\n    for (var i = 0; i < js_urls.length; i++) {\n      var url = js_urls[i];\n      var element = document.createElement('script');\n      element.onload = on_load;\n      element.onerror = on_error;\n      element.async = false;\n      element.src = url;\n      console.debug(\"Bokeh: injecting script tag for BokehJS library: \", url);\n      document.head.appendChild(element);\n    }\n  };var element = document.getElementById(\"1003\");\n  if (element == null) {\n    console.error(\"Bokeh: ERROR: autoload.js configured with elementid '1003' but no matching script tag was found. \")\n    return false;\n  }\n\n  function inject_raw_css(css) {\n    const element = document.createElement(\"style\");\n    element.appendChild(document.createTextNode(css));\n    document.body.appendChild(element);\n  }\n\n  var js_urls = [\"https://cdn.pydata.org/bokeh/release/bokeh-1.2.0.min.js\", \"https://cdn.pydata.org/bokeh/release/bokeh-widgets-1.2.0.min.js\", \"https://cdn.pydata.org/bokeh/release/bokeh-tables-1.2.0.min.js\", \"https://cdn.pydata.org/bokeh/release/bokeh-gl-1.2.0.min.js\"];\n  var css_urls = [\"https://cdn.pydata.org/bokeh/release/bokeh-1.2.0.min.css\", \"https://cdn.pydata.org/bokeh/release/bokeh-widgets-1.2.0.min.css\", \"https://cdn.pydata.org/bokeh/release/bokeh-tables-1.2.0.min.css\"];\n\n  var inline_js = [\n    function(Bokeh) {\n      Bokeh.set_log_level(\"info\");\n    },\n    \n    function(Bokeh) {\n      \n    },\n    function(Bokeh) {} // ensure no trailing comma for IE\n  ];\n\n  function run_inline_js() {\n    \n    if ((root.Bokeh !== undefined) || (force === true)) {\n      for (var i = 0; i < inline_js.length; i++) {\n        inline_js[i].call(root, root.Bokeh);\n      }if (force === true) {\n        display_loaded();\n      }} else if (Date.now() < root._bokeh_timeout) {\n      setTimeout(run_inline_js, 100);\n    } else if (!root._bokeh_failed_load) {\n      console.log(\"Bokeh: BokehJS failed to load within specified timeout.\");\n      root._bokeh_failed_load = true;\n    } else if (force !== true) {\n      var cell = $(document.getElementById(\"1003\")).parents('.cell').data().cell;\n      cell.output_area.append_execute_result(NB_LOAD_WARNING)\n    }\n\n  }\n\n  if (root._bokeh_is_loading === 0) {\n    console.debug(\"Bokeh: BokehJS loaded, going straight to plotting\");\n    run_inline_js();\n  } else {\n    load_libs(css_urls, js_urls, function() {\n      console.debug(\"Bokeh: BokehJS plotting callback run at\", now());\n      run_inline_js();\n    });\n  }\n}(window));"
     },
     "metadata": {},
     "output_type": "display_data"
    }
   ],
   "source": [
    "# Imports\n",
    "import toml\n",
    "from pathlib import Path\n",
    "from datetime import datetime\n",
    "from pprint import pprint\n",
    "import sys\n",
    "from distutils.version import LooseVersion\n",
    "import subprocess\n",
    "\n",
    "import pandas as pd\n",
    "import pyspark\n",
    "import dxpy\n",
    "import dxdata\n",
    "import hail as hl\n",
    "    \n",
    "module_path = Path('..').resolve().__str__()\n",
    "\n",
    "if module_path not in sys.path:\n",
    "    sys.path.append(module_path)\n",
    "    \n",
    "from src.utils import get_position, lookup_vcfs\n",
    "from src.matrixtables import *\n",
    "from src.resources import lauryns_variants\n",
    "\n",
    "\n",
    "hl.plot.output_notebook()"
   ]
  },
  {
   "cell_type": "code",
   "execution_count": 36,
   "id": "1e475061",
   "metadata": {
    "tags": [
     "parameters"
    ]
   },
   "outputs": [],
   "source": [
    "# Parameters\n",
    "with open(\"../config.toml\") as f:\n",
    "    conf = toml.load(f)\n",
    "\n",
    "imps = conf[\"IMPORT\"]\n",
    "GENE = conf[\"GENE\"]\n",
    "\n",
    "now = datetime.now().strftime(\"%H%M\")\n",
    "\n",
    "map_file = Path(imps[\"MISC_DIR\"],imps[\"MAPPING_FILE\"]).resolve().__str__()\n",
    "log_file = Path(imps[\"LOG_DIR\"], f\"{GENE}_{now}.log\").resolve().__str__()\n",
    "int_file = Path(imps[\"MISC_DIR\"], imps[\"INTERVAL_FILE\"]).resolve().__str__()\n",
    "vcf_dir = Path(imps[\"VCF_DIR\"]).resolve().__str__()\n"
   ]
  },
  {
   "cell_type": "code",
   "execution_count": 3,
   "id": "95c3295a",
   "metadata": {},
   "outputs": [
    {
     "name": "stderr",
     "output_type": "stream",
     "text": [
      "pip-installed Hail requires additional configuration options in Spark referring\n",
      "  to the path to the Hail Python module directory HAIL_DIR,\n",
      "  e.g. /path/to/python/site-packages/hail:\n",
      "    spark.jars=HAIL_DIR/hail-all-spark.jar\n",
      "    spark.driver.extraClassPath=HAIL_DIR/hail-all-spark.jar\n",
      "    spark.executor.extraClassPath=./hail-all-spark.jarRunning on Apache Spark version 2.4.4\n",
      "SparkUI available at http://ip-10-60-12-7.eu-west-2.compute.internal:8081\n",
      "Welcome to\n",
      "     __  __     <>__\n",
      "    / /_/ /__  __/ /\n",
      "   / __  / _ `/ / /\n",
      "  /_/ /_/\\_,_/_/_/   version 0.2.61-3c86d3ba497a\n",
      "LOGGING: writing to /opt/notebooks/gogoGPCR/hail_logs/GCGR_1258.log\n"
     ]
    }
   ],
   "source": [
    "# Spark and Hail\n",
    "sc = pyspark.SparkContext()\n",
    "spark = pyspark.sql.SparkSession(sc)\n",
    "\n",
    "hl.init(sc=sc, default_reference='GRCh38', log=log_file)"
   ]
  },
  {
   "cell_type": "code",
   "execution_count": 4,
   "id": "70037550",
   "metadata": {},
   "outputs": [],
   "source": [
    "# VCFs\n",
    "mapping = pd.read_csv(map_file, sep = \"\\t\").set_index(\"HGNC\", drop=False).loc[GENE,:].to_dict()\n",
    "vcf_files = lookup_vcfs(mapping = mapping, vcfdir = vcf_dir, gene = GENE, version = imps[\"VCF_VERSION\"])"
   ]
  },
  {
   "cell_type": "code",
   "execution_count": 6,
   "id": "646028b4",
   "metadata": {},
   "outputs": [
    {
     "name": "stdout",
     "output_type": "stream",
     "text": [
      "'855 variants and 200643 samples after import'\n"
     ]
    }
   ],
   "source": [
    "# Import\n",
    "mt = import_mt(vcf_files.get(\"vcfs\"), mapping).key_rows_by(\"locus\", \"alleles\")#.checkpoint(checkpoint_file)\n",
    "\n",
    "v, s = mt.count()\n",
    "pprint(f\"{v} variants and {s} samples after import\")"
   ]
  },
  {
   "cell_type": "code",
   "execution_count": 7,
   "id": "018eb654",
   "metadata": {},
   "outputs": [
    {
     "name": "stderr",
     "output_type": "stream",
     "text": [
      "2021-09-14 13:04:11 Hail: INFO: Coerced sorted dataset\n",
      "2021-09-14 13:06:52 Hail: INFO: wrote matrix table with 855 rows and 200643 columns in 1 partition to file:///opt/notebooks/gogoGPCR/tmp/GCGR.raw.cp.mt\n",
      "    Total size: 1005.43 MiB\n",
      "    * Rows/entries: 1004.12 MiB\n",
      "    * Columns: 1.31 MiB\n",
      "    * Globals: 11.00 B\n",
      "    * Smallest partition: 855 rows (1004.12 MiB)\n",
      "    * Largest partition:  855 rows (1004.12 MiB)\n"
     ]
    }
   ],
   "source": [
    "# Checkpoint\n",
    "stage = \"raw\"\n",
    "checkpoint_file = \"file://\" + Path(imps[\"TMP_DIR\"], f\"{GENE}.{stage}.cp.mt\").resolve().__str__()\n",
    "\n",
    "mt = mt.checkpoint(checkpoint_file, overwrite = True)"
   ]
  },
  {
   "cell_type": "code",
   "execution_count": 5,
   "id": "56a105a2",
   "metadata": {},
   "outputs": [],
   "source": [
    "# Re-load\n",
    "stage = \"raw\"\n",
    "checkpoint_file = \"file://\" + Path(imps[\"TMP_DIR\"], f\"{GENE}.{stage}.cp.mt\").resolve().__str__()\n",
    "\n",
    "mt = hl.read_matrix_table(checkpoint_file)"
   ]
  },
  {
   "cell_type": "code",
   "execution_count": 11,
   "id": "2a5c597f",
   "metadata": {},
   "outputs": [
    {
     "name": "stdout",
     "output_type": "stream",
     "text": [
      "'200643 samples after downsampling'\n"
     ]
    }
   ],
   "source": [
    "# Downsample\n",
    "mt = downsample_mt(mt, imps.get(\"DOWNSAMPLE_P\", None))\n",
    "\n",
    "pprint(f\"{mt.count_cols()} samples after downsampling\")"
   ]
  },
  {
   "cell_type": "code",
   "execution_count": 12,
   "id": "b7145f04",
   "metadata": {},
   "outputs": [
    {
     "name": "stderr",
     "output_type": "stream",
     "text": [
      "2021-09-14 13:09:57 Hail: INFO: Reading table without type imputation\n",
      "  Loading field 'f0' as type str (user-supplied)\n",
      "  Loading field 'f1' as type int32 (user-supplied)\n",
      "  Loading field 'f2' as type int32 (user-supplied)\n",
      "2021-09-14 13:10:00 Hail: INFO: Coerced sorted dataset\n"
     ]
    },
    {
     "name": "stdout",
     "output_type": "stream",
     "text": [
      "'361 variants after interval filtering'\n"
     ]
    }
   ],
   "source": [
    "# Interval QC\n",
    "mt = interval_qc_mt(mt, mapping, \"file://\" + int_file)\n",
    "\n",
    "pprint(f\"{mt.count_rows()} variants after interval filtering\")"
   ]
  },
  {
   "cell_type": "code",
   "execution_count": 13,
   "id": "39f22b5a",
   "metadata": {},
   "outputs": [
    {
     "name": "stderr",
     "output_type": "stream",
     "text": [
      "2021-09-14 13:10:18 Hail: INFO: Coerced sorted dataset\n",
      "2021-09-14 13:10:20 Hail: INFO: Coerced sorted dataset\n",
      "2021-09-14 13:10:22 Hail: INFO: Coerced sorted dataset\n"
     ]
    },
    {
     "name": "stdout",
     "output_type": "stream",
     "text": [
      "'396 variants not more than 6 alleles after split'\n"
     ]
    }
   ],
   "source": [
    "# Split multi\n",
    "mt = mt.filter_rows(mt.alleles.length() <= 6)\n",
    "mt = smart_split_multi_mt(mt)\n",
    "\n",
    "pprint(f'{mt.count_rows()} variants not more than 6 alleles after split')"
   ]
  },
  {
   "cell_type": "code",
   "execution_count": 14,
   "id": "aa27f493",
   "metadata": {},
   "outputs": [
    {
     "name": "stderr",
     "output_type": "stream",
     "text": [
      "2021-09-14 13:10:34 Hail: INFO: Coerced sorted dataset\n",
      "2021-09-14 13:10:35 Hail: INFO: Coerced sorted dataset\n",
      "2021-09-14 13:10:37 Hail: INFO: Coerced sorted dataset\n"
     ]
    },
    {
     "name": "stdout",
     "output_type": "stream",
     "text": [
      "'381 variants and 200643 samples after genotype QC'\n"
     ]
    }
   ],
   "source": [
    "# Genotype GQ\n",
    "mt = genotype_filter_mt(mt, conf[\"ENTRY_QC\"][\"MIN_DP\"], conf[\"ENTRY_QC\"][\"MIN_GQ\"], conf[\"ENTRY_QC\"][\"MIN_PL\"], True)\n",
    "\n",
    "v, s = mt.count()\n",
    "pprint(f\"{v} variants and {s} samples after genotype QC\")"
   ]
  },
  {
   "cell_type": "code",
   "execution_count": 15,
   "id": "cf066fa7",
   "metadata": {},
   "outputs": [
    {
     "name": "stderr",
     "output_type": "stream",
     "text": [
      "2021-09-14 13:10:48 Hail: INFO: Coerced sorted dataset\n",
      "2021-09-14 13:10:49 Hail: INFO: Coerced sorted dataset\n",
      "2021-09-14 13:10:50 Hail: INFO: Coerced sorted dataset\n",
      "2021-09-14 13:11:24 Hail: INFO: Coerced sorted dataset\n",
      "2021-09-14 13:11:26 Hail: INFO: Coerced sorted dataset\n",
      "2021-09-14 13:11:27 Hail: INFO: Coerced sorted dataset\n",
      "2021-09-14 13:11:29 Hail: INFO: Coerced sorted dataset\n",
      "2021-09-14 13:11:30 Hail: INFO: Coerced sorted dataset\n",
      "2021-09-14 13:11:55 Hail: INFO: Coerced sorted dataset\n",
      "2021-09-14 13:11:55 Hail: INFO: Coerced sorted dataset\n",
      "2021-09-14 13:13:24 Hail: INFO: wrote matrix table with 396 rows and 200643 columns in 3 partitions to file:///opt/notebooks/gogoGPCR/tmp/GCGR.GT_QC.cp.mt\n",
      "    Total size: 433.30 MiB\n",
      "    * Rows/entries: 431.70 MiB\n",
      "    * Columns: 1.60 MiB\n",
      "    * Globals: 11.00 B\n",
      "    * Smallest partition: 0 rows (20.00 B)\n",
      "    * Largest partition:  377 rows (414.90 MiB)\n"
     ]
    }
   ],
   "source": [
    "# Checkpoint\n",
    "stage = \"GT_QC\"\n",
    "checkpoint_file = \"file://\" + Path(imps[\"TMP_DIR\"], f\"{GENE}.{stage}.cp.mt\").resolve().__str__()\n",
    "\n",
    "mt = mt.checkpoint(checkpoint_file, overwrite = True)"
   ]
  },
  {
   "cell_type": "code",
   "execution_count": 16,
   "id": "8402ca29",
   "metadata": {},
   "outputs": [],
   "source": [
    "# Re-load\n",
    "stage = \"GT_QC\"\n",
    "checkpoint_file = \"file://\" + Path(imps[\"TMP_DIR\"], f\"{GENE}.{stage}.cp.mt\").resolve().__str__()\n",
    "\n",
    "mt = hl.read_matrix_table(checkpoint_file)"
   ]
  },
  {
   "cell_type": "code",
   "execution_count": 20,
   "id": "00549c02",
   "metadata": {},
   "outputs": [
    {
     "name": "stdout",
     "output_type": "stream",
     "text": [
      "Variants remaining after QC: 393 \n"
     ]
    }
   ],
   "source": [
    "# Variant QC\n",
    "mt = variant_QC_mt(mt, conf[\"VARIANT_QC\"][\"MIN_P_HWE\"], conf[\"VARIANT_QC\"][\"MIN_GQ\"])\n",
    "\n",
    "print(f\"Variants remaining after QC: {mt.count_rows()} \")"
   ]
  },
  {
   "cell_type": "code",
   "execution_count": 21,
   "id": "94baf4a9",
   "metadata": {},
   "outputs": [],
   "source": [
    "# Withdrawn\n",
    "mt = mt.filter_cols(~mt.s.startswith(\"W\"))\n",
    "\n",
    "print(f\"Samples remaining after removing withdrawn participants: {mt.count_cols()} \")"
   ]
  },
  {
   "cell_type": "code",
   "execution_count": 23,
   "id": "04105563",
   "metadata": {},
   "outputs": [
    {
     "name": "stdout",
     "output_type": "stream",
     "text": [
      "Samples remaining after QC: 200610 \n"
     ]
    }
   ],
   "source": [
    "# Sample QC\n",
    "mt = sample_QC_mt(mt, conf[\"SAMPLE_QC\"][\"MIN_CALL_RATE\"], conf[\"SAMPLE_QC\"][\"MIN_MEAN_DP\"], conf[\"SAMPLE_QC\"][\"MIN_MEAN_GQ\"])\n",
    "\n",
    "print(f\"Samples remaining after QC: {mt.count_cols()} \")"
   ]
  },
  {
   "cell_type": "code",
   "execution_count": 33,
   "id": "9883ee78",
   "metadata": {},
   "outputs": [
    {
     "name": "stderr",
     "output_type": "stream",
     "text": [
      "2021-09-14 13:18:14 Hail: INFO: Reading table without type imputation\n",
      "  Loading field 'eid' as type str (not specified)\n"
     ]
    },
    {
     "name": "stdout",
     "output_type": "stream",
     "text": [
      "Samples remaining after QC: 195808 \n"
     ]
    }
   ],
   "source": [
    "# Related\n",
    "rel = hl.import_table(\"file://\" + conf[\"SAMPLE_QC\"][\"REL_FILE\"], key = \"eid\")\n",
    "mt = mt.anti_join_cols(rel)\n",
    "\n",
    "print(f\"Samples remaining after removing related samples: {mt.count_cols()} \")"
   ]
  },
  {
   "cell_type": "code",
   "execution_count": 37,
   "id": "6fed51f3",
   "metadata": {},
   "outputs": [
    {
     "name": "stderr",
     "output_type": "stream",
     "text": [
      "2021-09-14 13:20:24 Hail: INFO: Reading table without type imputation\n",
      "  Loading field 'eid' as type str (not specified)\n"
     ]
    },
    {
     "name": "stdout",
     "output_type": "stream",
     "text": [
      "Samples remaining after QC: 162483 \n"
     ]
    }
   ],
   "source": [
    "# Hard filters\n",
    "samp = hl.import_table(\"file://\" + conf[\"SAMPLE_QC\"][\"SAMP_FILE\"], key = \"eid\")\n",
    "mt = mt.semi_join_cols(samp)\n",
    "\n",
    "print(f\"Samples remaining after after hard filters: {mt.count_cols()} \")"
   ]
  },
  {
   "cell_type": "code",
   "execution_count": null,
   "id": "5dd24b7d",
   "metadata": {},
   "outputs": [],
   "source": [
    "# mt2 = hl.variant_qc(mt)\n",
    "# mt2 = mt2.filter_rows(mt2.is_lauryns)\n",
    "# mt2.select_rows(mt2.variant_qc, mt2.annotations, mt2.entry_stats_row).rows().show(-1)"
   ]
  },
  {
   "cell_type": "code",
   "execution_count": 38,
   "id": "832044b9",
   "metadata": {},
   "outputs": [
    {
     "name": "stdout",
     "output_type": "stream",
     "text": [
      "(393, 162483)\n",
      "(297, 162483)\n"
     ]
    }
   ],
   "source": [
    "# Variant QC again\n",
    "pprint(mt.count())\n",
    "\n",
    "mt = variant_QC_mt(mt, conf[\"VARIANT_QC\"][\"MIN_P_HWE\"], conf[\"VARIANT_QC\"][\"MIN_GQ\"])\n",
    "\n",
    "pprint(mt.count())"
   ]
  },
  {
   "cell_type": "code",
   "execution_count": 41,
   "id": "676c1f64",
   "metadata": {},
   "outputs": [
    {
     "name": "stderr",
     "output_type": "stream",
     "text": [
      "2021-09-14 13:28:56 Hail: INFO: wrote matrix table with 297 rows and 162483 columns in 3 partitions to file:///opt/notebooks/gogoGPCR/tmp/GCGR.final.cp.mt\n",
      "    Total size: 183.36 MiB\n",
      "    * Rows/entries: 176.79 MiB\n",
      "    * Columns: 6.57 MiB\n",
      "    * Globals: 11.00 B\n",
      "    * Smallest partition: 0 rows (20.00 B)\n",
      "    * Largest partition:  282 rows (171.45 MiB)\n"
     ]
    }
   ],
   "source": [
    "stage = \"final\"\n",
    "write_file = \"file://\" + Path(imps[\"TMP_DIR\"], f\"{GENE}.{stage}.mt\").resolve().__str__()\n",
    "\n",
    "mt.write(write_file)"
   ]
  },
  {
   "cell_type": "code",
   "execution_count": null,
   "id": "fd2dac36",
   "metadata": {},
   "outputs": [],
   "source": [
    "subprocess.run([\"dx\", \"upload\", Path(imps[\"TMP_DIR\"], f\"{GENE}.{stage}.mt\"), \"-r\", \"--path\", \"/data/matrix_tables/\"], check = True, shell = False)"
   ]
  },
  {
   "cell_type": "code",
   "execution_count": null,
   "id": "547b2bec",
   "metadata": {},
   "outputs": [],
   "source": []
  }
 ],
 "metadata": {
  "kernelspec": {
   "display_name": "Python 3",
   "language": "python",
   "name": "python3"
  },
  "language_info": {
   "codemirror_mode": {
    "name": "ipython",
    "version": 3
   },
   "file_extension": ".py",
   "mimetype": "text/x-python",
   "name": "python",
   "nbconvert_exporter": "python",
   "pygments_lexer": "ipython3",
   "version": "3.6.5"
  }
 },
 "nbformat": 4,
 "nbformat_minor": 5
}

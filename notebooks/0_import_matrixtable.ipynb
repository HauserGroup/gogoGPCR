{
 "cells": [
  {
   "cell_type": "markdown",
   "id": "a3e6e7bb",
   "metadata": {},
   "source": [
    "# Create a MatrixTable and QC the hell out of it\n",
    "## 0 Import stuff and set your parameters"
   ]
  },
  {
   "cell_type": "code",
   "execution_count": 1,
   "id": "5b4b9432",
   "metadata": {},
   "outputs": [],
   "source": [
    "import toml\n",
    "from pathlib import Path\n",
    "from datetime import datetime\n",
    "import sys\n",
    "\n",
    "import pandas as pd\n",
    "import pyspark\n",
    "import dxpy\n",
    "import dxdata\n",
    "import hail as hl\n",
    "    \n",
    "module_path = Path('..').resolve().__str__()\n",
    "\n",
    "if module_path not in sys.path:\n",
    "    sys.path.append(module_path)\n",
    "    \n",
    "from src.utils import get_position, lookup_vcfs\n",
    "from src.matrixtables import *"
   ]
  },
  {
   "cell_type": "code",
   "execution_count": 2,
   "id": "1002d703",
   "metadata": {},
   "outputs": [],
   "source": [
    "with open(\"../config.toml\") as f:\n",
    "    conf = toml.load(f)\n",
    "\n",
    "imps = conf[\"IMPORT\"]\n",
    "GENE = conf[\"GENE\"]\n",
    "\n",
    "now = datetime.now().strftime(\"%H%M%S\")\n",
    "\n",
    "map_file = Path(imps[\"DATA_DIR\"],imps[\"MAPPING_FILE\"]).resolve().__str__()\n",
    "log_file = Path(imps[\"LOG_DIR\"], f\"{GENE}_{now}.log\").resolve().__str__()\n",
    "int_file = Path(imps[\"DATA_DIR\"], imps[\"INTERVAL_FILE\"]).resolve().__str__()\n",
    "vcf_dir = Path(imps[\"VCF_DIR\"]).resolve().__str__()\n",
    "checkpoint_file = Path(imps[\"TMP_DIR\"], f\"{GENE}.cp.mt\").resolve().__str__()"
   ]
  },
  {
   "cell_type": "code",
   "execution_count": 4,
   "id": "5a9827ac",
   "metadata": {},
   "outputs": [
    {
     "name": "stderr",
     "output_type": "stream",
     "text": [
      "pip-installed Hail requires additional configuration options in Spark referring\n",
      "  to the path to the Hail Python module directory HAIL_DIR,\n",
      "  e.g. /path/to/python/site-packages/hail:\n",
      "    spark.jars=HAIL_DIR/hail-all-spark.jar\n",
      "    spark.driver.extraClassPath=HAIL_DIR/hail-all-spark.jar\n",
      "    spark.executor.extraClassPath=./hail-all-spark.jarRunning on Apache Spark version 2.4.4\n",
      "SparkUI available at http://ip-10-60-110-165.eu-west-2.compute.internal:8081\n",
      "Welcome to\n",
      "     __  __     <>__\n",
      "    / /_/ /__  __/ /\n",
      "   / __  / _ `/ / /\n",
      "  /_/ /_/\\_,_/_/_/   version 0.2.61-3c86d3ba497a\n",
      "LOGGING: writing to /opt/notebooks/gogoGPCR/hail_logs/OPRM1_141824.log\n"
     ]
    }
   ],
   "source": [
    "sc = pyspark.SparkContext()\n",
    "spark = pyspark.sql.SparkSession(sc)\n",
    "\n",
    "hl.init(sc=sc, default_reference='GRCh38', log=log_file)"
   ]
  },
  {
   "cell_type": "code",
   "execution_count": 5,
   "id": "d938fd63",
   "metadata": {},
   "outputs": [],
   "source": [
    "mapping = pd.read_csv(map_file, sep = \"\\t\").set_index(\"HGNC\", drop=False).loc[GENE,:].to_dict()"
   ]
  },
  {
   "cell_type": "code",
   "execution_count": 6,
   "id": "0dc0b064",
   "metadata": {},
   "outputs": [],
   "source": [
    "vcf_files = lookup_vcfs(mapping = mapping, vcfdir = vcf_dir, gene = \"OPRM1\", version = imps[\"VCF_VERSION\"])"
   ]
  },
  {
   "cell_type": "code",
   "execution_count": null,
   "id": "f962ed5f",
   "metadata": {},
   "outputs": [],
   "source": [
    "mt = import_mt(vcf_files.get(\"vcfs\"), mapping).checkpoint(checkpoint_file)"
   ]
  },
  {
   "cell_type": "code",
   "execution_count": 15,
   "id": "022d95b7",
   "metadata": {},
   "outputs": [],
   "source": [
    "mt = downsample_mt(mt, DOWNSAMPLE_P)"
   ]
  },
  {
   "cell_type": "code",
   "execution_count": null,
   "id": "b47ecdb6",
   "metadata": {},
   "outputs": [],
   "source": [
    "mt = interval_qc_mt(mt, mapping, interval_path)"
   ]
  },
  {
   "cell_type": "code",
   "execution_count": null,
   "id": "5e97f462",
   "metadata": {},
   "outputs": [],
   "source": [
    "mt = add_varid(mt)"
   ]
  }
 ],
 "metadata": {
  "kernelspec": {
   "display_name": "Python 3",
   "language": "python",
   "name": "python3"
  },
  "language_info": {
   "codemirror_mode": {
    "name": "ipython",
    "version": 3
   },
   "file_extension": ".py",
   "mimetype": "text/x-python",
   "name": "python",
   "nbconvert_exporter": "python",
   "pygments_lexer": "ipython3",
   "version": "3.6.5"
  }
 },
 "nbformat": 4,
 "nbformat_minor": 5
}

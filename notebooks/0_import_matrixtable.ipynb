{
 "cells": [
  {
   "cell_type": "markdown",
   "id": "a58e988f",
   "metadata": {},
   "source": [
    "# Create a MatrixTable and QC the hell out of it\n",
    "## 0 Import stuff and set your parameters"
   ]
  },
  {
   "cell_type": "code",
   "execution_count": null,
   "id": "0f077767",
   "metadata": {},
   "outputs": [],
   "source": [
    "from pathlib import Path, PurePath\n",
    "import sys\n",
    "\n",
    "module_path = Path('..').resolve().__str__()\n",
    "\n",
    "if module_path not in sys.path:\n",
    "    sys.path.append(module_path)\n",
    "\n",
    "\n",
    "import pandas as pd\n",
    "\n",
    "from src.utils import get_position, lookup_vcfs\n",
    "from src.matrixtables import *"
   ]
  },
  {
   "cell_type": "code",
   "execution_count": null,
   "id": "c83f064b",
   "metadata": {},
   "outputs": [],
   "source": [
    "import pyspark\n",
    "import dxpy\n",
    "import dxdata\n",
    "sc = pyspark.SparkContext()\n",
    "spark = pyspark.sql.SparkSession(sc)\n",
    "\n",
    "import hail as hl\n",
    "\n",
    "hl.init(sc=sc, default_reference='GRCh38',log=\"../hail_logs\")"
   ]
  },
  {
   "cell_type": "code",
   "execution_count": null,
   "id": "cbe21bd3",
   "metadata": {},
   "outputs": [],
   "source": [
    "MAPPING_FILE = \"/mnt/project/misc_data/mappings_with_blocks.tsv\"\n",
    "INTERVAL_FILE = \"/mnt/project/misc_data/xgen_plus_spikein.b38.bed\"\n",
    "VCF_DIR = \"/mnt/project/Bulk/Exome sequences/Population level exome OQFE variants, pVCF format\"\n",
    "TMP_DIR = \"../tmp\"\n",
    "VCF_VERSION = \"v1\"\n",
    "GENE = \"OPRM1\"\n",
    "DOWNSAMPLE_P = 1 / 200"
   ]
  },
  {
   "cell_type": "code",
   "execution_count": null,
   "id": "09ed2b55",
   "metadata": {},
   "outputs": [],
   "source": [
    "mapping_path =  \"f://\" + Path(MAPPING_FILE).resolve().__str__()\n",
    "interval_path = \"f:/\" + Path(INTERVAL_FILE).resolve().__str__()\n",
    "vcf_dir_path = Path(VCF_DIR).resolve()\n",
    "tmp_dir_path = Path(TMP_DIR).resolve()"
   ]
  },
  {
   "cell_type": "code",
   "execution_count": null,
   "id": "f5d84bbd",
   "metadata": {},
   "outputs": [],
   "source": [
    "mapping = pd.read_csv(mapping_path, sep = \"\\t\").set_index(\"HGNC\", drop=False).loc[GENE,:].to_dict()"
   ]
  },
  {
   "cell_type": "code",
   "execution_count": null,
   "id": "6f67f7dc",
   "metadata": {},
   "outputs": [],
   "source": [
    "vcf_files = lookup_vcfs(mapping = mapping, vcfdir = VCF_DIR, gene = \"OPRM1\", version = VCF_VERSION)"
   ]
  },
  {
   "cell_type": "code",
   "execution_count": null,
   "id": "d73d1224",
   "metadata": {},
   "outputs": [],
   "source": [
    "cp_file = (tmp_dir_path / Path(f\"{GENE}.cp.mt\")).__str__()\n",
    "\n",
    "mt = import_mt(vcf_files.get(\"vcfs\"), mapping).checkpoint(cp_file)"
   ]
  },
  {
   "cell_type": "code",
   "execution_count": null,
   "id": "fa953e9a",
   "metadata": {},
   "outputs": [],
   "source": [
    "mt = downsample_mt(mt, DOWNSAMPLE_P)"
   ]
  }
 ],
 "metadata": {
  "kernelspec": {
   "display_name": "Python 3",
   "language": "python",
   "name": "python3"
  },
  "language_info": {
   "codemirror_mode": {
    "name": "ipython",
    "version": 3
   },
   "file_extension": ".py",
   "mimetype": "text/x-python",
   "name": "python",
   "nbconvert_exporter": "python",
   "pygments_lexer": "ipython3",
   "version": "3.6.5"
  }
 },
 "nbformat": 4,
 "nbformat_minor": 5
}

{
 "cells": [
  {
   "cell_type": "code",
   "execution_count": 1,
   "id": "2e585444",
   "metadata": {},
   "outputs": [],
   "source": [
    "import subprocess\n",
    "from datetime import datetime\n",
    "from distutils.version import LooseVersion\n",
    "from functools import partial\n",
    "from pathlib import Path\n",
    "from pprint import pprint\n",
    "\n",
    "import dxdata\n",
    "import dxpy\n",
    "import hail as hl\n",
    "import pandas as pd\n",
    "import pyspark\n",
    "import tomli\n",
    "from matrixtables import *\n",
    "from utils import get_stats\n",
    "\n",
    "Path(\"../tmp\").resolve().mkdir(parents=True, exist_ok=True)"
   ]
  },
  {
   "cell_type": "code",
   "execution_count": 2,
   "id": "74ace642",
   "metadata": {},
   "outputs": [],
   "source": [
    "with open(\"../config.toml\", \"rb\") as f:\n",
    "    conf = tomli.load(f)\n",
    "\n",
    "# BASICS\n",
    "IMPORT = conf[\"IMPORT\"]\n",
    "NAME = conf[\"NAME\"]\n",
    "VCF_VERSION = IMPORT[\"VCF_VERSION\"]\n",
    "REFERENCE_GENOME = conf[\"REFERENCE_GENOME\"]\n",
    "DATABASE = IMPORT[\"DATABASE\"]\n",
    "\n",
    "\n",
    "LOG_FILE = (\n",
    "    Path(IMPORT[\"LOG_DIR\"], f\"{NAME}_{datetime.now().strftime('%H%M')}.log\")\n",
    "    .resolve()\n",
    "    .__str__()\n",
    ")\n",
    "\n",
    "FILTER_FILE = (\n",
    "    Path(conf[\"SAMPLE_QC\"][\"DATA_DIR\"], conf[\"SAMPLE_QC\"][\"SAMPLE_FILTER_FILE\"])\n",
    "    .resolve()\n",
    "    .__str__()\n",
    ")\n",
    "\n",
    "# GENES\n",
    "GENE_FILE = Path(IMPORT[\"GENE_FILE\"]).resolve().__str__()\n",
    "\n",
    "with open(GENE_FILE, \"r\") as file:\n",
    "    GENES = file.read().splitlines()\n",
    "    \n",
    "if NAME == \"NONE\":\n",
    "    NAME = GENES[0]\n",
    "\n",
    "# SAMPLE        \n",
    "MIN_CALL_RATE = conf[\"SAMPLE_QC\"][\"MIN_CALL_RATE\"]\n",
    "MIN_MEAN_DP = conf[\"SAMPLE_QC\"][\"MIN_MEAN_DP\"]\n",
    "MIN_MEAN_GQ = conf[\"SAMPLE_QC\"][\"MIN_MEAN_GQ\"]\n",
    "\n",
    "# VARIANT\n",
    "MIN_P_HWE = conf[\"VARIANT_QC\"][\"MIN_P_HWE\"]\n",
    "MIN_VAR_GQ = conf[\"VARIANT_QC\"][\"MIN_VAR_GQ\"]\n",
    "\n",
    "# GENOTYPE\n",
    "MIN_DP = conf[\"ENTRY_QC\"][\"MIN_DP\"]\n",
    "MIN_GQ = conf[\"ENTRY_QC\"][\"MIN_GQ\"]\n",
    "\n",
    "# EXPORT\n",
    "TMP_DIR = conf[\"EXPORT\"][\"TMP_DIR\"]\n",
    "\n",
    "BGEN_FILE = Path(TMP_DIR, f\"{NAME}\").resolve().__str__()\n",
    "ANNOTATIONS_FILE = Path(TMP_DIR, f\"{NAME}.annotations\").resolve().__str__()\n",
    "SETLIST_FILE = Path(TMP_DIR, f\"{NAME}.setlist\").resolve().__str__()\n"
   ]
  },
  {
   "cell_type": "code",
   "execution_count": 3,
   "id": "07947099",
   "metadata": {},
   "outputs": [
    {
     "name": "stderr",
     "output_type": "stream",
     "text": [
      "pip-installed Hail requires additional configuration options in Spark referring\n",
      "  to the path to the Hail Python module directory HAIL_DIR,\n",
      "  e.g. /path/to/python/site-packages/hail:\n",
      "    spark.jars=HAIL_DIR/hail-all-spark.jar\n",
      "    spark.driver.extraClassPath=HAIL_DIR/hail-all-spark.jar\n",
      "    spark.executor.extraClassPath=./hail-all-spark.jarRunning on Apache Spark version 2.4.4\n",
      "SparkUI available at http://ip-10-60-130-154.eu-west-2.compute.internal:8081\n",
      "Welcome to\n",
      "     __  __     <>__\n",
      "    / /_/ /__  __/ /\n",
      "   / __  / _ `/ / /\n",
      "  /_/ /_/\\_,_/_/_/   version 0.2.61-3c86d3ba497a\n",
      "LOGGING: writing to /opt/notebooks/gogoGPCR/hail_logs/NONE_1551.log\n"
     ]
    }
   ],
   "source": [
    "# Spark and Hail\n",
    "sc = pyspark.SparkContext()\n",
    "spark = pyspark.sql.SparkSession(sc)\n",
    "\n",
    "mt_database = dxpy.find_one_data_object(name=DATABASE)[\"id\"]\n",
    "hl.init(sc=sc, default_reference=REFERENCE_GENOME, log=LOG_FILE)"
   ]
  },
  {
   "cell_type": "code",
   "execution_count": 4,
   "id": "651b3d2b",
   "metadata": {},
   "outputs": [
    {
     "name": "stdout",
     "output_type": "stream",
     "text": [
      "'101 annotated variants found before QC'\n"
     ]
    }
   ],
   "source": [
    "STAGE = \"LABELLED\"\n",
    "READ_PATH = \"dnax://\" + mt_database + f\"/{NAME}.{STAGE}.mt\"\n",
    "\n",
    "mt = hl.read_matrix_table(READ_PATH)\n",
    "\n",
    "interesting = mt.filter_rows(\n",
    "    (hl.is_defined(mt.labels)) & (hl.agg.any(mt.GT.is_non_ref()))\n",
    ").count_rows()\n",
    "\n",
    "pprint(f\"{interesting} annotated variants found before QC\")"
   ]
  },
  {
   "cell_type": "code",
   "execution_count": 5,
   "id": "725d3b5c",
   "metadata": {},
   "outputs": [
    {
     "name": "stdout",
     "output_type": "stream",
     "text": [
      "'Samples remaining after removing withdrawn participants: 200611 '\n"
     ]
    }
   ],
   "source": [
    "# Withdrawn\n",
    "mt = mt.filter_cols(~mt.s.startswith(\"W\"))\n",
    "\n",
    "pprint(f\"Samples remaining after removing withdrawn participants: {mt.count_cols()} \")"
   ]
  },
  {
   "cell_type": "code",
   "execution_count": 6,
   "id": "d0f5235b",
   "metadata": {},
   "outputs": [
    {
     "name": "stderr",
     "output_type": "stream",
     "text": [
      "2021-11-30 15:52:16 Hail: INFO: Reading table without type imputation\n",
      "  Loading field 'eid' as type str (not specified)\n"
     ]
    },
    {
     "name": "stdout",
     "output_type": "stream",
     "text": [
      "'Samples remaining after hard filtering samples: 185834 '\n"
     ]
    }
   ],
   "source": [
    "# Filter samples\n",
    "samples_to_remove = hl.import_table(\"file:\" + FILTER_FILE, key=\"eid\")\n",
    "mt = mt.anti_join_cols(samples_to_remove)\n",
    "\n",
    "pprint(f\"Samples remaining after hard filtering samples: {mt.count_cols()} \")"
   ]
  },
  {
   "cell_type": "code",
   "execution_count": 7,
   "id": "3a2abe1a",
   "metadata": {},
   "outputs": [
    {
     "name": "stdout",
     "output_type": "stream",
     "text": [
      "'Samples remaining after QC: 180623 '\n"
     ]
    }
   ],
   "source": [
    "# Sample QC\n",
    "mt = sample_QC_mt(mt, MIN_CALL_RATE, MIN_MEAN_DP, MIN_MEAN_GQ)\n",
    "\n",
    "pprint(f\"Samples remaining after QC: {mt.count_cols()} \")"
   ]
  },
  {
   "cell_type": "code",
   "execution_count": 8,
   "id": "17f0583f",
   "metadata": {},
   "outputs": [
    {
     "name": "stdout",
     "output_type": "stream",
     "text": [
      "'287 variants remaining after QC of which 101 are annotated'\n"
     ]
    }
   ],
   "source": [
    "# Variant QC\n",
    "mt = variant_QC_mt(mt, MIN_P_HWE, MIN_VAR_GQ)\n",
    "\n",
    "interesting = mt.filter_rows(\n",
    "    (hl.is_defined(mt.labels)) & (hl.agg.any(mt.GT.is_non_ref()))\n",
    ").count_rows()\n",
    "\n",
    "pprint(\n",
    "    f\"{mt.count_rows()} variants remaining after QC of which {interesting} are annotated\"\n",
    ")"
   ]
  },
  {
   "cell_type": "code",
   "execution_count": 9,
   "id": "c2882c02",
   "metadata": {},
   "outputs": [
    {
     "name": "stdout",
     "output_type": "stream",
     "text": [
      "Filtering 0.00% entries out of downstream analysis.\n",
      "'0 missing or filtered entries after Call QC'\n"
     ]
    }
   ],
   "source": [
    "# Genotype GQ\n",
    "mt = genotype_filter_mt(mt, MIN_DP, MIN_GQ, True)\n",
    "\n",
    "missing = mt.aggregate_entries(hl.agg.sum(~hl.is_defined(mt.GT)))\n",
    "pprint(f\"{missing} missing or filtered entries after Call QC\")"
   ]
  },
  {
   "cell_type": "code",
   "execution_count": 10,
   "id": "d56d5408",
   "metadata": {},
   "outputs": [
    {
     "name": "stderr",
     "output_type": "stream",
     "text": [
      "2021-11-30 15:56:53 Hail: INFO: wrote matrix table with 287 rows and 180623 columns in 2 partitions to /tmp/DRD2.QC2.cp.mt\n",
      "    Total size: 277.98 MiB\n",
      "    * Rows/entries: 269.22 MiB\n",
      "    * Columns: 8.76 MiB\n",
      "    * Globals: 11.00 B\n",
      "    * Smallest partition: 0 rows (20.00 B)\n",
      "    * Largest partition:  287 rows (269.22 MiB)\n"
     ]
    }
   ],
   "source": [
    "# Checkpoint\n",
    "stage = \"QC2\"\n",
    "checkpoint_file = f\"/tmp/{NAME}.{stage}.cp.mt\"\n",
    "\n",
    "mt = mt.checkpoint(checkpoint_file, overwrite=True)"
   ]
  },
  {
   "cell_type": "code",
   "execution_count": 11,
   "id": "e028d64f",
   "metadata": {},
   "outputs": [
    {
     "name": "stderr",
     "output_type": "stream",
     "text": [
      "2021-11-30 15:57:17 Hail: INFO: while writing:\n",
      "    file:/opt/notebooks/gogoGPCR/tmp/DRD2.bgen\n",
      "  merge time: 44.882ms\n"
     ]
    }
   ],
   "source": [
    "# BGEN\n",
    "write_bgen(mt, \"file:\" + BGEN_FILE)"
   ]
  },
  {
   "cell_type": "code",
   "execution_count": 12,
   "id": "aee1a9ba",
   "metadata": {},
   "outputs": [
    {
     "name": "stderr",
     "output_type": "stream",
     "text": [
      "2021-11-30 15:57:17 Hail: INFO: Coerced sorted dataset\n",
      "2021-11-30 15:57:17 Hail: INFO: merging 1 files totalling 7.9K...\n",
      "2021-11-30 15:57:17 Hail: INFO: while writing:\n",
      "    file:/opt/notebooks/gogoGPCR/tmp/DRD2.annotations\n",
      "  merge time: 12.507ms\n"
     ]
    }
   ],
   "source": [
    "# ANNOTATIONS\n",
    "\n",
    "mt = add_varid(mt)\n",
    "\n",
    "annotations = (\n",
    "    mt.select_rows(\n",
    "        varid=mt.varid,\n",
    "        gene=mt.vep.transcript_consequences.gene_symbol[0],\n",
    "        annotation=mt.labels,\n",
    "    )\n",
    "    .rows()\n",
    "    .key_by(\"varid\")\n",
    "    .drop(\"locus\")\n",
    "    .drop(\"alleles\")\n",
    ")\n",
    "annotations.export(\"file:\" + ANNOTATIONS_FILE, header=False)"
   ]
  },
  {
   "cell_type": "code",
   "execution_count": 13,
   "id": "c8aeff58",
   "metadata": {},
   "outputs": [],
   "source": [
    "# SETLIST\n",
    "position = mt.aggregate_rows(hl.agg.min(mt.locus.position))\n",
    "names = mt.varid.collect()\n",
    "names_str = \",\".join(names)\n",
    "\n",
    "line = f\"{mt.vep.transcript_consequences.gene_symbol[0].collect()[0]}\\t{mt.locus.contig.collect()[0]}\\t{position}\\t{names_str}\"\n",
    "\n",
    "with open(SETLIST_FILE, \"w\") as f:\n",
    "    f.write(line)"
   ]
  },
  {
   "cell_type": "code",
   "execution_count": 14,
   "id": "532855a7",
   "metadata": {},
   "outputs": [
    {
     "data": {
      "text/plain": [
       "CompletedProcess(args=['dx', 'upload', '/opt/notebooks/gogoGPCR/tmp/DRD2.bgen', '/opt/notebooks/gogoGPCR/tmp/DRD2.sample', '/opt/notebooks/gogoGPCR/tmp/DRD2.annotations', '/opt/notebooks/gogoGPCR/tmp/DRD2.setlist', '--path', '/Data/burden/'], returncode=0)"
      ]
     },
     "execution_count": 14,
     "metadata": {},
     "output_type": "execute_result"
    }
   ],
   "source": [
    "bgen_file = BGEN_FILE + \".bgen\"\n",
    "sample_file = BGEN_FILE + \".sample\"\n",
    "\n",
    "subprocess.run([\"dx\", \"upload\", bgen_file, sample_file, ANNOTATIONS_FILE, SETLIST_FILE, \"--path\", \"/Data/burden/\"], check = True, shell = False)"
   ]
  },
  {
   "cell_type": "code",
   "execution_count": 15,
   "id": "267c920f",
   "metadata": {},
   "outputs": [
    {
     "name": "stderr",
     "output_type": "stream",
     "text": [
      "2021-11-30 15:59:25 Hail: INFO: wrote matrix table with 287 rows and 180623 columns in 2 partitions to dnax://database-G6XB998J860kZy4z59fBqPBV/DRD2.FINAL.mt\n",
      "    Total size: 167.48 MiB\n",
      "    * Rows/entries: 160.21 MiB\n",
      "    * Columns: 7.27 MiB\n",
      "    * Globals: 11.00 B\n",
      "    * Smallest partition: 0 rows (20.00 B)\n",
      "    * Largest partition:  287 rows (160.21 MiB)\n"
     ]
    }
   ],
   "source": [
    "STAGE = \"FINAL\"\n",
    "WRITE_PATH = \"dnax://\" + mt_database + f\"/{NAME}.{STAGE}.mt\"\n",
    "\n",
    "mt.write(WRITE_PATH, overwrite = True)"
   ]
  },
  {
   "cell_type": "code",
   "execution_count": 16,
   "id": "3f0967c5",
   "metadata": {},
   "outputs": [
    {
     "name": "stderr",
     "output_type": "stream",
     "text": [
      "2021-11-30 15:59:32 Hail: INFO: Ordering unsorted dataset with network shuffle\n"
     ]
    },
    {
     "data": {
      "text/html": [
       "<table><thead><tr><td style=\"white-space: nowrap; max-width: 500px; overflow: hidden; text-overflow: ellipsis; \" colspan=\"1\"><div style=\"text-align: left;\"></div></td><td style=\"white-space: nowrap; max-width: 500px; overflow: hidden; text-overflow: ellipsis; \" colspan=\"1\"><div style=\"text-align: left;\"></div></td><td style=\"white-space: nowrap; max-width: 500px; overflow: hidden; text-overflow: ellipsis; \" colspan=\"1\"><div style=\"text-align: left;\"></div></td></tr><tr><td style=\"white-space: nowrap; max-width: 500px; overflow: hidden; text-overflow: ellipsis; \" colspan=\"1\"><div style=\"text-align: left;border-bottom: solid 2px #000; padding-bottom: 5px\">labels</div></td><td style=\"white-space: nowrap; max-width: 500px; overflow: hidden; text-overflow: ellipsis; \" colspan=\"1\"><div style=\"text-align: left;border-bottom: solid 2px #000; padding-bottom: 5px\">n_carriers</div></td><td style=\"white-space: nowrap; max-width: 500px; overflow: hidden; text-overflow: ellipsis; \" colspan=\"1\"><div style=\"text-align: left;border-bottom: solid 2px #000; padding-bottom: 5px\">n_variants</div></td></tr><tr><td style=\"white-space: nowrap; max-width: 500px; overflow: hidden; text-overflow: ellipsis; text-align: left;\">str</td><td style=\"white-space: nowrap; max-width: 500px; overflow: hidden; text-overflow: ellipsis; text-align: left;\">int64</td><td style=\"white-space: nowrap; max-width: 500px; overflow: hidden; text-overflow: ellipsis; text-align: left;\">int64</td></tr>\n",
       "</thead><tbody><tr><td style=\"white-space: nowrap; max-width: 500px; overflow: hidden; text-overflow: ellipsis; \">&quot;Gi1&quot;</td><td style=\"white-space: nowrap; max-width: 500px; overflow: hidden; text-overflow: ellipsis; \">138</td><td style=\"white-space: nowrap; max-width: 500px; overflow: hidden; text-overflow: ellipsis; \">18</td></tr>\n",
       "<tr><td style=\"white-space: nowrap; max-width: 500px; overflow: hidden; text-overflow: ellipsis; \">&quot;Gi1_GoA_Gz&quot;</td><td style=\"white-space: nowrap; max-width: 500px; overflow: hidden; text-overflow: ellipsis; \">4</td><td style=\"white-space: nowrap; max-width: 500px; overflow: hidden; text-overflow: ellipsis; \">2</td></tr>\n",
       "<tr><td style=\"white-space: nowrap; max-width: 500px; overflow: hidden; text-overflow: ellipsis; \">&quot;Gi1_Gz&quot;</td><td style=\"white-space: nowrap; max-width: 500px; overflow: hidden; text-overflow: ellipsis; \">2</td><td style=\"white-space: nowrap; max-width: 500px; overflow: hidden; text-overflow: ellipsis; \">2</td></tr>\n",
       "<tr><td style=\"white-space: nowrap; max-width: 500px; overflow: hidden; text-overflow: ellipsis; \">&quot;Gz&quot;</td><td style=\"white-space: nowrap; max-width: 500px; overflow: hidden; text-overflow: ellipsis; \">6</td><td style=\"white-space: nowrap; max-width: 500px; overflow: hidden; text-overflow: ellipsis; \">1</td></tr>\n",
       "<tr><td style=\"white-space: nowrap; max-width: 500px; overflow: hidden; text-overflow: ellipsis; \">&quot;WT&quot;</td><td style=\"white-space: nowrap; max-width: 500px; overflow: hidden; text-overflow: ellipsis; \">9549</td><td style=\"white-space: nowrap; max-width: 500px; overflow: hidden; text-overflow: ellipsis; \">78</td></tr>\n",
       "</tbody></table>"
      ],
      "text/plain": [
       "+--------------+------------+------------+\n",
       "| labels       | n_carriers | n_variants |\n",
       "+--------------+------------+------------+\n",
       "| str          |      int64 |      int64 |\n",
       "+--------------+------------+------------+\n",
       "| \"Gi1\"        |        138 |         18 |\n",
       "| \"Gi1_GoA_Gz\" |          4 |          2 |\n",
       "| \"Gi1_Gz\"     |          2 |          2 |\n",
       "| \"Gz\"         |          6 |          1 |\n",
       "| \"WT\"         |       9549 |         78 |\n",
       "+--------------+------------+------------+"
      ]
     },
     "metadata": {},
     "output_type": "display_data"
    }
   ],
   "source": [
    "stats, intr = get_stats(mt)\n",
    "stats.show(-1)"
   ]
  },
  {
   "cell_type": "code",
   "execution_count": 17,
   "id": "2287c77d",
   "metadata": {},
   "outputs": [
    {
     "name": "stderr",
     "output_type": "stream",
     "text": [
      "2021-11-30 15:59:39 Hail: INFO: merging 2 files totalling 15.4K...\n",
      "2021-11-30 15:59:39 Hail: INFO: while writing:\n",
      "    /tmp/DRD2_QC2.tsv\n",
      "  merge time: 51.245ms\n"
     ]
    },
    {
     "data": {
      "text/plain": [
       "CompletedProcess(args=['hadoop', 'fs', '-get', '/tmp/DRD2_QC2.tsv', '../tmp/DRD2_QC2.tsv'], returncode=0)"
      ]
     },
     "execution_count": 17,
     "metadata": {},
     "output_type": "execute_result"
    }
   ],
   "source": [
    "intr.export(f\"/tmp/{NAME}_QC2.tsv\")\n",
    "\n",
    "subprocess.run(\n",
    "    [\"hadoop\", \"fs\", \"-get\", f\"/tmp/{NAME}_QC2.tsv\", f\"../tmp/{NAME}_QC2.tsv\"],\n",
    "    check=True,\n",
    "    shell=False,\n",
    ")"
   ]
  }
 ],
 "metadata": {
  "kernelspec": {
   "display_name": "Python 3",
   "language": "python",
   "name": "python3"
  },
  "language_info": {
   "codemirror_mode": {
    "name": "ipython",
    "version": 3
   },
   "file_extension": ".py",
   "mimetype": "text/x-python",
   "name": "python",
   "nbconvert_exporter": "python",
   "pygments_lexer": "ipython3",
   "version": "3.6.5"
  }
 },
 "nbformat": 4,
 "nbformat_minor": 5
}

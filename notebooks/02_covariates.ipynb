{
 "cells": [
  {
   "cell_type": "code",
   "execution_count": 1,
   "id": "ed15b78d",
   "metadata": {},
   "outputs": [],
   "source": [
    "import subprocess\n",
    "from distutils.version import LooseVersion\n",
    "\n",
    "import dxdata\n",
    "import dxpy\n",
    "import pyspark\n",
    "from pyspark.sql import functions as F\n",
    "from pyspark.sql.types import IntegerType"
   ]
  },
  {
   "cell_type": "code",
   "execution_count": 2,
   "id": "483ba7c5",
   "metadata": {},
   "outputs": [],
   "source": [
    "sc = pyspark.SparkContext()\n",
    "spark = pyspark.sql.SparkSession(sc)\n",
    "\n",
    "dispensed_database_name = dxpy.find_one_data_object(\n",
    "    classname=\"database\", name=\"app*\", folder=\"/\", name_mode=\"glob\", describe=True\n",
    ")[\"describe\"][\"name\"]\n",
    "dispensed_dataset_id = dxpy.find_one_data_object(\n",
    "    typename=\"Dataset\", name=\"app*.dataset\", folder=\"/\", name_mode=\"glob\"\n",
    ")[\"id\"]\n",
    "\n",
    "dataset = dxdata.load_dataset(id=dispensed_dataset_id)\n",
    "participant = dataset[\"participant\"]\n",
    "\n",
    "\n",
    "def fields_for_id(field_id):\n",
    "\n",
    "    field_id = str(field_id)\n",
    "    fields = participant.find_fields(\n",
    "        name_regex=r\"^p{}(_i\\d+)?(_a\\d+)?$\".format(field_id)\n",
    "    )\n",
    "\n",
    "    return sorted(fields, key=lambda f: LooseVersion(f.name))"
   ]
  },
  {
   "cell_type": "code",
   "execution_count": 3,
   "id": "7e23a10e",
   "metadata": {},
   "outputs": [],
   "source": [
    "fields = [\n",
    "    \"21022\",\n",
    "    \"22001\",\n",
    "    \"22009\",\n",
    "]\n",
    "field_names = [fields_for_id(id) for id in fields]\n",
    "field_names = [\"eid\"] + [field.name for fields in field_names for field in fields]\n",
    "\n",
    "pcs = {f\"p22009_a{i}\": f\"PC{i}\" for i in range(1, 21)}\n",
    "covs = [\"FID\", \"IID\", \"SEX\", \"AGE\", \"AGE2\", \"AGESEX\", \"AGE2SEX\"] + list(pcs.values())"
   ]
  },
  {
   "cell_type": "code",
   "execution_count": 5,
   "id": "f8180dbf",
   "metadata": {},
   "outputs": [
    {
     "name": "stderr",
     "output_type": "stream",
     "text": [
      "[dxdata.dataset.dataset] WARNING: Dataframe schema name(s): ['participant_0001$eid', 'participant_0042$p21022', 'participant_0043$p22001', 'participant_0043$p22009_a1', 'participant_0043$p22009_a2', 'participant_0043$p22009_a3', 'participant_0043$p22009_a4', 'participant_0043$p22009_a5', 'participant_0043$p22009_a6', 'participant_0043$p22009_a7', 'participant_0043$p22009_a8', 'participant_0043$p22009_a9', 'participant_0043$p22009_a10', 'participant_0043$p22009_a11', 'participant_0043$p22009_a12', 'participant_0043$p22009_a13', 'participant_0043$p22009_a14', 'participant_0043$p22009_a15', 'participant_0043$p22009_a16', 'participant_0043$p22009_a17', 'participant_0043$p22009_a18', 'participant_0043$p22009_a19', 'participant_0043$p22009_a20', 'participant_0043$p22009_a21', 'participant_0043$p22009_a22', 'participant_0043$p22009_a23', 'participant_0043$p22009_a24', 'participant_0043$p22009_a25', 'participant_0043$p22009_a26', 'participant_0043$p22009_a27', 'participant_0043$p22009_a28', 'participant_0043$p22009_a29', 'participant_0043$p22009_a30', 'participant_0043$p22009_a31', 'participant_0043$p22009_a32', 'participant_0043$p22009_a33', 'participant_0043$p22009_a34', 'participant_0043$p22009_a35', 'participant_0043$p22009_a36', 'participant_0043$p22009_a37', 'participant_0043$p22009_a38', 'participant_0043$p22009_a39', 'participant_0043$p22009_a40'] not found in ordered columns: ['participant$eid', 'participant$p21022', 'participant$p22001', 'participant$p22009_a1', 'participant$p22009_a2', 'participant$p22009_a3', 'participant$p22009_a4', 'participant$p22009_a5', 'participant$p22009_a6', 'participant$p22009_a7', 'participant$p22009_a8', 'participant$p22009_a9', 'participant$p22009_a10', 'participant$p22009_a11', 'participant$p22009_a12', 'participant$p22009_a13', 'participant$p22009_a14', 'participant$p22009_a15', 'participant$p22009_a16', 'participant$p22009_a17', 'participant$p22009_a18', 'participant$p22009_a19', 'participant$p22009_a20', 'participant$p22009_a21', 'participant$p22009_a22', 'participant$p22009_a23', 'participant$p22009_a24', 'participant$p22009_a25', 'participant$p22009_a26', 'participant$p22009_a27', 'participant$p22009_a28', 'participant$p22009_a29', 'participant$p22009_a30', 'participant$p22009_a31', 'participant$p22009_a32', 'participant$p22009_a33', 'participant$p22009_a34', 'participant$p22009_a35', 'participant$p22009_a36', 'participant$p22009_a37', 'participant$p22009_a38', 'participant$p22009_a39', 'participant$p22009_a40']\n"
     ]
    },
    {
     "name": "stdout",
     "output_type": "stream",
     "text": [
      "+-------+-------+---+---+----+------+-------+--------+-------+--------+--------+---------+---------+---------+---------+---------+----------+--------+---------+---------+---------+---------+---------+---------+----------+-------+----------+\n",
      "|FID    |IID    |SEX|AGE|AGE2|AGESEX|AGE2SEX|PC1     |PC2    |PC3     |PC4     |PC5      |PC6      |PC7      |PC8      |PC9      |PC10      |PC11    |PC12     |PC13     |PC14     |PC15     |PC16     |PC17     |PC18      |PC19   |PC20      |\n",
      "+-------+-------+---+---+----+------+-------+--------+-------+--------+--------+---------+---------+---------+---------+---------+----------+--------+---------+---------+---------+---------+---------+---------+----------+-------+----------+\n",
      "|1000146|1000146|0  |52 |2704|0     |0      |-12.417 |6.75787|-4.42069|0.749104|-1.30339 |0.0162366|1.29456  |-1.45318 |-2.0664  |-2.42804  |-2.04608|-0.119549|-0.705609|-1.9216  |1.42809  |3.75853  |0.0576762|-0.0193767|1.18116|-1.58071  |\n",
      "|1000181|1000181|0  |62 |3844|0     |0      |-13.4575|3.1192 |-3.80769|0.058633|1.65784  |-3.14993 |1.18964  |0.404512 |-0.392535|-1.66457  |-5.22365|0.331025 |3.12406  |-1.8549  |-0.890671|-2.07628 |0.792801 |0.874319  |9.47393|-0.0801367|\n",
      "|1000215|1000215|0  |45 |2025|0     |0      |-15.3248|6.00963|-4.31467|7.57902 |15.3852  |-0.782605|-0.689497|-0.657491|-0.795902|-2.82219  |2.94301 |-1.2757  |-0.510151|-3.2192  |-0.748521|0.831899 |1.4605   |0.693367  |0.40339|1.04323   |\n",
      "|1000247|1000247|1  |49 |2401|49    |2401   |202.635 |19.7284|19.6342 |-54.7306|5.12362  |0.310751 |43.8123  |12.8453  |5.62651  |-32.9357  |43.7822 |48.5137  |7.93998  |-0.930852|20.6995  |-5.8188  |4.20681  |0.161029  |1.17419|-2.37085  |\n",
      "|1000264|1000264|1  |68 |4624|68    |4624   |-11.5464|5.72482|-4.81056|0.535728|-0.144139|-0.531632|2.2467   |-1.28573 |6.98326  |-0.0200634|-7.07742|2.43141  |-0.279745|6.32972  |4.11734  |-0.394639|2.11858  |6.46684   |-2.096 |3.15419   |\n",
      "+-------+-------+---+---+----+------+-------+--------+-------+--------+--------+---------+---------+---------+---------+---------+----------+--------+---------+---------+---------+---------+---------+---------+----------+-------+----------+\n",
      "only showing top 5 rows\n",
      "\n"
     ]
    }
   ],
   "source": [
    "df = participant.retrieve_fields(\n",
    "    names=field_names, engine=dxdata.connect(), coding_values=\"raw\"\n",
    ")\n",
    "\n",
    "df = df.na.drop(how=\"any\")\n",
    "\n",
    "df = (\n",
    "    df.select([F.col(c).alias(pcs.get(c, c)) for c in df.columns])\n",
    "    .withColumn(\"FID\", F.col(\"eid\"))\n",
    "    .withColumn(\"IID\", F.col(\"eid\"))\n",
    "    .withColumn(\"SEX\", F.col(\"p22001\").cast(IntegerType()))\n",
    "    .withColumn(\"AGE\", F.col(\"p21022\").cast(IntegerType()))\n",
    "    .withColumn(\"AGE2\", (F.col(\"p21022\") ** 2).cast(IntegerType()))\n",
    "    .withColumn(\"AGESEX\", (F.col(\"p21022\") * F.col(\"p22001\")).cast(IntegerType()))\n",
    "    .withColumn(\n",
    "        \"AGE2SEX\", ((F.col(\"p21022\") ** 2) * F.col(\"p22001\")).cast(IntegerType())\n",
    "    )\n",
    "    .select(*covs)\n",
    ")\n",
    "\n",
    "df.show(5, truncate=False)"
   ]
  },
  {
   "cell_type": "code",
   "execution_count": 7,
   "id": "39e18bff",
   "metadata": {},
   "outputs": [],
   "source": [
    "df.coalesce(1).write.csv(\n",
    "    \"/tmp/covariates.tsv\",\n",
    "    sep=\"\\t\",\n",
    "    header=True,\n",
    ")"
   ]
  },
  {
   "cell_type": "code",
   "execution_count": 8,
   "id": "5a3a2a14",
   "metadata": {},
   "outputs": [
    {
     "data": {
      "text/plain": [
       "CompletedProcess(args=['dx', 'upload', '../tmp/covariates.tsv', '--path', '/Data/phenotypes/'], returncode=0)"
      ]
     },
     "execution_count": 8,
     "metadata": {},
     "output_type": "execute_result"
    }
   ],
   "source": [
    "subprocess.run(\n",
    "    [\"hadoop\", \"fs\", \"-getmerge\", \"/tmp/covariates.tsv\", \"../tmp/covariates.tsv\"],\n",
    "    check=True,\n",
    "    shell=False,\n",
    ")\n",
    "subprocess.run(\n",
    "    [\"dx\", \"upload\", \"../tmp/covariates.tsv\", \"--path\", \"/Data/phenotypes/\"],\n",
    "    check=True,\n",
    "    shell=False,\n",
    ")"
   ]
  },
  {
   "cell_type": "code",
   "execution_count": null,
   "id": "64b884a4",
   "metadata": {},
   "outputs": [],
   "source": []
  }
 ],
 "metadata": {
  "jupytext": {
   "formats": "ipynb,py:percent"
  },
  "kernelspec": {
   "display_name": "Python 3",
   "language": "python",
   "name": "python3"
  },
  "language_info": {
   "codemirror_mode": {
    "name": "ipython",
    "version": 3
   },
   "file_extension": ".py",
   "mimetype": "text/x-python",
   "name": "python",
   "nbconvert_exporter": "python",
   "pygments_lexer": "ipython3",
   "version": "3.6.5"
  }
 },
 "nbformat": 4,
 "nbformat_minor": 5
}

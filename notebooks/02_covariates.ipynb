{
 "cells": [
  {
   "cell_type": "code",
   "execution_count": null,
   "id": "5b64400e",
   "metadata": {},
   "outputs": [],
   "source": [
    "import subprocess\n",
    "from distutils.version import LooseVersion\n",
    "\n",
    "import dxdata\n",
    "import dxpy\n",
    "import pyspark\n",
    "from pyspark.sql import functions as F\n",
    "from pyspark.sql.types import IntegerType"
   ]
  },
  {
   "cell_type": "code",
   "execution_count": null,
   "id": "99684213",
   "metadata": {},
   "outputs": [],
   "source": [
    "sc = pyspark.SparkContext()\n",
    "spark = pyspark.sql.SparkSession(sc)\n",
    "\n",
    "dispensed_database_name = dxpy.find_one_data_object(\n",
    "    classname=\"database\", name=\"app*\", folder=\"/\", name_mode=\"glob\", describe=True\n",
    ")[\"describe\"][\"name\"]\n",
    "dispensed_dataset_id = dxpy.find_one_data_object(\n",
    "    typename=\"Dataset\", name=\"app*.dataset\", folder=\"/\", name_mode=\"glob\"\n",
    ")[\"id\"]\n",
    "\n",
    "dataset = dxdata.load_dataset(id=dispensed_dataset_id)\n",
    "participant = dataset[\"participant\"]\n",
    "\n",
    "\n",
    "def fields_for_id(field_id):\n",
    "\n",
    "    field_id = str(field_id)\n",
    "    fields = participant.find_fields(\n",
    "        name_regex=r\"^p{}(_i\\d+)?(_a\\d+)?$\".format(field_id)\n",
    "    )\n",
    "\n",
    "    return sorted(fields, key=lambda f: LooseVersion(f.name))"
   ]
  },
  {
   "cell_type": "code",
   "execution_count": null,
   "id": "42df8292",
   "metadata": {},
   "outputs": [],
   "source": [
    "fields = [\n",
    "    \"21022\",\n",
    "    \"22001\",\n",
    "    \"22009\",\n",
    "]\n",
    "field_names = [fields_for_id(id) for id in fields]\n",
    "field_names = [\"eid\"] + [field.name for fields in field_names for field in fields]\n",
    "\n",
    "pcs = {f\"p22009_a{i}\": f\"PC{i}\" for i in range(1, 21)}\n",
    "covs = [\"FID\", \"IID\", \"AGE\", \"AGE2\", \"AGESEX\", \"AGE2SEX\"] + list(pcs.values())"
   ]
  },
  {
   "cell_type": "code",
   "execution_count": null,
   "id": "2c72fa42",
   "metadata": {},
   "outputs": [],
   "source": [
    "df = participant.retrieve_fields(\n",
    "    names=field_names, engine=dxdata.connect(), coding_values=\"raw\"\n",
    ")\n",
    "\n",
    "df = df.na.drop(how=\"any\")\n",
    "\n",
    "df = (\n",
    "    df.select([F.col(c).alias(pcs.get(c, c)) for c in df.columns])\n",
    "    .withColumn(\"FID\", F.col(\"eid\"))\n",
    "    .withColumn(\"IID\", F.col(\"eid\"))\n",
    "    .withColumn(\"AGE\", F.col(\"p21022\").cast(IntegerType()))\n",
    "    .withColumn(\"AGE2\", (F.col(\"p21022\") ** 2).cast(IntegerType()))\n",
    "    .withColumn(\"AGESEX\", (F.col(\"p21022\") * F.col(\"p22001\")).cast(IntegerType()))\n",
    "    .withColumn(\n",
    "        \"AGE2SEX\", ((F.col(\"p21022\") ** 2) * F.col(\"p22001\")).cast(IntegerType())\n",
    "    )\n",
    "    .select(*covs)\n",
    ")\n",
    "\n",
    "df.show(5, truncate=False)"
   ]
  },
  {
   "cell_type": "code",
   "execution_count": null,
   "id": "614e564b",
   "metadata": {},
   "outputs": [],
   "source": [
    "df.coalesce(1).write.csv(\n",
    "    \"/tmp/covariates.tsv\",\n",
    "    sep=\"\\t\",\n",
    "    header=True,\n",
    ")"
   ]
  },
  {
   "cell_type": "code",
   "execution_count": null,
   "id": "2e4bcb06",
   "metadata": {},
   "outputs": [],
   "source": [
    "subprocess.run(\n",
    "    [\"hadoop\", \"fs\", \"-getmerge\", \"/tmp/covariates.tsv\", \"../tmp/covariates.tsv\"],\n",
    "    check=True,\n",
    "    shell=False,\n",
    ")\n",
    "subprocess.run(\n",
    "    [\"dx\", \"upload\", \"../tmp/covariates.tsv\", \"--path\", \"/Data/phenotypes/\"],\n",
    "    check=True,\n",
    "    shell=False,\n",
    ")"
   ]
  }
 ],
 "metadata": {
  "jupytext": {
   "formats": "ipynb,py:percent"
  },
  "kernelspec": {
   "display_name": "Python 3",
   "language": "python",
   "name": "python3"
  }
 },
 "nbformat": 4,
 "nbformat_minor": 5
}

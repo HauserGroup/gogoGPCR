{
 "cells": [
  {
   "cell_type": "code",
   "execution_count": 1,
   "id": "113b115c",
   "metadata": {},
   "outputs": [],
   "source": [
    "import re\n",
    "import subprocess\n",
    "\n",
    "import dxdata\n",
    "import dxpy\n",
    "import pandas as pd\n",
    "import pyspark\n",
    "\n",
    "from pyspark.sql import functions as F\n",
    "from pyspark.conf import SparkConf\n",
    "from pyspark.sql.types import StringType\n",
    "\n",
    "from pathlib import Path\n",
    "\n",
    "Path(\"../tmp\").resolve().mkdir(parents=True, exist_ok=True)"
   ]
  },
  {
   "cell_type": "code",
   "execution_count": 2,
   "id": "c04e8657",
   "metadata": {},
   "outputs": [],
   "source": [
    "conf = SparkConf()\n",
    "conf.set(\"autoBroadcastJoinThreshold\", -1)\n",
    "\n",
    "sc = pyspark.SparkContext()\n",
    "spark = pyspark.sql.SparkSession(sc)\n",
    "\n",
    "dispensed_database_name = dxpy.find_one_data_object(\n",
    "    classname=\"database\", name=\"app*\", folder=\"/\", name_mode=\"glob\", describe=True\n",
    ")[\"describe\"][\"name\"]\n",
    "dispensed_dataset_id = dxpy.find_one_data_object(\n",
    "    typename=\"Dataset\", name=\"app*.dataset\", folder=\"/\", name_mode=\"glob\"\n",
    ")[\"id\"]\n",
    "\n",
    "spark.sql(\"USE \" + dispensed_database_name)\n",
    "\n",
    "dataset = dxdata.load_dataset(id=dispensed_dataset_id)\n",
    "participant = dataset[\"participant\"]\n",
    "\n",
    "\n",
    "def get_columns_to_keep(df, threshold=200) -> list:\n",
    "    \"\"\"\n",
    "    This function drops all columns which contain more null values than threshold\n",
    "    :param df: A PySpark DataFrame\n",
    "    \"\"\"\n",
    "    null_counts = (\n",
    "        df.select([F.count(F.when(~F.col(c).isNull(), c)).alias(c) for c in df.columns])\n",
    "        .collect()[0]\n",
    "        .asDict()\n",
    "    )\n",
    "    to_keep = [k for k, v in null_counts.items() if v > threshold]\n",
    "    # df = df.select(*to_keep)\n",
    "\n",
    "    return to_keep\n",
    "\n",
    "\n",
    "def new_names(s: str) -> str:\n",
    "    \"\"\"\n",
    "    Fixes a column header for PHESANT use\n",
    "    \"\"\"\n",
    "    s = s.replace(\"p\", \"x\").replace(\"i\", \"\")\n",
    "\n",
    "    if bool(re.search(\"_\\d$\", s)):\n",
    "        s += \"_0\"\n",
    "    else:\n",
    "        s += \"_0_0\"\n",
    "    return s"
   ]
  },
  {
   "cell_type": "code",
   "execution_count": 9,
   "id": "abce3633",
   "metadata": {},
   "outputs": [
    {
     "name": "stderr",
     "output_type": "stream",
     "text": [
      "[dxdata.dataset.dataset] WARNING: Dataframe schema name(s): ['participant_0001$eid', 'participant_0001$p31', 'participant_0042$p21022', 'participant_0085$p130836', 'participant_0085$p130838', 'participant_0085$p130840', 'participant_0085$p130842', 'participant_0085$p130844', 'participant_0085$p130846', 'participant_0085$p130848', 'participant_0085$p130850', 'participant_0086$p130852', 'participant_0086$p130854', 'participant_0086$p130856', 'participant_0086$p130858', 'participant_0086$p130860', 'participant_0086$p130862', 'participant_0086$p130864', 'participant_0086$p130866', 'participant_0086$p130868', 'participant_0086$p130870', 'participant_0086$p130872', 'participant_0086$p130874', 'participant_0086$p130876', 'participant_0086$p130878', 'participant_0086$p130880', 'participant_0086$p130882', 'participant_0086$p130884', 'participant_0086$p130886', 'participant_0086$p130888', 'participant_0086$p130890', 'participant_0086$p130892', 'participant_0086$p130894', 'participant_0086$p130896', 'participant_0086$p130898', 'participant_0086$p130900', 'participant_0086$p130902', 'participant_0086$p130904', 'participant_0086$p130906', 'participant_0086$p130908', 'participant_0086$p130910', 'participant_0086$p130912', 'participant_0086$p130914', 'participant_0086$p130916', 'participant_0086$p130918', 'participant_0086$p130920', 'participant_0086$p130922', 'participant_0086$p130924', 'participant_0086$p130926', 'participant_0086$p130928', 'participant_0086$p130930', 'participant_0086$p130932', 'participant_0086$p130934', 'participant_0086$p130936', 'participant_0086$p130938', 'participant_0086$p130940', 'participant_0086$p130942', 'participant_0086$p130944', 'participant_0086$p130946', 'participant_0086$p130948', 'participant_0086$p130950', 'participant_0086$p130952', 'participant_0086$p130954', 'participant_0086$p130958', 'participant_0086$p130960', 'participant_0086$p130962', 'participant_0086$p130964', 'participant_0086$p130966', 'participant_0086$p130970', 'participant_0086$p130972', 'participant_0086$p130974', 'participant_0086$p130976', 'participant_0086$p130978', 'participant_0086$p130980', 'participant_0086$p130982', 'participant_0086$p130984', 'participant_0086$p130986', 'participant_0086$p130988', 'participant_0086$p130990', 'participant_0005$p2090_i0', 'participant_0005$p2090_i1', 'participant_0005$p2090_i2', 'participant_0005$p2090_i3', 'participant_0005$p2100_i0', 'participant_0005$p2100_i1', 'participant_0005$p2100_i2', 'participant_0005$p2100_i3', 'participant_0037$p20126_i0'] not found in ordered columns: ['participant$eid', 'participant$p31', 'participant$p21022', 'participant$p130836', 'participant$p130838', 'participant$p130840', 'participant$p130842', 'participant$p130844', 'participant$p130846', 'participant$p130848', 'participant$p130850', 'participant$p130852', 'participant$p130854', 'participant$p130856', 'participant$p130858', 'participant$p130860', 'participant$p130862', 'participant$p130864', 'participant$p130866', 'participant$p130868', 'participant$p130870', 'participant$p130872', 'participant$p130874', 'participant$p130876', 'participant$p130878', 'participant$p130880', 'participant$p130882', 'participant$p130884', 'participant$p130886', 'participant$p130888', 'participant$p130890', 'participant$p130892', 'participant$p130894', 'participant$p130896', 'participant$p130898', 'participant$p130900', 'participant$p130902', 'participant$p130904', 'participant$p130906', 'participant$p130908', 'participant$p130910', 'participant$p130912', 'participant$p130914', 'participant$p130916', 'participant$p130918', 'participant$p130920', 'participant$p130922', 'participant$p130924', 'participant$p130926', 'participant$p130928', 'participant$p130930', 'participant$p130932', 'participant$p130934', 'participant$p130936', 'participant$p130938', 'participant$p130940', 'participant$p130942', 'participant$p130944', 'participant$p130946', 'participant$p130948', 'participant$p130950', 'participant$p130952', 'participant$p130954', 'participant$p130958', 'participant$p130960', 'participant$p130962', 'participant$p130964', 'participant$p130966', 'participant$p130970', 'participant$p130972', 'participant$p130974', 'participant$p130976', 'participant$p130978', 'participant$p130980', 'participant$p130982', 'participant$p130984', 'participant$p130986', 'participant$p130988', 'participant$p130990', 'participant$p2090_i0', 'participant$p2090_i1', 'participant$p2090_i2', 'participant$p2090_i3', 'participant$p2100_i0', 'participant$p2100_i1', 'participant$p2100_i2', 'participant$p2100_i3', 'participant$p20126_i0']\n"
     ]
    }
   ],
   "source": [
    "first_occurences = list(\n",
    "    participant.find_fields(\n",
    "        lambda f: bool(re.match(\"^Date [F]\\d{2} first reported\", f.title))\n",
    "    )\n",
    ")\n",
    "\n",
    "age_sex = \"|\".join([\"31\", \"21022\"])\n",
    "age_sex_fields = list(\n",
    "    participant.find_fields(lambda f: bool(re.match(f\"^p({age_sex})$\", f.name)))\n",
    ")\n",
    "\n",
    "psych = \"|\".join(\n",
    "    [\n",
    "        \"2090\",\n",
    "        \"2100\",\n",
    "        \"20126\",\n",
    "    ]\n",
    ")\n",
    "\n",
    "psych_fields = list(\n",
    "    participant.find_fields(lambda f: bool(re.match(f\"^p({psych})\\D\", f.name)))\n",
    ")\n",
    "\n",
    "field_names = (\n",
    "    [\"eid\"]\n",
    "    + [f.name for f in age_sex_fields]\n",
    "    + [f.name for f in first_occurences]\n",
    "    + [f.name for f in psych_fields]\n",
    ")\n",
    "df = participant.retrieve_fields(names=field_names, engine=dxdata.connect())"
   ]
  },
  {
   "cell_type": "code",
   "execution_count": 10,
   "id": "9e3a39e4",
   "metadata": {},
   "outputs": [
    {
     "name": "stdout",
     "output_type": "stream",
     "text": [
      "Number of columns: 88\n",
      "Number of columns with at least 500 cases: 39\n"
     ]
    }
   ],
   "source": [
    "min_cases = 500\n",
    "\n",
    "print(f\"Number of columns: {len(df.columns)}\")\n",
    "to_keep = get_columns_to_keep(df, min_cases)\n",
    "\n",
    "#to_keep.insert(1, to_keep[11])\n",
    "#to_keep.insert(2, to_keep[11])\n",
    "#to_keep.pop(12)\n",
    "#to_keep.pop(12)\n",
    "\n",
    "df = df.select(*to_keep)\n",
    "\n",
    "print(f\"Number of columns with at least {min_cases} cases: {len(df.columns)}\")"
   ]
  },
  {
   "cell_type": "code",
   "execution_count": 11,
   "id": "821644ac",
   "metadata": {},
   "outputs": [
    {
     "name": "stdout",
     "output_type": "stream",
     "text": [
      "['xeid', 'x31_0_0', 'x21022_0_0', 'x130836_0_0', 'x130838_0_0', 'x130840_0_0', 'x130842_0_0', 'x130846_0_0', 'x130848_0_0', 'x130852_0_0']\n"
     ]
    }
   ],
   "source": [
    "colnames = ['xeid'] + [new_names(s) for s in df.columns[1:]]\n",
    "\n",
    "print(colnames[:10])"
   ]
  },
  {
   "cell_type": "code",
   "execution_count": 12,
   "id": "fc917ca6",
   "metadata": {},
   "outputs": [],
   "source": [
    "df = df.toDF(*colnames)"
   ]
  },
  {
   "cell_type": "code",
   "execution_count": 14,
   "id": "fea7130b",
   "metadata": {},
   "outputs": [],
   "source": [
    "df = df.drop(\n",
    "    'x130836_0_0', 'x130838_0_0', 'x130842_0_0'\n",
    ")  # these do not converge during Firth correction"
   ]
  },
  {
   "cell_type": "code",
   "execution_count": 19,
   "id": "bbbddfba",
   "metadata": {},
   "outputs": [],
   "source": [
    "df.write.csv(\"/tmp/phenos.tsv\", sep=\"\\t\", header=True, emptyValue='NA')"
   ]
  },
  {
   "cell_type": "code",
   "execution_count": 20,
   "id": "23d15768",
   "metadata": {},
   "outputs": [
    {
     "data": {
      "text/plain": [
       "CompletedProcess(args=['hadoop', 'fs', '-get', '/tmp/phenos.tsv', '../tmp/phenos.tsv'], returncode=0)"
      ]
     },
     "execution_count": 20,
     "metadata": {},
     "output_type": "execute_result"
    }
   ],
   "source": [
    "subprocess.run(\n",
    "    [\"hadoop\", \"fs\", \"-rm\", \"/tmp/phenos.tsv/_SUCCESS\"], check=True, shell=False\n",
    ")\n",
    "subprocess.run(\n",
    "    [\"hadoop\", \"fs\", \"-get\", \"/tmp/phenos.tsv\", \"../tmp/phenos.tsv\"],\n",
    "    check=True,\n",
    "    shell=False,\n",
    ")"
   ]
  },
  {
   "cell_type": "code",
   "execution_count": 21,
   "id": "7b0ab897",
   "metadata": {},
   "outputs": [],
   "source": [
    "!sed -e '3,${/^xeid/d' -e '}' ../tmp/phenos.tsv/part* > ../tmp/psychiatric.raw.tsv\n",
    "#!sed -i 's|\"\"|NA|g' ../tmp/psychiatric.raw.csv"
   ]
  },
  {
   "cell_type": "code",
   "execution_count": 22,
   "id": "ac67b458",
   "metadata": {},
   "outputs": [
    {
     "data": {
      "text/plain": [
       "CompletedProcess(args=['dx', 'upload', '../tmp/psychiatric.raw.tsv', '--path', 'Data/phenotypes/'], returncode=0)"
      ]
     },
     "execution_count": 22,
     "metadata": {},
     "output_type": "execute_result"
    }
   ],
   "source": [
    "# Upload to project\n",
    "\n",
    "subprocess.run(\n",
    "    [\"dx\", \"upload\", \"../tmp/psychiatric.raw.tsv\", \"--path\", \"Data/phenotypes/\"],\n",
    "    check=True,\n",
    "    shell=False,\n",
    ")"
   ]
  },
  {
   "cell_type": "code",
   "execution_count": null,
   "id": "b1c61922",
   "metadata": {},
   "outputs": [],
   "source": []
  }
 ],
 "metadata": {
  "jupytext": {
   "formats": "ipynb,py:percent"
  },
  "kernelspec": {
   "display_name": "Python 3",
   "language": "python",
   "name": "python3"
  },
  "language_info": {
   "codemirror_mode": {
    "name": "ipython",
    "version": 3
   },
   "file_extension": ".py",
   "mimetype": "text/x-python",
   "name": "python",
   "nbconvert_exporter": "python",
   "pygments_lexer": "ipython3",
   "version": "3.6.5"
  }
 },
 "nbformat": 4,
 "nbformat_minor": 5
}

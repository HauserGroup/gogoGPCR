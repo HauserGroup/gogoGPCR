{
 "cells": [
  {
   "cell_type": "code",
   "execution_count": 1,
   "id": "9e9edc67",
   "metadata": {},
   "outputs": [],
   "source": [
    "import pandas as pd\n",
    "import subprocess"
   ]
  },
  {
   "cell_type": "code",
   "execution_count": 7,
   "id": "03d5a2f8",
   "metadata": {},
   "outputs": [],
   "source": [
    "PHENOTYPE=\"metabolic\"\n",
    "TRAIT=\"BT\""
   ]
  },
  {
   "cell_type": "code",
   "execution_count": 8,
   "id": "5515d025",
   "metadata": {},
   "outputs": [
    {
     "name": "stdout",
     "output_type": "stream",
     "text": [
      "130706\n",
      "0    497365\n",
      "1      5077\n",
      "Name: 130706, dtype: int64\n",
      "\n",
      "130708\n",
      "0    460366\n",
      "1     42076\n",
      "Name: 130708, dtype: int64\n",
      "\n",
      "130792\n",
      "0    456258\n",
      "1     46184\n",
      "Name: 130792, dtype: int64\n",
      "\n",
      "2443\n",
      "0    473428\n",
      "1     26398\n",
      "Name: 2443, dtype: int64\n",
      "\n"
     ]
    }
   ],
   "source": [
    "if TRAIT == \"BT\":\n",
    "    file = f\"/mnt/project/Data/phenotypes/{PHENOTYPE}.{TRAIT}.phesant/{PHENOTYPE}.phesantdata-binary-all.txt\"\n",
    "    \n",
    "    df = pd.read_csv(file, sep=\",\", index_col=\"userID\")\n",
    "    \n",
    "    df.columns = [s.replace(\"#\", \"_\") for s in df.columns]\n",
    "    \n",
    "    for col in df.columns:\n",
    "        \n",
    "        assert df.loc[:, col].nunique() == 2, \"Uh oh, column is not binary\"\n",
    "        \n",
    "        df.loc[:, col] = df.loc[:, col].astype(\"Int64\")\n",
    "        \n",
    "        print(col, \"\\n\",df.loc[:, col].value_counts(), \"\\n\", sep = \"\")\n",
    "\n",
    "if TRAIT == \"QT\":\n",
    "    file = f\"/mnt/project/Data/phenotypes/{PHENOTYPE}.{TRAIT}.phesant/{PHENOTYPE}.phesantdata-cont-all.txt\"\n",
    "    \n",
    "    df = pd.read_csv(file, sep=\",\", index_col=\"userID\")\n",
    "    \n",
    "    df.columns = [s.replace(\"#\", \"_\") for s in df.columns]\n",
    "    \n",
    "    for col in df.columns:\n",
    "        print(df.loc[:, col].describe())\n",
    "\n",
    "df.insert(0, \"FID\", df.index)\n",
    "df.insert(1, \"IID\", df.index)"
   ]
  },
  {
   "cell_type": "code",
   "execution_count": 9,
   "id": "910a985c",
   "metadata": {},
   "outputs": [
    {
     "data": {
      "text/html": [
       "<div>\n",
       "<style scoped>\n",
       "    .dataframe tbody tr th:only-of-type {\n",
       "        vertical-align: middle;\n",
       "    }\n",
       "\n",
       "    .dataframe tbody tr th {\n",
       "        vertical-align: top;\n",
       "    }\n",
       "\n",
       "    .dataframe thead th {\n",
       "        text-align: right;\n",
       "    }\n",
       "</style>\n",
       "<table border=\"1\" class=\"dataframe\">\n",
       "  <thead>\n",
       "    <tr style=\"text-align: right;\">\n",
       "      <th></th>\n",
       "      <th>FID</th>\n",
       "      <th>IID</th>\n",
       "      <th>130706</th>\n",
       "      <th>130708</th>\n",
       "      <th>130792</th>\n",
       "      <th>2443</th>\n",
       "    </tr>\n",
       "    <tr>\n",
       "      <th>userID</th>\n",
       "      <th></th>\n",
       "      <th></th>\n",
       "      <th></th>\n",
       "      <th></th>\n",
       "      <th></th>\n",
       "      <th></th>\n",
       "    </tr>\n",
       "  </thead>\n",
       "  <tbody>\n",
       "    <tr>\n",
       "      <th>1000264</th>\n",
       "      <td>1000264</td>\n",
       "      <td>1000264</td>\n",
       "      <td>0</td>\n",
       "      <td>0</td>\n",
       "      <td>0</td>\n",
       "      <td>0</td>\n",
       "    </tr>\n",
       "    <tr>\n",
       "      <th>1000380</th>\n",
       "      <td>1000380</td>\n",
       "      <td>1000380</td>\n",
       "      <td>0</td>\n",
       "      <td>1</td>\n",
       "      <td>1</td>\n",
       "      <td>0</td>\n",
       "    </tr>\n",
       "    <tr>\n",
       "      <th>1000544</th>\n",
       "      <td>1000544</td>\n",
       "      <td>1000544</td>\n",
       "      <td>0</td>\n",
       "      <td>0</td>\n",
       "      <td>0</td>\n",
       "      <td>0</td>\n",
       "    </tr>\n",
       "    <tr>\n",
       "      <th>1000706</th>\n",
       "      <td>1000706</td>\n",
       "      <td>1000706</td>\n",
       "      <td>0</td>\n",
       "      <td>0</td>\n",
       "      <td>0</td>\n",
       "      <td>0</td>\n",
       "    </tr>\n",
       "    <tr>\n",
       "      <th>1000892</th>\n",
       "      <td>1000892</td>\n",
       "      <td>1000892</td>\n",
       "      <td>0</td>\n",
       "      <td>0</td>\n",
       "      <td>1</td>\n",
       "      <td>0</td>\n",
       "    </tr>\n",
       "  </tbody>\n",
       "</table>\n",
       "</div>"
      ],
      "text/plain": [
       "             FID      IID  130706  130708  130792  2443\n",
       "userID                                                 \n",
       "1000264  1000264  1000264       0       0       0     0\n",
       "1000380  1000380  1000380       0       1       1     0\n",
       "1000544  1000544  1000544       0       0       0     0\n",
       "1000706  1000706  1000706       0       0       0     0\n",
       "1000892  1000892  1000892       0       0       1     0"
      ]
     },
     "execution_count": 9,
     "metadata": {},
     "output_type": "execute_result"
    }
   ],
   "source": [
    "samp = pd.read_csv(\"../tmp/samples_in_200k_exomes.csv\")\n",
    "df = df.loc[samp.column,:]\n",
    "df.head()"
   ]
  },
  {
   "cell_type": "code",
   "execution_count": 10,
   "id": "e475d7cf",
   "metadata": {},
   "outputs": [],
   "source": [
    "df.to_csv(\n",
    "    f\"../tmp/{PHENOTYPE}.{TRAIT}.final.tsv\",\n",
    "    sep=\"\\t\",\n",
    "    na_rep=\"NA\",\n",
    "    index=False,\n",
    ")"
   ]
  },
  {
   "cell_type": "code",
   "execution_count": 11,
   "id": "47f798de",
   "metadata": {},
   "outputs": [
    {
     "data": {
      "text/plain": [
       "CompletedProcess(args=['dx', 'upload', '../tmp/metabolic.BT.final.tsv', '--path', 'Data/phenotypes/'], returncode=0)"
      ]
     },
     "execution_count": 11,
     "metadata": {},
     "output_type": "execute_result"
    }
   ],
   "source": [
    "subprocess.run(\n",
    "    [\"dx\", \"upload\", f\"../tmp/{PHENOTYPE}.{TRAIT}.final.tsv\", \"--path\", \"Data/phenotypes/\"],\n",
    "    check=True,\n",
    "    shell=False,\n",
    ")"
   ]
  }
 ],
 "metadata": {
  "kernelspec": {
   "display_name": "Python 3",
   "language": "python",
   "name": "python3"
  },
  "language_info": {
   "codemirror_mode": {
    "name": "ipython",
    "version": 3
   },
   "file_extension": ".py",
   "mimetype": "text/x-python",
   "name": "python",
   "nbconvert_exporter": "python",
   "pygments_lexer": "ipython3",
   "version": "3.6.5"
  }
 },
 "nbformat": 4,
 "nbformat_minor": 5
}

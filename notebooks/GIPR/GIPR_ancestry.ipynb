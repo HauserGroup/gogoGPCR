{
 "cells": [
  {
   "cell_type": "code",
   "execution_count": 1,
   "id": "e1014f8c",
   "metadata": {},
   "outputs": [],
   "source": [
    "# Python\n",
    "import subprocess\n",
    "from distutils.version import LooseVersion\n",
    "\n",
    "import dxdata\n",
    "import dxpy\n",
    "import pyspark\n",
    "from pyspark.sql import functions as F\n",
    "from pyspark.sql.types import IntegerType, FloatType"
   ]
  },
  {
   "cell_type": "code",
   "execution_count": 2,
   "id": "0cfb4873",
   "metadata": {},
   "outputs": [],
   "source": [
    "sc = pyspark.SparkContext()\n",
    "spark = pyspark.sql.SparkSession(sc)\n",
    "\n",
    "dispensed_database_name = dxpy.find_one_data_object(\n",
    "    classname=\"database\", name=\"app*\", folder=\"/\", name_mode=\"glob\", describe=True\n",
    ")[\"describe\"][\"name\"]\n",
    "dispensed_dataset_id = dxpy.find_one_data_object(\n",
    "    typename=\"Dataset\", name=\"app*.dataset\", folder=\"/\", name_mode=\"glob\"\n",
    ")[\"id\"]\n",
    "\n",
    "dataset = dxdata.load_dataset(id=dispensed_dataset_id)\n",
    "participant = dataset[\"participant\"]\n",
    "\n",
    "\n",
    "def fields_for_id(field_id):\n",
    "\n",
    "    field_id = str(field_id)\n",
    "    fields = participant.find_fields(\n",
    "        name_regex=r\"^p{}(_i\\d+)?(_a\\d+)?$\".format(field_id)\n",
    "    )\n",
    "\n",
    "    return sorted(fields, key=lambda f: LooseVersion(f.name))"
   ]
  },
  {
   "cell_type": "code",
   "execution_count": 17,
   "id": "ec802ee8",
   "metadata": {},
   "outputs": [],
   "source": [
    "pcs_fields = [\"eid\"] + [field.name for field in fields_for_id(\"22009\")]\n",
    "\n",
    "df = participant.retrieve_fields(\n",
    "    names=pcs_fields, engine=dxdata.connect(), coding_values=\"raw\"\n",
    ")\n",
    "\n",
    "df = df.na.drop(how=\"any\")"
   ]
  },
  {
   "cell_type": "code",
   "execution_count": 19,
   "id": "cf77aadf",
   "metadata": {},
   "outputs": [],
   "source": [
    "df.coalesce(1).write.csv(\n",
    "    \"/tmp/pcs.csv\",\n",
    "    sep=\",\",\n",
    "    header=True,\n",
    ")"
   ]
  },
  {
   "cell_type": "code",
   "execution_count": 21,
   "id": "57856617",
   "metadata": {},
   "outputs": [
    {
     "data": {
      "text/plain": [
       "CompletedProcess(args=['hadoop', 'fs', '-getmerge', '/tmp/pcs.tsv', 'pcs.tsv'], returncode=0)"
      ]
     },
     "execution_count": 21,
     "metadata": {},
     "output_type": "execute_result"
    }
   ],
   "source": [
    "subprocess.run(\n",
    "    [\"hadoop\", \"fs\", \"-getmerge\", \"/tmp/pcs.csv\", \"pcs.csv\"],\n",
    "    check=True,\n",
    "    shell=False,\n",
    ")"
   ]
  },
  {
   "cell_type": "code",
   "execution_count": 1,
   "id": "4078c7a3",
   "metadata": {},
   "outputs": [
    {
     "name": "stderr",
     "output_type": "stream",
     "text": [
      "Installing package into ‘/usr/local/lib/R/site-library’\n",
      "(as ‘lib’ is unspecified)\n",
      "\n",
      "also installing the dependencies ‘bigassertr’, ‘parallelly’\n",
      "\n",
      "\n"
     ]
    }
   ],
   "source": [
    "# R\n",
    "# https://github.com/privefl/UKBB-PGS\n",
    "install.packages(\"bigreadr\")"
   ]
  },
  {
   "cell_type": "code",
   "execution_count": 23,
   "id": "f58f1bae",
   "metadata": {},
   "outputs": [
    {
     "data": {
      "text/plain": [
       "group\n",
       "     Ashkenazi      Caribbean          China          India           Iran \n",
       "          2500           2653           1852           6718           1234 \n",
       "         Italy        Nigeria         Poland United Kingdom           <NA> \n",
       "          6818           4085           4311         446606          11394 "
      ]
     },
     "metadata": {},
     "output_type": "display_data"
    }
   ],
   "source": [
    "# Also R\n",
    "PC_UKBB <- bigreadr::fread2(\"pcs.csv\",   select = c(\"eid\", paste0(\"p22009_a\", 1:16)))\n",
    "all_centers <- read.csv(\n",
    "  \"https://raw.githubusercontent.com/privefl/UKBB-PGS/main/pop_centers.csv\",\n",
    "  stringsAsFactors = FALSE)\n",
    "all_sq_dist <- apply(all_centers[-1], 1, function(one_center) {\n",
    "  rowSums(sweep(PC_UKBB[-1], 2, one_center, '-')^2)\n",
    "})\n",
    "thr_sq_dist <- max(dist(all_centers[-1])^2) * 0.002 / 0.16\n",
    "group <- apply(all_sq_dist, 1, function(x) {\n",
    "  grp <- NA\n",
    "  ind <- which.min(x)\n",
    "  if (isTRUE(x[ind] < thr_sq_dist)) {\n",
    "    grp <- all_centers$Ancestry[ind]\n",
    "    # We used a more stringent cutoff for the Ashkenazi group\n",
    "    if (grp == \"Ashkenazi\" && x[ind] > 12.5^2) grp <- NA\n",
    "  }\n",
    "  grp\n",
    "})\n",
    "table(group, exclude = NULL)"
   ]
  },
  {
   "cell_type": "code",
   "execution_count": 25,
   "id": "7c52c00d",
   "metadata": {},
   "outputs": [],
   "source": [
    "# Still R\n",
    "df <- data.frame(PC_UKBB$eid, group)\n",
    "write.csv(df, \"ancestry.csv\")"
   ]
  },
  {
   "cell_type": "code",
   "execution_count": 26,
   "id": "90ed881f",
   "metadata": {},
   "outputs": [],
   "source": []
  },
  {
   "cell_type": "code",
   "execution_count": null,
   "id": "7b71fd0c",
   "metadata": {},
   "outputs": [],
   "source": []
  }
 ],
 "metadata": {
  "kernelspec": {
   "display_name": "R",
   "language": "R",
   "name": "ir"
  },
  "language_info": {
   "codemirror_mode": "r",
   "file_extension": ".r",
   "mimetype": "text/x-r-source",
   "name": "R",
   "pygments_lexer": "r",
   "version": "4.1.3"
  }
 },
 "nbformat": 4,
 "nbformat_minor": 5
}
